{
 "cells": [
  {
   "cell_type": "markdown",
   "id": "6f6fdf6e",
   "metadata": {},
   "source": [
    "# Noise Removal (remoção de ruído)"
   ]
  },
  {
   "cell_type": "markdown",
   "id": "a856f8ff",
   "metadata": {},
   "source": [
    "## Conteúdo\n",
    "\n",
    " - [01 - Introdução ao Noise Removal (remoção de ruído)](#intro)\n",
    " - [02 - Introdução ao método sub() da biblioteca re (regular expression)](#re-sub)\n",
    " - [03 - Removendo espaços em branco](#white-spaces)\n",
    " - [04 - Removendo pontuações](#punctuation)"
   ]
  },
  {
   "cell_type": "markdown",
   "id": "2807ce29",
   "metadata": {},
   "source": [
    "<div id=\"intro\"></div>\n",
    "\n",
    "## 01 - Introdução ao Noise Removal\n",
    "\n",
    "> No processamento de linguagem natural, o **Noise Removal (remoção de ruído)** é uma tarefa de pré-processamento de texto dedicada a retirar a formatação do texto.\n",
    "\n",
    "A limpeza de texto é uma técnica que os desenvolvedores usam em vários domínios. Dependendo do objetivo do seu projeto e de onde você obtém seus dados, você pode remover informações indesejadas, como:\n",
    "\n",
    " - Pontuação e acentos;\n",
    " - Caracteres especiais;\n",
    " - Dígitos numéricos;\n",
    " - Espaço em branco inicial, final e vertical\n",
    " - Formatação HTML"
   ]
  },
  {
   "cell_type": "code",
   "execution_count": null,
   "id": "b823d6f5",
   "metadata": {},
   "outputs": [],
   "source": []
  }
 ],
 "metadata": {
  "kernelspec": {
   "display_name": "Python 3 (ipykernel)",
   "language": "python",
   "name": "python3"
  },
  "language_info": {
   "codemirror_mode": {
    "name": "ipython",
    "version": 3
   },
   "file_extension": ".py",
   "mimetype": "text/x-python",
   "name": "python",
   "nbconvert_exporter": "python",
   "pygments_lexer": "ipython3",
   "version": "3.9.7"
  }
 },
 "nbformat": 4,
 "nbformat_minor": 5
}
