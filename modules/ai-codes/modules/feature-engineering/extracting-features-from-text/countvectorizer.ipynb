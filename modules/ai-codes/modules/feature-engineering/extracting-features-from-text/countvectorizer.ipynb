{
 "cells": [
  {
   "cell_type": "markdown",
   "id": "9a1082bc",
   "metadata": {},
   "source": [
    "# CountVectorizer"
   ]
  },
  {
   "cell_type": "markdown",
   "id": "0a8143fe",
   "metadata": {},
   "source": [
    "# 01 - Introdução ao CountVectorizer\n",
    "> O **\"CountVectorizer\"** é utilizado para transformar palavras em vetores numéricos. **What?**\n",
    "\n",
    "Não sei se vocês sabem, mas modelos de Machine Learning na sua maior parte aprendem a partir de dados numéricos. Por exemplo, para aprender padrões em uma imagem modelos de Machine Learning utilizam os pixels da imagem que podem ser representado por um vetor numérico.\n",
    "\n",
    "**NOTE:**  \n",
    "Mas, como transformar textos em números? Uma abordagem (que é a qual o CountVectorizer utiliza) é contar quantas vezes cada palavra aparece em um texto.\n",
    "\n",
    "Por exemplo, imagine que nós temos o seguinte texto (uma única amostra):\n"
   ]
  },
  {
   "cell_type": "code",
   "execution_count": 1,
   "id": "279a17e7",
   "metadata": {},
   "outputs": [],
   "source": [
    "doc = [\"One Cent, Two Cents, Old Cent, New Cent: All About Money\"]"
   ]
  },
  {
   "cell_type": "markdown",
   "id": "36a949ce",
   "metadata": {},
   "source": [
    "O método **\"CountVectorizer\"** converteria essa amostra da seguinte maneira:"
   ]
  },
  {
   "cell_type": "markdown",
   "id": "6a0e5400",
   "metadata": {},
   "source": [
    "![img](images/cv-01.png)"
   ]
  },
  {
   "cell_type": "markdown",
   "id": "7bfe8aaf",
   "metadata": {},
   "source": [
    "**NOTE:**  \n",
    "Vejam que inicialmente nós tinhamos palavras; Depois essas palavras foram numerizadas (você pode ver nas colunas); E por fim, nós contamos quantas vezes cada palavra apareceu.\n",
    "\n",
    "> Esse formato utilizado para armazenar essa representação é o mesmo que uma **Matriz Esparsa**."
   ]
  },
  {
   "cell_type": "markdown",
   "id": "e4232234",
   "metadata": {},
   "source": [
    "---"
   ]
  },
  {
   "cell_type": "markdown",
   "id": "8a10f4c8",
   "metadata": {},
   "source": [
    "# 02 - CountVectorizer com Scikit-Learn"
   ]
  },
  {
   "cell_type": "markdown",
   "id": "fd9b7fdb",
   "metadata": {},
   "source": [
    "## 02.1 - Interpretando uma Matriz esparsa feita com CountVectorizer\n",
    "Como nós sabemos o resultado de um Pré-Processamento de texto feito com **CountVectorizer** é uma **Matriz Esparsa**. Agora nós vamos aprender os conceitos básicos de como interpretar essa Matriz.\n",
    "\n",
    "Vamos começar aplicando **CountVectorizer** nas nossas amostras textuais:"
   ]
  },
  {
   "cell_type": "code",
   "execution_count": 2,
   "id": "b6f612a7",
   "metadata": {},
   "outputs": [],
   "source": [
    "from sklearn.feature_extraction.text import CountVectorizer\n",
    "import pandas as pd\n",
    "\n",
    "pd.options.display.max_colwidth = 200\n",
    "\n",
    "docs_samples = [\n",
    "  \"One Cent, Two Cents, Old Cent, New Cent: All About Money (Cat in the Hat's Learning Library)\",\n",
    "  \"Inside Your Outside: All About the Human Body (Cat in the Hat's Learning Library)\",\n",
    "  \"Oh, The Things You Can Do That Are Good for You: All About Staying Healthy (Cat in the Hat's Learning Library)\",\n",
    "  \"On Beyond Bugs: All About Insects (Cat in the Hat's Learning Library)\",\n",
    "  \"There's No Place Like Space: All About Our Solar System (Cat in the Hat's Learning Library)\" \n",
    "]\n",
    "\n",
    "df = pd.DataFrame(docs_samples, columns=[\"Text\"])\n",
    "\n",
    "vectorizer = CountVectorizer() # Instance.\n",
    "df_vectorized = vectorizer.fit_transform(df['Text'])"
   ]
  },
  {
   "cell_type": "markdown",
   "id": "a0391b1c",
   "metadata": {},
   "source": [
    "**NOTE:**  \n",
    "A primeira coisa que vocês tem que ter em mente agora é que nós não temos mas um DataFrame Pandas. Nós agora temos uma **Matriz Esparsa** *(feita com SciPy/Processo feito internamente pelo Scikit-Learn)*."
   ]
  },
  {
   "cell_type": "code",
   "execution_count": 3,
   "id": "5db80eac",
   "metadata": {},
   "outputs": [
    {
     "data": {
      "text/plain": [
       "scipy.sparse.csr.csr_matrix"
      ]
     },
     "execution_count": 3,
     "metadata": {},
     "output_type": "execute_result"
    }
   ],
   "source": [
    "type(df_vectorized)"
   ]
  },
  {
   "cell_type": "markdown",
   "id": "508ac9a1",
   "metadata": {},
   "source": [
    "Ok, agora vamos analisar nosso objeto **\"df_vectorized\"**:"
   ]
  },
  {
   "cell_type": "code",
   "execution_count": 4,
   "id": "769a1b0a",
   "metadata": {},
   "outputs": [
    {
     "data": {
      "text/plain": [
       "<5x43 sparse matrix of type '<class 'numpy.int64'>'\n",
       "\twith 75 stored elements in Compressed Sparse Row format>"
      ]
     },
     "execution_count": 4,
     "metadata": {},
     "output_type": "execute_result"
    }
   ],
   "source": [
    "df_vectorized"
   ]
  },
  {
   "cell_type": "markdown",
   "id": "a26f3a3d",
   "metadata": {},
   "source": [
    "Interpretando a saída acima nós temos:\n",
    " - **5x43:**\n",
    "   - 5 amotras;\n",
    "   - 43 palavras únicas (cada uma vai ser uma coluna na nossa matriz esparsa)\n",
    " - **75 stored elements:**\n",
    "   - Nós temos 43 palavras únicas, onde, cada uma vai ser uma coluna da **Matriz Esparsa**, porém, no total nós temos 75 palavras (elementos), entre, todas as amostras (5)."
   ]
  },
  {
   "cell_type": "markdown",
   "id": "8da82ec4",
   "metadata": {},
   "source": [
    "**NOTE:**  \n",
    "Tem como ver essa matriz em um formato de **Matriz Esparsa**? Claro!"
   ]
  },
  {
   "cell_type": "code",
   "execution_count": 5,
   "id": "2d6fccfd",
   "metadata": {},
   "outputs": [
    {
     "name": "stdout",
     "output_type": "stream",
     "text": [
      "  (0, 28)\t1\n",
      "  (0, 8)\t3\n",
      "  (0, 40)\t1\n",
      "  (0, 9)\t1\n",
      "  (0, 26)\t1\n",
      "  (0, 23)\t1\n",
      "  (0, 1)\t1\n",
      "  (0, 0)\t1\n",
      "  (0, 22)\t1\n",
      "  (0, 7)\t1\n",
      "  (0, 16)\t1\n",
      "  (0, 37)\t1\n",
      "  (0, 13)\t1\n",
      "  (0, 19)\t1\n",
      "  (0, 20)\t1\n",
      "  (1, 1)\t1\n",
      "  (1, 0)\t1\n",
      "  (1, 7)\t1\n",
      "  (1, 16)\t1\n",
      "  (1, 37)\t2\n",
      "  (1, 13)\t1\n",
      "  (1, 19)\t1\n",
      "  (1, 20)\t1\n",
      "  (1, 18)\t1\n",
      "  (1, 42)\t1\n",
      "  :\t:\n",
      "  (3, 16)\t1\n",
      "  (3, 37)\t1\n",
      "  (3, 13)\t1\n",
      "  (3, 19)\t1\n",
      "  (3, 20)\t1\n",
      "  (3, 27)\t1\n",
      "  (3, 3)\t1\n",
      "  (3, 5)\t1\n",
      "  (3, 17)\t1\n",
      "  (4, 1)\t1\n",
      "  (4, 0)\t1\n",
      "  (4, 7)\t1\n",
      "  (4, 16)\t1\n",
      "  (4, 37)\t1\n",
      "  (4, 13)\t1\n",
      "  (4, 19)\t1\n",
      "  (4, 20)\t1\n",
      "  (4, 38)\t1\n",
      "  (4, 24)\t1\n",
      "  (4, 31)\t1\n",
      "  (4, 21)\t1\n",
      "  (4, 33)\t1\n",
      "  (4, 29)\t1\n",
      "  (4, 32)\t1\n",
      "  (4, 35)\t1\n"
     ]
    }
   ],
   "source": [
    "print(df_vectorized)"
   ]
  },
  {
   "cell_type": "markdown",
   "id": "3ec7b226",
   "metadata": {},
   "source": [
    "Interpretando a saída acima nós temos:\n",
    " - **Temos uma tupla (row, colum):**\n",
    "   - Essa tupla basicamente vai representar um mapeamento da nossa **Matriz Esparsa** para uma **Matriz Densa**.\n",
    " - **Temos o valor referente a esse mapeamento.**\n",
    "\n",
    "**NOTE:**  \n",
    "Ok, mas como eu posso ver quais são as 43 palavras únicas (cada uma em uma coluna na nossa matriz esparsa)? Para isso, nós vamos utilizar o método **get_feature_names_out()** que fica na instância do objeto **CountVectorizer**:\n",
    "\n",
    "```python\n",
    "vectorizer = CountVectorizer() # Instance.\n",
    "```"
   ]
  },
  {
   "cell_type": "code",
   "execution_count": 6,
   "id": "f9d554e4",
   "metadata": {},
   "outputs": [
    {
     "data": {
      "text/plain": [
       "array(['about', 'all', 'are', 'beyond', 'body', 'bugs', 'can', 'cat',\n",
       "       'cent', 'cents', 'do', 'for', 'good', 'hat', 'healthy', 'human',\n",
       "       'in', 'insects', 'inside', 'learning', 'library', 'like', 'money',\n",
       "       'new', 'no', 'oh', 'old', 'on', 'one', 'our', 'outside', 'place',\n",
       "       'solar', 'space', 'staying', 'system', 'that', 'the', 'there',\n",
       "       'things', 'two', 'you', 'your'], dtype=object)"
      ]
     },
     "execution_count": 6,
     "metadata": {},
     "output_type": "execute_result"
    }
   ],
   "source": [
    "vectorizer.get_feature_names_out()"
   ]
  },
  {
   "cell_type": "markdown",
   "id": "4dcec5ba",
   "metadata": {},
   "source": [
    "**NOTE:**  \n",
    "A primeira observação aqui é que por padrão (default) o objeto **CountVectorizer** aplica um *Pré-Processamento* transformando todas as palavras em minúscula **(lowercase)**.\n",
    "\n",
    "**Continuando...**  \n",
    "Vejam, que nós temos como saída uma lista com todas as features (que antes eram palavras em um texto e agora features únicas) que foram mapeadas para a nossa **Matriz Esparsa**."
   ]
  },
  {
   "cell_type": "markdown",
   "id": "ba6dc577",
   "metadata": {},
   "source": [
    "**Interpretando um dos mapeamentos da Matriz Esparsa:**  \n",
    "Se vocẽ olhar para o exemplo **(0, 8)\t3** nós temo que:\n",
    " - Na linha zero (primeira amostra);\n",
    " - Coluna 8 (vai ser a 9 visto que começamos do zero);\n",
    " - Temos um elemento aparecendo 3 vezes.\n",
    "\n",
    "> **Mas que elemento é esse?**\n",
    "\n",
    "**NOTE:**  \n",
    "Lembram que nós temos o método **get_feature_names_out()** que nós retorna uma lista com cada palavra como uma feature? Então, se você procurar o oitavo (8) elemento (começando do zero é claro) você vai encontrar o elemento **\"cent\"**. Ou seja, na primeira amostra o elemento (palavra) **\"cent\"** aparece 3 vezes."
   ]
  },
  {
   "cell_type": "code",
   "execution_count": 7,
   "id": "53fad13c",
   "metadata": {},
   "outputs": [],
   "source": [
    "feature_names = vectorizer.get_feature_names_out()"
   ]
  },
  {
   "cell_type": "code",
   "execution_count": 8,
   "id": "f2a59ce2",
   "metadata": {},
   "outputs": [
    {
     "data": {
      "text/plain": [
       "'cent'"
      ]
     },
     "execution_count": 8,
     "metadata": {},
     "output_type": "execute_result"
    }
   ],
   "source": [
    "feature_names[8]"
   ]
  },
  {
   "cell_type": "markdown",
   "id": "34727703",
   "metadata": {},
   "source": [
    "**NOTE:**  \n",
    "Agora para finalizar essas interpretações vamos criar um DataFrame, onde:\n",
    " - Cada coluna (feature) vai ser uma das palavras únicas, entre as 5 amostras;\n",
    " - Cada linha vai ser referente a um documento (corpus/amostra);\n",
    " - Por fim, nós vamos ter uma relação entre documento (corpus/amostra) e quantas vezes cada termo (palavra) aparece em determinado documento (corpus/amostra)."
   ]
  },
  {
   "cell_type": "code",
   "execution_count": 9,
   "id": "fd828e13",
   "metadata": {},
   "outputs": [
    {
     "data": {
      "text/html": [
       "<div>\n",
       "<style scoped>\n",
       "    .dataframe tbody tr th:only-of-type {\n",
       "        vertical-align: middle;\n",
       "    }\n",
       "\n",
       "    .dataframe tbody tr th {\n",
       "        vertical-align: top;\n",
       "    }\n",
       "\n",
       "    .dataframe thead th {\n",
       "        text-align: right;\n",
       "    }\n",
       "</style>\n",
       "<table border=\"1\" class=\"dataframe\">\n",
       "  <thead>\n",
       "    <tr style=\"text-align: right;\">\n",
       "      <th></th>\n",
       "      <th>about</th>\n",
       "      <th>all</th>\n",
       "      <th>are</th>\n",
       "      <th>beyond</th>\n",
       "      <th>body</th>\n",
       "      <th>bugs</th>\n",
       "      <th>can</th>\n",
       "      <th>cat</th>\n",
       "      <th>cent</th>\n",
       "      <th>cents</th>\n",
       "      <th>...</th>\n",
       "      <th>space</th>\n",
       "      <th>staying</th>\n",
       "      <th>system</th>\n",
       "      <th>that</th>\n",
       "      <th>the</th>\n",
       "      <th>there</th>\n",
       "      <th>things</th>\n",
       "      <th>two</th>\n",
       "      <th>you</th>\n",
       "      <th>your</th>\n",
       "    </tr>\n",
       "  </thead>\n",
       "  <tbody>\n",
       "    <tr>\n",
       "      <th>One Cent, Two Cents, Old Cent, New Cent: All About Money (Cat in the Hat's Learning Library)</th>\n",
       "      <td>1</td>\n",
       "      <td>1</td>\n",
       "      <td>0</td>\n",
       "      <td>0</td>\n",
       "      <td>0</td>\n",
       "      <td>0</td>\n",
       "      <td>0</td>\n",
       "      <td>1</td>\n",
       "      <td>3</td>\n",
       "      <td>1</td>\n",
       "      <td>...</td>\n",
       "      <td>0</td>\n",
       "      <td>0</td>\n",
       "      <td>0</td>\n",
       "      <td>0</td>\n",
       "      <td>1</td>\n",
       "      <td>0</td>\n",
       "      <td>0</td>\n",
       "      <td>1</td>\n",
       "      <td>0</td>\n",
       "      <td>0</td>\n",
       "    </tr>\n",
       "    <tr>\n",
       "      <th>Inside Your Outside: All About the Human Body (Cat in the Hat's Learning Library)</th>\n",
       "      <td>1</td>\n",
       "      <td>1</td>\n",
       "      <td>0</td>\n",
       "      <td>0</td>\n",
       "      <td>1</td>\n",
       "      <td>0</td>\n",
       "      <td>0</td>\n",
       "      <td>1</td>\n",
       "      <td>0</td>\n",
       "      <td>0</td>\n",
       "      <td>...</td>\n",
       "      <td>0</td>\n",
       "      <td>0</td>\n",
       "      <td>0</td>\n",
       "      <td>0</td>\n",
       "      <td>2</td>\n",
       "      <td>0</td>\n",
       "      <td>0</td>\n",
       "      <td>0</td>\n",
       "      <td>0</td>\n",
       "      <td>1</td>\n",
       "    </tr>\n",
       "    <tr>\n",
       "      <th>Oh, The Things You Can Do That Are Good for You: All About Staying Healthy (Cat in the Hat's Learning Library)</th>\n",
       "      <td>1</td>\n",
       "      <td>1</td>\n",
       "      <td>1</td>\n",
       "      <td>0</td>\n",
       "      <td>0</td>\n",
       "      <td>0</td>\n",
       "      <td>1</td>\n",
       "      <td>1</td>\n",
       "      <td>0</td>\n",
       "      <td>0</td>\n",
       "      <td>...</td>\n",
       "      <td>0</td>\n",
       "      <td>1</td>\n",
       "      <td>0</td>\n",
       "      <td>1</td>\n",
       "      <td>2</td>\n",
       "      <td>0</td>\n",
       "      <td>1</td>\n",
       "      <td>0</td>\n",
       "      <td>2</td>\n",
       "      <td>0</td>\n",
       "    </tr>\n",
       "    <tr>\n",
       "      <th>On Beyond Bugs: All About Insects (Cat in the Hat's Learning Library)</th>\n",
       "      <td>1</td>\n",
       "      <td>1</td>\n",
       "      <td>0</td>\n",
       "      <td>1</td>\n",
       "      <td>0</td>\n",
       "      <td>1</td>\n",
       "      <td>0</td>\n",
       "      <td>1</td>\n",
       "      <td>0</td>\n",
       "      <td>0</td>\n",
       "      <td>...</td>\n",
       "      <td>0</td>\n",
       "      <td>0</td>\n",
       "      <td>0</td>\n",
       "      <td>0</td>\n",
       "      <td>1</td>\n",
       "      <td>0</td>\n",
       "      <td>0</td>\n",
       "      <td>0</td>\n",
       "      <td>0</td>\n",
       "      <td>0</td>\n",
       "    </tr>\n",
       "    <tr>\n",
       "      <th>There's No Place Like Space: All About Our Solar System (Cat in the Hat's Learning Library)</th>\n",
       "      <td>1</td>\n",
       "      <td>1</td>\n",
       "      <td>0</td>\n",
       "      <td>0</td>\n",
       "      <td>0</td>\n",
       "      <td>0</td>\n",
       "      <td>0</td>\n",
       "      <td>1</td>\n",
       "      <td>0</td>\n",
       "      <td>0</td>\n",
       "      <td>...</td>\n",
       "      <td>1</td>\n",
       "      <td>0</td>\n",
       "      <td>1</td>\n",
       "      <td>0</td>\n",
       "      <td>1</td>\n",
       "      <td>1</td>\n",
       "      <td>0</td>\n",
       "      <td>0</td>\n",
       "      <td>0</td>\n",
       "      <td>0</td>\n",
       "    </tr>\n",
       "  </tbody>\n",
       "</table>\n",
       "<p>5 rows × 43 columns</p>\n",
       "</div>"
      ],
      "text/plain": [
       "                                                                                                                about  \\\n",
       "One Cent, Two Cents, Old Cent, New Cent: All About Money (Cat in the Hat's Learning Library)                        1   \n",
       "Inside Your Outside: All About the Human Body (Cat in the Hat's Learning Library)                                   1   \n",
       "Oh, The Things You Can Do That Are Good for You: All About Staying Healthy (Cat in the Hat's Learning Library)      1   \n",
       "On Beyond Bugs: All About Insects (Cat in the Hat's Learning Library)                                               1   \n",
       "There's No Place Like Space: All About Our Solar System (Cat in the Hat's Learning Library)                         1   \n",
       "\n",
       "                                                                                                                all  \\\n",
       "One Cent, Two Cents, Old Cent, New Cent: All About Money (Cat in the Hat's Learning Library)                      1   \n",
       "Inside Your Outside: All About the Human Body (Cat in the Hat's Learning Library)                                 1   \n",
       "Oh, The Things You Can Do That Are Good for You: All About Staying Healthy (Cat in the Hat's Learning Library)    1   \n",
       "On Beyond Bugs: All About Insects (Cat in the Hat's Learning Library)                                             1   \n",
       "There's No Place Like Space: All About Our Solar System (Cat in the Hat's Learning Library)                       1   \n",
       "\n",
       "                                                                                                                are  \\\n",
       "One Cent, Two Cents, Old Cent, New Cent: All About Money (Cat in the Hat's Learning Library)                      0   \n",
       "Inside Your Outside: All About the Human Body (Cat in the Hat's Learning Library)                                 0   \n",
       "Oh, The Things You Can Do That Are Good for You: All About Staying Healthy (Cat in the Hat's Learning Library)    1   \n",
       "On Beyond Bugs: All About Insects (Cat in the Hat's Learning Library)                                             0   \n",
       "There's No Place Like Space: All About Our Solar System (Cat in the Hat's Learning Library)                       0   \n",
       "\n",
       "                                                                                                                beyond  \\\n",
       "One Cent, Two Cents, Old Cent, New Cent: All About Money (Cat in the Hat's Learning Library)                         0   \n",
       "Inside Your Outside: All About the Human Body (Cat in the Hat's Learning Library)                                    0   \n",
       "Oh, The Things You Can Do That Are Good for You: All About Staying Healthy (Cat in the Hat's Learning Library)       0   \n",
       "On Beyond Bugs: All About Insects (Cat in the Hat's Learning Library)                                                1   \n",
       "There's No Place Like Space: All About Our Solar System (Cat in the Hat's Learning Library)                          0   \n",
       "\n",
       "                                                                                                                body  \\\n",
       "One Cent, Two Cents, Old Cent, New Cent: All About Money (Cat in the Hat's Learning Library)                       0   \n",
       "Inside Your Outside: All About the Human Body (Cat in the Hat's Learning Library)                                  1   \n",
       "Oh, The Things You Can Do That Are Good for You: All About Staying Healthy (Cat in the Hat's Learning Library)     0   \n",
       "On Beyond Bugs: All About Insects (Cat in the Hat's Learning Library)                                              0   \n",
       "There's No Place Like Space: All About Our Solar System (Cat in the Hat's Learning Library)                        0   \n",
       "\n",
       "                                                                                                                bugs  \\\n",
       "One Cent, Two Cents, Old Cent, New Cent: All About Money (Cat in the Hat's Learning Library)                       0   \n",
       "Inside Your Outside: All About the Human Body (Cat in the Hat's Learning Library)                                  0   \n",
       "Oh, The Things You Can Do That Are Good for You: All About Staying Healthy (Cat in the Hat's Learning Library)     0   \n",
       "On Beyond Bugs: All About Insects (Cat in the Hat's Learning Library)                                              1   \n",
       "There's No Place Like Space: All About Our Solar System (Cat in the Hat's Learning Library)                        0   \n",
       "\n",
       "                                                                                                                can  \\\n",
       "One Cent, Two Cents, Old Cent, New Cent: All About Money (Cat in the Hat's Learning Library)                      0   \n",
       "Inside Your Outside: All About the Human Body (Cat in the Hat's Learning Library)                                 0   \n",
       "Oh, The Things You Can Do That Are Good for You: All About Staying Healthy (Cat in the Hat's Learning Library)    1   \n",
       "On Beyond Bugs: All About Insects (Cat in the Hat's Learning Library)                                             0   \n",
       "There's No Place Like Space: All About Our Solar System (Cat in the Hat's Learning Library)                       0   \n",
       "\n",
       "                                                                                                                cat  \\\n",
       "One Cent, Two Cents, Old Cent, New Cent: All About Money (Cat in the Hat's Learning Library)                      1   \n",
       "Inside Your Outside: All About the Human Body (Cat in the Hat's Learning Library)                                 1   \n",
       "Oh, The Things You Can Do That Are Good for You: All About Staying Healthy (Cat in the Hat's Learning Library)    1   \n",
       "On Beyond Bugs: All About Insects (Cat in the Hat's Learning Library)                                             1   \n",
       "There's No Place Like Space: All About Our Solar System (Cat in the Hat's Learning Library)                       1   \n",
       "\n",
       "                                                                                                                cent  \\\n",
       "One Cent, Two Cents, Old Cent, New Cent: All About Money (Cat in the Hat's Learning Library)                       3   \n",
       "Inside Your Outside: All About the Human Body (Cat in the Hat's Learning Library)                                  0   \n",
       "Oh, The Things You Can Do That Are Good for You: All About Staying Healthy (Cat in the Hat's Learning Library)     0   \n",
       "On Beyond Bugs: All About Insects (Cat in the Hat's Learning Library)                                              0   \n",
       "There's No Place Like Space: All About Our Solar System (Cat in the Hat's Learning Library)                        0   \n",
       "\n",
       "                                                                                                                cents  \\\n",
       "One Cent, Two Cents, Old Cent, New Cent: All About Money (Cat in the Hat's Learning Library)                        1   \n",
       "Inside Your Outside: All About the Human Body (Cat in the Hat's Learning Library)                                   0   \n",
       "Oh, The Things You Can Do That Are Good for You: All About Staying Healthy (Cat in the Hat's Learning Library)      0   \n",
       "On Beyond Bugs: All About Insects (Cat in the Hat's Learning Library)                                               0   \n",
       "There's No Place Like Space: All About Our Solar System (Cat in the Hat's Learning Library)                         0   \n",
       "\n",
       "                                                                                                                ...  \\\n",
       "One Cent, Two Cents, Old Cent, New Cent: All About Money (Cat in the Hat's Learning Library)                    ...   \n",
       "Inside Your Outside: All About the Human Body (Cat in the Hat's Learning Library)                               ...   \n",
       "Oh, The Things You Can Do That Are Good for You: All About Staying Healthy (Cat in the Hat's Learning Library)  ...   \n",
       "On Beyond Bugs: All About Insects (Cat in the Hat's Learning Library)                                           ...   \n",
       "There's No Place Like Space: All About Our Solar System (Cat in the Hat's Learning Library)                     ...   \n",
       "\n",
       "                                                                                                                space  \\\n",
       "One Cent, Two Cents, Old Cent, New Cent: All About Money (Cat in the Hat's Learning Library)                        0   \n",
       "Inside Your Outside: All About the Human Body (Cat in the Hat's Learning Library)                                   0   \n",
       "Oh, The Things You Can Do That Are Good for You: All About Staying Healthy (Cat in the Hat's Learning Library)      0   \n",
       "On Beyond Bugs: All About Insects (Cat in the Hat's Learning Library)                                               0   \n",
       "There's No Place Like Space: All About Our Solar System (Cat in the Hat's Learning Library)                         1   \n",
       "\n",
       "                                                                                                                staying  \\\n",
       "One Cent, Two Cents, Old Cent, New Cent: All About Money (Cat in the Hat's Learning Library)                          0   \n",
       "Inside Your Outside: All About the Human Body (Cat in the Hat's Learning Library)                                     0   \n",
       "Oh, The Things You Can Do That Are Good for You: All About Staying Healthy (Cat in the Hat's Learning Library)        1   \n",
       "On Beyond Bugs: All About Insects (Cat in the Hat's Learning Library)                                                 0   \n",
       "There's No Place Like Space: All About Our Solar System (Cat in the Hat's Learning Library)                           0   \n",
       "\n",
       "                                                                                                                system  \\\n",
       "One Cent, Two Cents, Old Cent, New Cent: All About Money (Cat in the Hat's Learning Library)                         0   \n",
       "Inside Your Outside: All About the Human Body (Cat in the Hat's Learning Library)                                    0   \n",
       "Oh, The Things You Can Do That Are Good for You: All About Staying Healthy (Cat in the Hat's Learning Library)       0   \n",
       "On Beyond Bugs: All About Insects (Cat in the Hat's Learning Library)                                                0   \n",
       "There's No Place Like Space: All About Our Solar System (Cat in the Hat's Learning Library)                          1   \n",
       "\n",
       "                                                                                                                that  \\\n",
       "One Cent, Two Cents, Old Cent, New Cent: All About Money (Cat in the Hat's Learning Library)                       0   \n",
       "Inside Your Outside: All About the Human Body (Cat in the Hat's Learning Library)                                  0   \n",
       "Oh, The Things You Can Do That Are Good for You: All About Staying Healthy (Cat in the Hat's Learning Library)     1   \n",
       "On Beyond Bugs: All About Insects (Cat in the Hat's Learning Library)                                              0   \n",
       "There's No Place Like Space: All About Our Solar System (Cat in the Hat's Learning Library)                        0   \n",
       "\n",
       "                                                                                                                the  \\\n",
       "One Cent, Two Cents, Old Cent, New Cent: All About Money (Cat in the Hat's Learning Library)                      1   \n",
       "Inside Your Outside: All About the Human Body (Cat in the Hat's Learning Library)                                 2   \n",
       "Oh, The Things You Can Do That Are Good for You: All About Staying Healthy (Cat in the Hat's Learning Library)    2   \n",
       "On Beyond Bugs: All About Insects (Cat in the Hat's Learning Library)                                             1   \n",
       "There's No Place Like Space: All About Our Solar System (Cat in the Hat's Learning Library)                       1   \n",
       "\n",
       "                                                                                                                there  \\\n",
       "One Cent, Two Cents, Old Cent, New Cent: All About Money (Cat in the Hat's Learning Library)                        0   \n",
       "Inside Your Outside: All About the Human Body (Cat in the Hat's Learning Library)                                   0   \n",
       "Oh, The Things You Can Do That Are Good for You: All About Staying Healthy (Cat in the Hat's Learning Library)      0   \n",
       "On Beyond Bugs: All About Insects (Cat in the Hat's Learning Library)                                               0   \n",
       "There's No Place Like Space: All About Our Solar System (Cat in the Hat's Learning Library)                         1   \n",
       "\n",
       "                                                                                                                things  \\\n",
       "One Cent, Two Cents, Old Cent, New Cent: All About Money (Cat in the Hat's Learning Library)                         0   \n",
       "Inside Your Outside: All About the Human Body (Cat in the Hat's Learning Library)                                    0   \n",
       "Oh, The Things You Can Do That Are Good for You: All About Staying Healthy (Cat in the Hat's Learning Library)       1   \n",
       "On Beyond Bugs: All About Insects (Cat in the Hat's Learning Library)                                                0   \n",
       "There's No Place Like Space: All About Our Solar System (Cat in the Hat's Learning Library)                          0   \n",
       "\n",
       "                                                                                                                two  \\\n",
       "One Cent, Two Cents, Old Cent, New Cent: All About Money (Cat in the Hat's Learning Library)                      1   \n",
       "Inside Your Outside: All About the Human Body (Cat in the Hat's Learning Library)                                 0   \n",
       "Oh, The Things You Can Do That Are Good for You: All About Staying Healthy (Cat in the Hat's Learning Library)    0   \n",
       "On Beyond Bugs: All About Insects (Cat in the Hat's Learning Library)                                             0   \n",
       "There's No Place Like Space: All About Our Solar System (Cat in the Hat's Learning Library)                       0   \n",
       "\n",
       "                                                                                                                you  \\\n",
       "One Cent, Two Cents, Old Cent, New Cent: All About Money (Cat in the Hat's Learning Library)                      0   \n",
       "Inside Your Outside: All About the Human Body (Cat in the Hat's Learning Library)                                 0   \n",
       "Oh, The Things You Can Do That Are Good for You: All About Staying Healthy (Cat in the Hat's Learning Library)    2   \n",
       "On Beyond Bugs: All About Insects (Cat in the Hat's Learning Library)                                             0   \n",
       "There's No Place Like Space: All About Our Solar System (Cat in the Hat's Learning Library)                       0   \n",
       "\n",
       "                                                                                                                your  \n",
       "One Cent, Two Cents, Old Cent, New Cent: All About Money (Cat in the Hat's Learning Library)                       0  \n",
       "Inside Your Outside: All About the Human Body (Cat in the Hat's Learning Library)                                  1  \n",
       "Oh, The Things You Can Do That Are Good for You: All About Staying Healthy (Cat in the Hat's Learning Library)     0  \n",
       "On Beyond Bugs: All About Insects (Cat in the Hat's Learning Library)                                              0  \n",
       "There's No Place Like Space: All About Our Solar System (Cat in the Hat's Learning Library)                        0  \n",
       "\n",
       "[5 rows x 43 columns]"
      ]
     },
     "execution_count": 9,
     "metadata": {},
     "output_type": "execute_result"
    }
   ],
   "source": [
    "df_processed = pd.DataFrame(\n",
    "  df_vectorized.todense(),\n",
    "  index=docs_samples,\n",
    "  columns=feature_names\n",
    ")\n",
    "df_processed.head()"
   ]
  },
  {
   "cell_type": "markdown",
   "id": "1cbdc947",
   "metadata": {},
   "source": [
    "---"
   ]
  },
  {
   "cell_type": "markdown",
   "id": "bdb5f8d1",
   "metadata": {},
   "source": [
    "## 02.2 - Diferença entre os métodos fit() transform() & fit_transform()\n",
    "Até então nós estavamos utilizando o método **fit_transform()** da classe **CountVectorizer**. Agora, nós vamos entender as diferenças entre os métodos:\n",
    " - fit()\n",
    " - transform()\n",
    " - fit_transform()"
   ]
  },
  {
   "cell_type": "markdown",
   "id": "657d448a",
   "metadata": {},
   "source": [
    "### 02.2.1 - Método fit()\n",
    "Para entender vamos continuar com o nosso exemplo anterior, porém, utilizando apenas o método **fit()**:"
   ]
  },
  {
   "cell_type": "code",
   "execution_count": 10,
   "id": "3302adaa",
   "metadata": {},
   "outputs": [],
   "source": [
    "from sklearn.feature_extraction.text import CountVectorizer\n",
    "import pandas as pd\n",
    "\n",
    "pd.options.display.max_colwidth = 200\n",
    "\n",
    "docs_samples = [\n",
    "  \"One Cent, Two Cents, Old Cent, New Cent: All About Money (Cat in the Hat's Learning Library)\",\n",
    "  \"Inside Your Outside: All About the Human Body (Cat in the Hat's Learning Library)\",\n",
    "  \"Oh, The Things You Can Do That Are Good for You: All About Staying Healthy (Cat in the Hat's Learning Library)\",\n",
    "  \"On Beyond Bugs: All About Insects (Cat in the Hat's Learning Library)\",\n",
    "  \"There's No Place Like Space: All About Our Solar System (Cat in the Hat's Learning Library)\" \n",
    "]\n",
    "\n",
    "df = pd.DataFrame(docs_samples, columns=[\"Text\"])\n",
    "\n",
    "vectorizer = CountVectorizer() # Instance.\n",
    "fit_result = vectorizer.fit(df['Text'])"
   ]
  },
  {
   "cell_type": "markdown",
   "id": "72ccc6a1",
   "metadata": {},
   "source": [
    "**Para começar será que o nosso objeto *vectorizer/CountVectorizer* aprendeu/vetorizou (fit) as palavras únicas(features)? Vamos ver...**"
   ]
  },
  {
   "cell_type": "code",
   "execution_count": 11,
   "id": "64633f7a",
   "metadata": {},
   "outputs": [
    {
     "data": {
      "text/plain": [
       "array(['about', 'all', 'are', 'beyond', 'body', 'bugs', 'can', 'cat',\n",
       "       'cent', 'cents', 'do', 'for', 'good', 'hat', 'healthy', 'human',\n",
       "       'in', 'insects', 'inside', 'learning', 'library', 'like', 'money',\n",
       "       'new', 'no', 'oh', 'old', 'on', 'one', 'our', 'outside', 'place',\n",
       "       'solar', 'space', 'staying', 'system', 'that', 'the', 'there',\n",
       "       'things', 'two', 'you', 'your'], dtype=object)"
      ]
     },
     "execution_count": 11,
     "metadata": {},
     "output_type": "execute_result"
    }
   ],
   "source": [
    "vectorizer.get_feature_names_out()"
   ]
  },
  {
   "cell_type": "markdown",
   "id": "7afbd72f",
   "metadata": {},
   "source": [
    "**Ótimo, conseguimos vetorizar... Agora vem a pergunta:**  \n",
    "\n",
    "> O que tem a nossa variável **fit_result**? \n",
    "\n",
    "Bem, vamos fazer alguns testes:"
   ]
  },
  {
   "cell_type": "code",
   "execution_count": 12,
   "id": "84e120af",
   "metadata": {},
   "outputs": [
    {
     "data": {
      "text/plain": [
       "CountVectorizer()"
      ]
     },
     "execution_count": 12,
     "metadata": {},
     "output_type": "execute_result"
    }
   ],
   "source": [
    "fit_result"
   ]
  },
  {
   "cell_type": "code",
   "execution_count": 13,
   "id": "97af7650",
   "metadata": {},
   "outputs": [
    {
     "name": "stdout",
     "output_type": "stream",
     "text": [
      "CountVectorizer()\n"
     ]
    }
   ],
   "source": [
    "print(fit_result)"
   ]
  },
  {
   "cell_type": "markdown",
   "id": "465d6e70",
   "metadata": {},
   "source": [
    "**Ok, temos algo do objeto (classe) *CountVectorizer*, mas que tipo é esse \"algo\"?**"
   ]
  },
  {
   "cell_type": "code",
   "execution_count": 14,
   "id": "90f6ff78",
   "metadata": {},
   "outputs": [
    {
     "data": {
      "text/plain": [
       "sklearn.feature_extraction.text.CountVectorizer"
      ]
     },
     "execution_count": 14,
     "metadata": {},
     "output_type": "execute_result"
    }
   ],
   "source": [
    "type(fit_result)"
   ]
  },
  {
   "cell_type": "markdown",
   "id": "feee3826",
   "metadata": {},
   "source": [
    "**NOTE:**  \n",
    "Ué, não deveríamos ter uma Matriz Esparsa SciPy como antes?"
   ]
  },
  {
   "cell_type": "markdown",
   "id": "6e82a858",
   "metadata": {},
   "source": [
    "### 02.2.2 - Método transform()\n",
    "Bem, na verdade o método **fit()** *aprendeu* como fazer isso, porém, nossa *Matriz Esparsa* ainda não esta pronta (montada). Para isso vamos utilizar o método **transform()**:"
   ]
  },
  {
   "cell_type": "code",
   "execution_count": 15,
   "id": "2e08ad80",
   "metadata": {},
   "outputs": [],
   "source": [
    "transform_result = vectorizer.transform(df['Text'])"
   ]
  },
  {
   "cell_type": "code",
   "execution_count": 16,
   "id": "167664ad",
   "metadata": {},
   "outputs": [
    {
     "data": {
      "text/plain": [
       "<5x43 sparse matrix of type '<class 'numpy.int64'>'\n",
       "\twith 75 stored elements in Compressed Sparse Row format>"
      ]
     },
     "execution_count": 16,
     "metadata": {},
     "output_type": "execute_result"
    }
   ],
   "source": [
    "transform_result"
   ]
  },
  {
   "cell_type": "code",
   "execution_count": 17,
   "id": "fc9f91c7",
   "metadata": {},
   "outputs": [
    {
     "name": "stdout",
     "output_type": "stream",
     "text": [
      "  (0, 0)\t1\n",
      "  (0, 1)\t1\n",
      "  (0, 7)\t1\n",
      "  (0, 8)\t3\n",
      "  (0, 9)\t1\n",
      "  (0, 13)\t1\n",
      "  (0, 16)\t1\n",
      "  (0, 19)\t1\n",
      "  (0, 20)\t1\n",
      "  (0, 22)\t1\n",
      "  (0, 23)\t1\n",
      "  (0, 26)\t1\n",
      "  (0, 28)\t1\n",
      "  (0, 37)\t1\n",
      "  (0, 40)\t1\n",
      "  (1, 0)\t1\n",
      "  (1, 1)\t1\n",
      "  (1, 4)\t1\n",
      "  (1, 7)\t1\n",
      "  (1, 13)\t1\n",
      "  (1, 15)\t1\n",
      "  (1, 16)\t1\n",
      "  (1, 18)\t1\n",
      "  (1, 19)\t1\n",
      "  (1, 20)\t1\n",
      "  :\t:\n",
      "  (3, 5)\t1\n",
      "  (3, 7)\t1\n",
      "  (3, 13)\t1\n",
      "  (3, 16)\t1\n",
      "  (3, 17)\t1\n",
      "  (3, 19)\t1\n",
      "  (3, 20)\t1\n",
      "  (3, 27)\t1\n",
      "  (3, 37)\t1\n",
      "  (4, 0)\t1\n",
      "  (4, 1)\t1\n",
      "  (4, 7)\t1\n",
      "  (4, 13)\t1\n",
      "  (4, 16)\t1\n",
      "  (4, 19)\t1\n",
      "  (4, 20)\t1\n",
      "  (4, 21)\t1\n",
      "  (4, 24)\t1\n",
      "  (4, 29)\t1\n",
      "  (4, 31)\t1\n",
      "  (4, 32)\t1\n",
      "  (4, 33)\t1\n",
      "  (4, 35)\t1\n",
      "  (4, 37)\t1\n",
      "  (4, 38)\t1\n"
     ]
    }
   ],
   "source": [
    "print(transform_result)"
   ]
  },
  {
   "cell_type": "markdown",
   "id": "c93dcdca",
   "metadata": {},
   "source": [
    "**NOTE:**  \n",
    "Ótimo, agora sim ele transformou (montou a matriz esparsa) o que aprendeu (calculou) no método **fit()**.\n",
    "\n",
    "Vamos conferir o tipo?"
   ]
  },
  {
   "cell_type": "code",
   "execution_count": 18,
   "id": "7e1433de",
   "metadata": {},
   "outputs": [
    {
     "data": {
      "text/plain": [
       "scipy.sparse.csr.csr_matrix"
      ]
     },
     "execution_count": 18,
     "metadata": {},
     "output_type": "execute_result"
    }
   ],
   "source": [
    "type(transform_result)"
   ]
  },
  {
   "cell_type": "markdown",
   "id": "ad5b8f4f",
   "metadata": {},
   "source": [
    "**NOTE:**  \n",
    "Como podem ver agora sim, ele **transformou (transform)** nossos textos em uma vetorização (Matriz Esparsa)."
   ]
  },
  {
   "cell_type": "markdown",
   "id": "239ef03b",
   "metadata": {},
   "source": [
    "**NOTE:**  \n",
    "E se eu quiser só transformar os dados com o método **transform()** sem antes aplicar o **método fit()**?"
   ]
  },
  {
   "cell_type": "code",
   "execution_count": 19,
   "id": "a0c151b9",
   "metadata": {},
   "outputs": [],
   "source": [
    "from sklearn.feature_extraction.text import CountVectorizer\n",
    "import pandas as pd\n",
    "\n",
    "pd.options.display.max_colwidth = 200\n",
    "\n",
    "docs_samples = [\n",
    "  \"One Cent, Two Cents, Old Cent, New Cent: All About Money (Cat in the Hat's Learning Library)\",\n",
    "  \"Inside Your Outside: All About the Human Body (Cat in the Hat's Learning Library)\",\n",
    "  \"Oh, The Things You Can Do That Are Good for You: All About Staying Healthy (Cat in the Hat's Learning Library)\",\n",
    "  \"On Beyond Bugs: All About Insects (Cat in the Hat's Learning Library)\",\n",
    "  \"There's No Place Like Space: All About Our Solar System (Cat in the Hat's Learning Library)\" \n",
    "]\n",
    "\n",
    "df = pd.DataFrame(docs_samples, columns=[\"Text\"])\n",
    "\n",
    "vectorizer_two = CountVectorizer() # Instance.\n",
    "transform_result_two = vectorizer_two.fit(df['Text'])"
   ]
  },
  {
   "cell_type": "code",
   "execution_count": 20,
   "id": "cbadb2b6",
   "metadata": {},
   "outputs": [
    {
     "data": {
      "text/plain": [
       "CountVectorizer()"
      ]
     },
     "execution_count": 20,
     "metadata": {},
     "output_type": "execute_result"
    }
   ],
   "source": [
    "transform_result_two"
   ]
  },
  {
   "cell_type": "code",
   "execution_count": 21,
   "id": "4fe92316",
   "metadata": {},
   "outputs": [
    {
     "name": "stdout",
     "output_type": "stream",
     "text": [
      "CountVectorizer()\n"
     ]
    }
   ],
   "source": [
    "print(transform_result_two)"
   ]
  },
  {
   "cell_type": "code",
   "execution_count": 22,
   "id": "1aa5799c",
   "metadata": {},
   "outputs": [
    {
     "data": {
      "text/plain": [
       "sklearn.feature_extraction.text.CountVectorizer"
      ]
     },
     "execution_count": 22,
     "metadata": {},
     "output_type": "execute_result"
    }
   ],
   "source": [
    "type(transform_result_two)"
   ]
  },
  {
   "cell_type": "code",
   "execution_count": 23,
   "id": "7ac0f15a",
   "metadata": {},
   "outputs": [
    {
     "data": {
      "text/plain": [
       "array(['about', 'all', 'are', 'beyond', 'body', 'bugs', 'can', 'cat',\n",
       "       'cent', 'cents', 'do', 'for', 'good', 'hat', 'healthy', 'human',\n",
       "       'in', 'insects', 'inside', 'learning', 'library', 'like', 'money',\n",
       "       'new', 'no', 'oh', 'old', 'on', 'one', 'our', 'outside', 'place',\n",
       "       'solar', 'space', 'staying', 'system', 'that', 'the', 'there',\n",
       "       'things', 'two', 'you', 'your'], dtype=object)"
      ]
     },
     "execution_count": 23,
     "metadata": {},
     "output_type": "execute_result"
    }
   ],
   "source": [
    "vectorizer_two.get_feature_names_out()"
   ]
  },
  {
   "cell_type": "markdown",
   "id": "0e2a67a9",
   "metadata": {},
   "source": [
    "**NOTE:**  \n",
    "Vejam que nós temos as palavras únicas (features), mas ele não aprendeu (fit) o suficiente para depois transformar em uma **Matriz Esparsa**.\n",
    "\n",
    "**NOTE:**  \n",
    "> Outra observação é que o método **transform()** é mais utilizado em dados de *teste*, os quais não necessita aprender nada."
   ]
  },
  {
   "cell_type": "markdown",
   "id": "e661bc28",
   "metadata": {},
   "source": [
    "### 02.2.3 - Método fit_transform()\n",
    "\n",
    "> Resumidamente, o método **fit_transform()** é a sequência do método **fit()** e depois o **transform()**, porém, o Scikit-Learn faz isso sozinho utilizando uma maneira **mais eficiente** do que fazer os 2 separadamente."
   ]
  },
  {
   "cell_type": "markdown",
   "id": "414c1ba2",
   "metadata": {},
   "source": [
    "---"
   ]
  },
  {
   "cell_type": "markdown",
   "id": "1c03b55a",
   "metadata": {},
   "source": [
    "## 02.3 - Convertendo a nossa Matriz Esparsa em uma Matriz Densa\n",
    "> Ok, mas como eu vejo essa **Matriz Esparsa** em um formato de **Matriz Densa**?\n",
    "\n",
    "Simples, para isso nós podemos utilizar 2 métodos:\n",
    " - toarray()\n",
    " - todense()"
   ]
  },
  {
   "cell_type": "code",
   "execution_count": 24,
   "id": "64014de5",
   "metadata": {},
   "outputs": [
    {
     "data": {
      "text/plain": [
       "array([[1, 1, 0, 0, 0, 0, 0, 1, 3, 1, 0, 0, 0, 1, 0, 0, 1, 0, 0, 1, 1, 0,\n",
       "        1, 1, 0, 0, 1, 0, 1, 0, 0, 0, 0, 0, 0, 0, 0, 1, 0, 0, 1, 0, 0],\n",
       "       [1, 1, 0, 0, 1, 0, 0, 1, 0, 0, 0, 0, 0, 1, 0, 1, 1, 0, 1, 1, 1, 0,\n",
       "        0, 0, 0, 0, 0, 0, 0, 0, 1, 0, 0, 0, 0, 0, 0, 2, 0, 0, 0, 0, 1],\n",
       "       [1, 1, 1, 0, 0, 0, 1, 1, 0, 0, 1, 1, 1, 1, 1, 0, 1, 0, 0, 1, 1, 0,\n",
       "        0, 0, 0, 1, 0, 0, 0, 0, 0, 0, 0, 0, 1, 0, 1, 2, 0, 1, 0, 2, 0],\n",
       "       [1, 1, 0, 1, 0, 1, 0, 1, 0, 0, 0, 0, 0, 1, 0, 0, 1, 1, 0, 1, 1, 0,\n",
       "        0, 0, 0, 0, 0, 1, 0, 0, 0, 0, 0, 0, 0, 0, 0, 1, 0, 0, 0, 0, 0],\n",
       "       [1, 1, 0, 0, 0, 0, 0, 1, 0, 0, 0, 0, 0, 1, 0, 0, 1, 0, 0, 1, 1, 1,\n",
       "        0, 0, 1, 0, 0, 0, 0, 1, 0, 1, 1, 1, 0, 1, 0, 1, 1, 0, 0, 0, 0]],\n",
       "      dtype=int64)"
      ]
     },
     "execution_count": 24,
     "metadata": {},
     "output_type": "execute_result"
    }
   ],
   "source": [
    "df_vectorized.toarray()"
   ]
  },
  {
   "cell_type": "code",
   "execution_count": 25,
   "id": "069dd53a",
   "metadata": {},
   "outputs": [
    {
     "data": {
      "text/plain": [
       "matrix([[1, 1, 0, 0, 0, 0, 0, 1, 3, 1, 0, 0, 0, 1, 0, 0, 1, 0, 0, 1, 1,\n",
       "         0, 1, 1, 0, 0, 1, 0, 1, 0, 0, 0, 0, 0, 0, 0, 0, 1, 0, 0, 1, 0,\n",
       "         0],\n",
       "        [1, 1, 0, 0, 1, 0, 0, 1, 0, 0, 0, 0, 0, 1, 0, 1, 1, 0, 1, 1, 1,\n",
       "         0, 0, 0, 0, 0, 0, 0, 0, 0, 1, 0, 0, 0, 0, 0, 0, 2, 0, 0, 0, 0,\n",
       "         1],\n",
       "        [1, 1, 1, 0, 0, 0, 1, 1, 0, 0, 1, 1, 1, 1, 1, 0, 1, 0, 0, 1, 1,\n",
       "         0, 0, 0, 0, 1, 0, 0, 0, 0, 0, 0, 0, 0, 1, 0, 1, 2, 0, 1, 0, 2,\n",
       "         0],\n",
       "        [1, 1, 0, 1, 0, 1, 0, 1, 0, 0, 0, 0, 0, 1, 0, 0, 1, 1, 0, 1, 1,\n",
       "         0, 0, 0, 0, 0, 0, 1, 0, 0, 0, 0, 0, 0, 0, 0, 0, 1, 0, 0, 0, 0,\n",
       "         0],\n",
       "        [1, 1, 0, 0, 0, 0, 0, 1, 0, 0, 0, 0, 0, 1, 0, 0, 1, 0, 0, 1, 1,\n",
       "         1, 0, 0, 1, 0, 0, 0, 0, 1, 0, 1, 1, 1, 0, 1, 0, 1, 1, 0, 0, 0,\n",
       "         0]], dtype=int64)"
      ]
     },
     "execution_count": 25,
     "metadata": {},
     "output_type": "execute_result"
    }
   ],
   "source": [
    "df_vectorized.todense()"
   ]
  },
  {
   "cell_type": "markdown",
   "id": "be53cade",
   "metadata": {},
   "source": [
    "**NOTE:**  \n",
    "Se você prestar bem atenção vai ver que nossa Matriz está no formato de uma lista de listas. Como assim? Vou refatorar ela para ficar mais claro para vocês..."
   ]
  },
  {
   "cell_type": "markdown",
   "id": "86f114c8",
   "metadata": {},
   "source": [
    "```python\n",
    "[\n",
    "  [1, 1, 0, 0, 0, 0, 0, 1, 3, 1, 0, 0, 0, 1, 0, 0, 1, 0, 0, 1, 1,\n",
    "   0, 1, 1, 0, 0, 1, 0, 1, 0, 0, 0, 0, 0, 0, 0, 0, 1, 0, 0, 1, 0,0],\n",
    "    \n",
    "  [1, 1, 0, 0, 1, 0, 0, 1, 0, 0, 0, 0, 0, 1, 0, 1, 1, 0, 1, 1, 1,\n",
    "   0, 0, 0, 0, 0, 0, 0, 0, 0, 1, 0, 0, 0, 0, 0, 0, 2, 0, 0, 0, 0,1],\n",
    "    \n",
    "  [1, 1, 1, 0, 0, 0, 1, 1, 0, 0, 1, 1, 1, 1, 1, 0, 1, 0, 0, 1, 1,\n",
    "   0, 0, 0, 0, 1, 0, 0, 0, 0, 0, 0, 0, 0, 1, 0, 1, 2, 0, 1, 0, 2,0],\n",
    "    \n",
    "  [1, 1, 0, 1, 0, 1, 0, 1, 0, 0, 0, 0, 0, 1, 0, 0, 1, 1, 0, 1, 1,\n",
    "   0, 0, 0, 0, 0, 0, 1, 0, 0, 0, 0, 0, 0, 0, 0, 0, 1, 0, 0, 0, 0,0],\n",
    "    \n",
    "  [1, 1, 0, 0, 0, 0, 0, 1, 0, 0, 0, 0, 0, 1, 0, 0, 1, 0, 0, 1, 1,\n",
    "   1, 0, 0, 1, 0, 0, 0, 0, 1, 0, 1, 1, 1, 0, 1, 0, 1, 1, 0, 0, 0,0]\n",
    "]\n",
    "```"
   ]
  },
  {
   "cell_type": "markdown",
   "id": "4e00adb5",
   "metadata": {},
   "source": [
    "**NOTE:**  \n",
    "Vejam que nós temos:\n",
    " - Uma lista (matriz);\n",
    " - com 5 listas dentro (nossas 5 amostras que foram vetorizadas)."
   ]
  },
  {
   "cell_type": "markdown",
   "id": "b17844c6",
   "metadata": {},
   "source": [
    "---"
   ]
  },
  {
   "cell_type": "markdown",
   "id": "07ba0bda",
   "metadata": {},
   "source": [
    "## 02.4 - Aplicando Stopword Removal (Remoção de palavras irrelevantes)\n",
    "\n",
    "> Outra vantagem de se trabalhar com **CountVectorizer** é que internamente ele tem alguns mecanismos de *Pré-Processamento de textos*.\n",
    "\n",
    "Por exemplo, se eu quiser aplicar **Stopword Removal (Remoção de palavras irrelevantes)**, basta na hora de instanciar nosso objeto **CountVectorizer** utilizar o parâmetro **stop_words**.\n",
    "\n",
    "**Vamos passo a passo novamente, primeiro vamos exibir nossas amostras:**"
   ]
  },
  {
   "cell_type": "code",
   "execution_count": 26,
   "id": "48a43df8",
   "metadata": {
    "scrolled": true
   },
   "outputs": [
    {
     "data": {
      "text/html": [
       "<div>\n",
       "<style scoped>\n",
       "    .dataframe tbody tr th:only-of-type {\n",
       "        vertical-align: middle;\n",
       "    }\n",
       "\n",
       "    .dataframe tbody tr th {\n",
       "        vertical-align: top;\n",
       "    }\n",
       "\n",
       "    .dataframe thead th {\n",
       "        text-align: right;\n",
       "    }\n",
       "</style>\n",
       "<table border=\"1\" class=\"dataframe\">\n",
       "  <thead>\n",
       "    <tr style=\"text-align: right;\">\n",
       "      <th></th>\n",
       "      <th>Text</th>\n",
       "    </tr>\n",
       "  </thead>\n",
       "  <tbody>\n",
       "    <tr>\n",
       "      <th>0</th>\n",
       "      <td>One Cent, Two Cents, Old Cent, New Cent: All About Money (Cat in the Hat's Learning Library)</td>\n",
       "    </tr>\n",
       "    <tr>\n",
       "      <th>1</th>\n",
       "      <td>Inside Your Outside: All About the Human Body (Cat in the Hat's Learning Library)</td>\n",
       "    </tr>\n",
       "    <tr>\n",
       "      <th>2</th>\n",
       "      <td>Oh, The Things You Can Do That Are Good for You: All About Staying Healthy (Cat in the Hat's Learning Library)</td>\n",
       "    </tr>\n",
       "    <tr>\n",
       "      <th>3</th>\n",
       "      <td>On Beyond Bugs: All About Insects (Cat in the Hat's Learning Library)</td>\n",
       "    </tr>\n",
       "    <tr>\n",
       "      <th>4</th>\n",
       "      <td>There's No Place Like Space: All About Our Solar System (Cat in the Hat's Learning Library)</td>\n",
       "    </tr>\n",
       "  </tbody>\n",
       "</table>\n",
       "</div>"
      ],
      "text/plain": [
       "                                                                                                             Text\n",
       "0                    One Cent, Two Cents, Old Cent, New Cent: All About Money (Cat in the Hat's Learning Library)\n",
       "1                               Inside Your Outside: All About the Human Body (Cat in the Hat's Learning Library)\n",
       "2  Oh, The Things You Can Do That Are Good for You: All About Staying Healthy (Cat in the Hat's Learning Library)\n",
       "3                                           On Beyond Bugs: All About Insects (Cat in the Hat's Learning Library)\n",
       "4                     There's No Place Like Space: All About Our Solar System (Cat in the Hat's Learning Library)"
      ]
     },
     "execution_count": 26,
     "metadata": {},
     "output_type": "execute_result"
    }
   ],
   "source": [
    "import pandas as pd\n",
    "\n",
    "pd.options.display.max_colwidth = 200\n",
    "\n",
    "stop_words_sample = [\n",
    "  \"One Cent, Two Cents, Old Cent, New Cent: All About Money (Cat in the Hat's Learning Library)\",\n",
    "  \"Inside Your Outside: All About the Human Body (Cat in the Hat's Learning Library)\",\n",
    "  \"Oh, The Things You Can Do That Are Good for You: All About Staying Healthy (Cat in the Hat's Learning Library)\",\n",
    "  \"On Beyond Bugs: All About Insects (Cat in the Hat's Learning Library)\",\n",
    "  \"There's No Place Like Space: All About Our Solar System (Cat in the Hat's Learning Library)\" \n",
    "]\n",
    "\n",
    "df_stop_words = pd.DataFrame(stop_words_sample, columns=[\"Text\"])\n",
    "df_stop_words.head()"
   ]
  },
  {
   "cell_type": "markdown",
   "id": "4494b27f",
   "metadata": {},
   "source": [
    "**Agora vamos vetorizar as amostras, porém, vamos criar 2 vetorizadores... Um com *StopWords* e outro sem.**"
   ]
  },
  {
   "cell_type": "code",
   "execution_count": 27,
   "id": "dcfa88f4",
   "metadata": {},
   "outputs": [
    {
     "data": {
      "text/plain": [
       "<5x24 sparse matrix of type '<class 'numpy.int64'>'\n",
       "\twith 40 stored elements in Compressed Sparse Row format>"
      ]
     },
     "execution_count": 27,
     "metadata": {},
     "output_type": "execute_result"
    }
   ],
   "source": [
    "vectorizer_stopwords   = CountVectorizer(stop_words=\"english\") # Instance with StopWords.\n",
    "vectorizer_stopwords.fit_transform(df['Text'])"
   ]
  },
  {
   "cell_type": "code",
   "execution_count": 28,
   "id": "2bcd87e0",
   "metadata": {},
   "outputs": [
    {
     "data": {
      "text/plain": [
       "<5x43 sparse matrix of type '<class 'numpy.int64'>'\n",
       "\twith 75 stored elements in Compressed Sparse Row format>"
      ]
     },
     "execution_count": 28,
     "metadata": {},
     "output_type": "execute_result"
    }
   ],
   "source": [
    "vectorizer_w_stopwords = CountVectorizer() # Instance without StopWords.\n",
    "vectorizer_w_stopwords.fit_transform(df['Text'])"
   ]
  },
  {
   "cell_type": "markdown",
   "id": "74356293",
   "metadata": {},
   "source": [
    "**NOTE:**  \n",
    "Olhando por alto e analisando as dimensões (shape) de como ficaram as matrizes já da para ver que quase a metade das palavras foram removidas."
   ]
  },
  {
   "cell_type": "markdown",
   "id": "f9fd2742",
   "metadata": {},
   "source": [
    "**Ok, mas como eu vejo a diferença entre essas 2 abordagens? Simples, vamos utilizar o método \"get_feature_names_out()\":**"
   ]
  },
  {
   "cell_type": "code",
   "execution_count": 29,
   "id": "5d99c932",
   "metadata": {},
   "outputs": [
    {
     "name": "stdout",
     "output_type": "stream",
     "text": [
      "['body' 'bugs' 'cat' 'cent' 'cents' 'good' 'hat' 'healthy' 'human'\n",
      " 'insects' 'inside' 'learning' 'library' 'like' 'money' 'new' 'oh' 'old'\n",
      " 'outside' 'place' 'solar' 'space' 'staying' 'things']\n",
      "(24,)\n"
     ]
    }
   ],
   "source": [
    "# StopWord approach.\n",
    "features_stopwords   = vectorizer_stopwords.get_feature_names_out()\n",
    "print(features_stopwords)\n",
    "print(features_stopwords.shape)"
   ]
  },
  {
   "cell_type": "code",
   "execution_count": 30,
   "id": "5f97a306",
   "metadata": {},
   "outputs": [
    {
     "name": "stdout",
     "output_type": "stream",
     "text": [
      "['about' 'all' 'are' 'beyond' 'body' 'bugs' 'can' 'cat' 'cent' 'cents'\n",
      " 'do' 'for' 'good' 'hat' 'healthy' 'human' 'in' 'insects' 'inside'\n",
      " 'learning' 'library' 'like' 'money' 'new' 'no' 'oh' 'old' 'on' 'one'\n",
      " 'our' 'outside' 'place' 'solar' 'space' 'staying' 'system' 'that' 'the'\n",
      " 'there' 'things' 'two' 'you' 'your']\n",
      "(43,)\n"
     ]
    }
   ],
   "source": [
    "features_w_stopwords = vectorizer_w_stopwords.get_feature_names_out()\n",
    "print(features_w_stopwords)\n",
    "print(features_w_stopwords.shape)"
   ]
  },
  {
   "cell_type": "markdown",
   "id": "9e16c536",
   "metadata": {},
   "source": [
    "---"
   ]
  },
  {
   "cell_type": "markdown",
   "id": "cabffa1f",
   "metadata": {},
   "source": [
    "## 02.5 - Utilizando os parâmetros min_df & max_df"
   ]
  },
  {
   "cell_type": "markdown",
   "id": "64d4e55a",
   "metadata": {},
   "source": [
    "### 02.5.1 - min_df\n",
    "\n",
    "> O objetivo do **min_df** é ignorar palavras que têm muito **poucas ocorrências (palavras raras)** para serem consideradas significativas.\n",
    "\n",
    "Os valores do parâmetro **min_df** podem ser:\n",
    "\n",
    " - **Absolutos:**\n",
    "   - Por exemplo, 1, 2, 3, 4, 5.\n",
    "   - **min_df = 5**, significa ignorar termos que aparecem em **menos de 5 documentos**.\n",
    "   - O padrão (default) é **min_df=1**, que significa ignorar termos que aparecem em **menos de 1 documento**. Assim, a configuração padrão não ignora nenhum termo.\n",
    " - **Ou valores que representam a proporção de documentos:**\n",
    "   - **min_df=0.01**, significa ignorar termos que aparecem em **menos de 1% dos documentos**.\n",
    "   - **min_idf=0.25**, significa ignorar termos que aparecem em **menos de 25% dos documentos**.;\n",
    "   - Para finalizar, **min_df=0.66**, exige que um termo apareça em **66%** dos documentos para que seja considerado parte do vocabulário.\n",
    "\n",
    "**NOTE:**  \n",
    "Às vezes, **min_df** é usado para limitar o tamanho do vocabulário, então ele aprende apenas os termos que aparecem em pelo menos **10%**, **20%**, etc. dos documentos."
   ]
  },
  {
   "cell_type": "markdown",
   "id": "f6537fbf",
   "metadata": {},
   "source": [
    "---"
   ]
  },
  {
   "cell_type": "markdown",
   "id": "3e333a1c",
   "metadata": {},
   "source": [
    "### 02.5.2 - max_df\n",
    "\n",
    "> O objetivo do **max_df** é remover termos que aparecem com **muita frequência** (também conhecidos como \"corpus-specific stop words\").\n",
    "\n",
    "Os valores do parâmetro **max_df** podem ser:\n",
    "\n",
    " - **Absolutos:**\n",
    "   - **max_df=25**, significa ignorar termos que aparecem em **mais de 25 documentos**.\n",
    "   - O padrão (default) é **max_df=1.0**, que significa ignorar termos que aparecem em **mais de 100% dos documentos**. Assim, a configuração padrão **não ignora nenhum termo**.\n",
    " - **Ou valores que representam a proporção de documentos:**\n",
    "   - **max_df=0.50**, significa ignorar termos que aparecem em **mais de 50% dos documentos**.\n",
    "\n",
    "**NOTE:**  \n",
    "Outro exemplo seria analisar as resenhas do filme O **Rei Leão (Lion King)**, o termo **'Leão (Lion)'** pode aparecer em **90%** das resenhas (documentos). Nesse caso, poderíamos considerar estabelecer **max_df=0,89**."
   ]
  },
  {
   "cell_type": "markdown",
   "id": "ebd31abc",
   "metadata": {},
   "source": [
    "---"
   ]
  },
  {
   "cell_type": "markdown",
   "id": "5f76a76c",
   "metadata": {},
   "source": [
    "### 02.5.3 - min_df vs. max_df\n",
    "\n",
    " - **min_df:**\n",
    "   - É utilizado para remover palavras com **poucas ocorrências/frequências** (palavras raras). \n",
    " - **max_df:**\n",
    "   - É utilizado para remover palavras com **muita ocorrências/frequências** (também conhecidos como \"corpus-specific stop words\")"
   ]
  },
  {
   "cell_type": "markdown",
   "id": "ff447d88",
   "metadata": {},
   "source": [
    "---"
   ]
  },
  {
   "cell_type": "markdown",
   "id": "03bd6774",
   "metadata": {},
   "source": [
    "## 02.6 - Diferença entre o método get_feature_names_out() e o atributo vocabulary_\n",
    "\n",
    "Resumidamente,\n",
    "\n",
    " - **O método get_feature_names_out():**\n",
    "   - Retorna o nome das palavras (features) únicas que foram vetorizadas.\n",
    " - **O atributo vocabulary_:**\n",
    "   - Retorna um mapeamento entre as palavras (features) únicas e suas posições (índices, coluna na matriz esparsa).\n",
    "\n",
    "Vejam os exemplos abaixo para ficar mais claro:"
   ]
  },
  {
   "cell_type": "code",
   "execution_count": 31,
   "id": "d1fc0f8a",
   "metadata": {},
   "outputs": [],
   "source": [
    "from sklearn.feature_extraction.text import CountVectorizer\n",
    "\n",
    "txt = [\n",
    "  \"He is ::having a great Time, at the park time?\",\n",
    "  \"She, unlike most women, is a big player on the park's grass.\",\n",
    "  \"she can't be going\"\n",
    "]\n",
    "\n",
    "# CountVectorizer instance.\n",
    "vectorizer = CountVectorizer(\n",
    "  stop_words=\"english\",\n",
    "  analyzer='word',\n",
    "  ngram_range=(1, 1),\n",
    "  max_df=1.0,\n",
    "  min_df=1,\n",
    "  max_features=None\n",
    ")\n",
    "\n",
    "txt_vectorized = vectorizer.fit(txt)"
   ]
  },
  {
   "cell_type": "code",
   "execution_count": 32,
   "id": "6ff269c5",
   "metadata": {},
   "outputs": [
    {
     "name": "stdout",
     "output_type": "stream",
     "text": [
      "Word sizer: 10\n",
      "Word Features:\n",
      " ['big' 'going' 'grass' 'great' 'having' 'park' 'player' 'time' 'unlike'\n",
      " 'women']\n"
     ]
    }
   ],
   "source": [
    "print(\"Word sizer: {}\".format(len(vectorizer.get_feature_names_out())))\n",
    "print(\"Word Features:\\n {}\".format(vectorizer.get_feature_names_out()))"
   ]
  },
  {
   "cell_type": "code",
   "execution_count": 33,
   "id": "76b0c104",
   "metadata": {},
   "outputs": [
    {
     "name": "stdout",
     "output_type": "stream",
     "text": [
      "Vocabulary size: 10\n",
      "Vocabulary content:\n",
      " {'having': 4, 'great': 3, 'time': 7, 'park': 5, 'unlike': 8, 'women': 9, 'big': 0, 'player': 6, 'grass': 2, 'going': 1}\n"
     ]
    }
   ],
   "source": [
    "print(\"Vocabulary size: {}\".format(len(txt_vectorized.vocabulary_)))\n",
    "print(\"Vocabulary content:\\n {}\".format(txt_vectorized.vocabulary_))"
   ]
  },
  {
   "cell_type": "markdown",
   "id": "96c4e99f",
   "metadata": {},
   "source": [
    "**NOTE:**  \n",
    "Vejam que:\n",
    " - Ambos tem o mesmo tamanho (size);\n",
    " - Se você comparar os índices da saída do método **get_feature_names_out()** com o atributo **vocabulary_** vão ser os mesmo (por isso, mapeamento).\n",
    "\n",
    "**NOTE:**  \n",
    "Para finalizar, vejam que nós estamos utilizando o método **fit()** da classe **CountVectorizer**."
   ]
  },
  {
   "cell_type": "markdown",
   "id": "86df6f2e",
   "metadata": {},
   "source": [
    "---"
   ]
  },
  {
   "cell_type": "markdown",
   "id": "83d512b2",
   "metadata": {},
   "source": [
    "## 02.7 - Utilizando o parâmetro max_feature\n",
    "\n",
    "> O parâmetro **max_feature** é utilizado para limitar a quantidade de features (palavras únicas) que o vetorizador aprenderá.\n",
    "\n",
    "Vamos ver isso na prática:"
   ]
  },
  {
   "cell_type": "code",
   "execution_count": 34,
   "id": "048d853a",
   "metadata": {},
   "outputs": [
    {
     "name": "stdout",
     "output_type": "stream",
     "text": [
      "All Features:\n",
      " ['big' 'going' 'grass' 'great' 'having' 'park' 'player' 'time' 'unlike'\n",
      " 'women']\n",
      "\n",
      "First 4 Features:\n",
      " ['big' 'going' 'park' 'time']\n"
     ]
    }
   ],
   "source": [
    "from sklearn.feature_extraction.text import CountVectorizer\n",
    "\n",
    "txt = [\n",
    "  \"He is ::having a great Time, at the park time?\",\n",
    "  \"She, unlike most women, is a big player on the park's grass.\",\n",
    "  \"she can't be going\"\n",
    "]\n",
    "\n",
    "# All Features.\n",
    "vectorizer_all_features = CountVectorizer(\n",
    "  stop_words=\"english\",\n",
    "  analyzer='word',\n",
    "  ngram_range=(1, 1),\n",
    "  max_df=1.0,\n",
    "  min_df=1,\n",
    "  max_features=None\n",
    ")\n",
    "\n",
    "# All Features.\n",
    "vectorizer_4_features = CountVectorizer(\n",
    "  stop_words=\"english\",\n",
    "  analyzer='word',\n",
    "  ngram_range=(1, 1),\n",
    "  max_df=1.0,\n",
    "  min_df=1,\n",
    "  max_features=4\n",
    ")\n",
    "\n",
    "all_features = vectorizer_all_features.fit(txt)\n",
    "print(\"All Features:\\n\", vectorizer_all_features.get_feature_names_out())\n",
    "\n",
    "first_4_features = vectorizer_4_features.fit(txt)\n",
    "print(\"\\nFirst 4 Features:\\n\", vectorizer_4_features.get_feature_names_out())"
   ]
  },
  {
   "cell_type": "markdown",
   "id": "5441fb43",
   "metadata": {},
   "source": [
    "**NOTE:**  \n",
    "Olhando para as saídas acima nós temos que:\n",
    " - **max_features=None**\n",
    "   - Não limita o número de features (palavras únicas), ou seja, ele aprende todas possíveis.\n",
    " - **max_features=4**\n",
    "   - limita no máximo 4 features.\n",
    "\n",
    "**NOTE:**  \n",
    "O padrão (default) é **None**. Ou seja, aprende o máximo de features (palavras únicas) possíveis."
   ]
  },
  {
   "cell_type": "markdown",
   "id": "b22e5712",
   "metadata": {},
   "source": [
    "---"
   ]
  },
  {
   "cell_type": "markdown",
   "id": "ebeb26fd",
   "metadata": {},
   "source": [
    "## 02.8 - Objeto vectorizer = CountVectorizer()\n",
    "\n",
    "Só para finalizar uma coisa que vocês tem que ter em mente é que tudo fica salvo na instância **vectorizer = CountVectorizer()**. É lá onde, ele aprende (fit) e transformar (transform). E nós apenas salvamos tudo isso em variáveis, mas nós poderíamos fazer tudo lá mesmo dentro da instância.\n",
    "\n",
    "Por exemplo:"
   ]
  },
  {
   "cell_type": "code",
   "execution_count": 35,
   "id": "9195350c",
   "metadata": {},
   "outputs": [],
   "source": [
    "vectorizer = CountVectorizer() # Instance."
   ]
  },
  {
   "cell_type": "code",
   "execution_count": 36,
   "id": "269d90f4",
   "metadata": {},
   "outputs": [
    {
     "data": {
      "text/plain": [
       "CountVectorizer()"
      ]
     },
     "execution_count": 36,
     "metadata": {},
     "output_type": "execute_result"
    }
   ],
   "source": [
    "vectorizer.fit(df['Text'])"
   ]
  },
  {
   "cell_type": "code",
   "execution_count": 37,
   "id": "23234d67",
   "metadata": {},
   "outputs": [
    {
     "data": {
      "text/plain": [
       "<5x43 sparse matrix of type '<class 'numpy.int64'>'\n",
       "\twith 75 stored elements in Compressed Sparse Row format>"
      ]
     },
     "execution_count": 37,
     "metadata": {},
     "output_type": "execute_result"
    }
   ],
   "source": [
    "vectorizer.transform(df['Text'])"
   ]
  },
  {
   "cell_type": "markdown",
   "id": "35973a40",
   "metadata": {},
   "source": [
    "**NOTE:**  \n",
    "Vejam que nós não salvamos o resultado em nada, apenas, fizemos o objeto **CountVectorizer** *aprender (fit)* e depois *transformamos (transform)* o que ele aprendeu em uma *Matriz Esparsa*, tudo isso internamente no objeto."
   ]
  },
  {
   "cell_type": "markdown",
   "id": "3c19e007",
   "metadata": {},
   "source": [
    "---"
   ]
  },
  {
   "cell_type": "markdown",
   "id": "119ef7b4",
   "metadata": {},
   "source": [
    "# Resumos\n",
    "\n",
    " - **Método fit():**\n",
    "   - Não utilize o método **fit()** nos dados de teste.\n",
    " - **min_df vs. max_df:**\n",
    "   - *min_df:*\n",
    "     - É utilizado para remover palavras com poucas ocorrências/frequências (palavras raras).\n",
    "   - *min_df:*\n",
    "     - É utilizado para remover palavras com muita ocorrências/frequências (também conhecidos como \"corpus-specific stop words\").\n",
    " - **CountVectorizer Vantagens:**\n",
    "   - *Pré-Processamento com:*\n",
    "     - LowerCase\n",
    "     - StopWords\n",
    " - **CountVectorizer Desvantagens:**\n",
    "    - *Pré-Processamento sem:*\n",
    "     - Stemming\n",
    "     - Lemmatization"
   ]
  },
  {
   "cell_type": "markdown",
   "id": "1841f9d4",
   "metadata": {},
   "source": [
    "---"
   ]
  },
  {
   "cell_type": "markdown",
   "id": "00332eff",
   "metadata": {},
   "source": [
    "**REFERÊNCIAS:**  \n",
    "[10+ Examples for Using CountVectorizer](https://kavita-ganesan.com/how-to-use-countvectorizer/)  \n",
    "[CountVectorizer, TfidfVectorizer, Predict Comments](https://www.kaggle.com/adamschroeder/countvectorizer-tfidfvectorizer-predict-comments/notebook#N-grams-(sets-of-consecutive-words))  \n",
    "[sklearn.feature_extraction.text.CountVectorizer](https://scikit-learn.org/stable/modules/generated/sklearn.feature_extraction.text.CountVectorizer.html)"
   ]
  }
 ],
 "metadata": {
  "kernelspec": {
   "display_name": "Python 3",
   "language": "python",
   "name": "python3"
  },
  "language_info": {
   "codemirror_mode": {
    "name": "ipython",
    "version": 3
   },
   "file_extension": ".py",
   "mimetype": "text/x-python",
   "name": "python",
   "nbconvert_exporter": "python",
   "pygments_lexer": "ipython3",
   "version": "3.8.8"
  }
 },
 "nbformat": 4,
 "nbformat_minor": 5
}
