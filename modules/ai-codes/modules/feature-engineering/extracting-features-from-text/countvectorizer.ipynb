{
 "cells": [
  {
   "cell_type": "markdown",
   "id": "9a1082bc",
   "metadata": {},
   "source": [
    "# CountVectorizer"
   ]
  },
  {
   "cell_type": "markdown",
   "id": "0a8143fe",
   "metadata": {},
   "source": [
    "# 01 - Introdução ao CountVectorizer\n",
    "> O **\"CountVectorizer\"** é utilizado para transformar palavras em vetores numéricos. **What?**\n",
    "\n",
    "Não sei se vocês sabem, mas modelos de Machine Learning na sua maior parte aprendem a partir de dados numéricos. Por exemplo, para aprender padrões em uma imagem modelos de Machine Learning utilizam os pixels da imagem que pode ser representado por um vetor numérico.\n",
    "\n",
    "**NOTE:**  \n",
    "Mas, como transformar textos em números? Uma abordagem (que é a qual o CountVectorizer utiliza) é contar quantas vezes cada palavra aparece em um texto.\n",
    "\n",
    "Por exemplo, imagine que nós temos o seguinte texto:\n"
   ]
  },
  {
   "cell_type": "code",
   "execution_count": 1,
   "id": "279a17e7",
   "metadata": {},
   "outputs": [],
   "source": [
    "doc = [\"One Cent, Two Cents, Old Cent, New Cent: All About Money\"]"
   ]
  },
  {
   "cell_type": "markdown",
   "id": "36a949ce",
   "metadata": {},
   "source": [
    "O método **\"CountVectorizer\"** converteria da seguinte maneira:"
   ]
  },
  {
   "cell_type": "markdown",
   "id": "6a0e5400",
   "metadata": {},
   "source": [
    "![img](images/cv-01.png)"
   ]
  },
  {
   "cell_type": "markdown",
   "id": "7bfe8aaf",
   "metadata": {},
   "source": [
    "**NOTE:**  \n",
    "Vejam que inicialmente nós tinhamos palavras; Depois essas palavras foram numerizadas (você pode ver nas colunas); E por fim, nós contamos quantas vezes cada palavra apareceu.\n",
    "\n",
    "> Esse formato utilizado para armazenar essa representação é o mesmo que uma **Matriz Esparsa**."
   ]
  },
  {
   "cell_type": "markdown",
   "id": "8a10f4c8",
   "metadata": {},
   "source": [
    "# 02 - CountVectorizer com Scikit-Learn\n",
    "A primeira coisa que nós vamos fazer aqui é verificar qual a versão atual do seu Scikit-Learn:"
   ]
  },
  {
   "cell_type": "code",
   "execution_count": 2,
   "id": "255bf033",
   "metadata": {},
   "outputs": [
    {
     "name": "stdout",
     "output_type": "stream",
     "text": [
      "The scikit-learn version is 1.0.2.\n"
     ]
    }
   ],
   "source": [
    "import sklearn\n",
    "print('The scikit-learn version is {}.'.format(sklearn.__version__))"
   ]
  },
  {
   "cell_type": "markdown",
   "id": "9c6a592b",
   "metadata": {},
   "source": [
    "**NOTE:**  \n",
    "A versão atual do Scikit-Learn para na minha data atual *(05/03/2022)* era: **1.0.2**"
   ]
  },
  {
   "cell_type": "markdown",
   "id": "8b493263",
   "metadata": {},
   "source": [
    "## 02.1 - Problema inicial\n",
    "Para o nosso problem inicial, vamos imagina que nós temos os seguintes textos:"
   ]
  },
  {
   "cell_type": "code",
   "execution_count": 3,
   "id": "e36f06e3",
   "metadata": {},
   "outputs": [
    {
     "data": {
      "text/html": [
       "<div>\n",
       "<style scoped>\n",
       "    .dataframe tbody tr th:only-of-type {\n",
       "        vertical-align: middle;\n",
       "    }\n",
       "\n",
       "    .dataframe tbody tr th {\n",
       "        vertical-align: top;\n",
       "    }\n",
       "\n",
       "    .dataframe thead th {\n",
       "        text-align: right;\n",
       "    }\n",
       "</style>\n",
       "<table border=\"1\" class=\"dataframe\">\n",
       "  <thead>\n",
       "    <tr style=\"text-align: right;\">\n",
       "      <th></th>\n",
       "      <th>Text</th>\n",
       "    </tr>\n",
       "  </thead>\n",
       "  <tbody>\n",
       "    <tr>\n",
       "      <th>0</th>\n",
       "      <td>One Cent, Two Cents, Old Cent, New Cent: All About Money (Cat in the Hat's Learning Library)</td>\n",
       "    </tr>\n",
       "    <tr>\n",
       "      <th>1</th>\n",
       "      <td>Inside Your Outside: All About the Human Body (Cat in the Hat's Learning Library)</td>\n",
       "    </tr>\n",
       "    <tr>\n",
       "      <th>2</th>\n",
       "      <td>Oh, The Things You Can Do That Are Good for You: All About Staying Healthy (Cat in the Hat's Learning Library)</td>\n",
       "    </tr>\n",
       "    <tr>\n",
       "      <th>3</th>\n",
       "      <td>On Beyond Bugs: All About Insects (Cat in the Hat's Learning Library)</td>\n",
       "    </tr>\n",
       "    <tr>\n",
       "      <th>4</th>\n",
       "      <td>There's No Place Like Space: All About Our Solar System (Cat in the Hat's Learning Library)</td>\n",
       "    </tr>\n",
       "  </tbody>\n",
       "</table>\n",
       "</div>"
      ],
      "text/plain": [
       "                                                                                                             Text\n",
       "0                    One Cent, Two Cents, Old Cent, New Cent: All About Money (Cat in the Hat's Learning Library)\n",
       "1                               Inside Your Outside: All About the Human Body (Cat in the Hat's Learning Library)\n",
       "2  Oh, The Things You Can Do That Are Good for You: All About Staying Healthy (Cat in the Hat's Learning Library)\n",
       "3                                           On Beyond Bugs: All About Insects (Cat in the Hat's Learning Library)\n",
       "4                     There's No Place Like Space: All About Our Solar System (Cat in the Hat's Learning Library)"
      ]
     },
     "execution_count": 3,
     "metadata": {},
     "output_type": "execute_result"
    }
   ],
   "source": [
    "import pandas as pd\n",
    "\n",
    "pd.options.display.max_colwidth = 200\n",
    "\n",
    "cat_in_the_hat_docs = [\n",
    "  \"One Cent, Two Cents, Old Cent, New Cent: All About Money (Cat in the Hat's Learning Library)\",\n",
    "  \"Inside Your Outside: All About the Human Body (Cat in the Hat's Learning Library)\",\n",
    "  \"Oh, The Things You Can Do That Are Good for You: All About Staying Healthy (Cat in the Hat's Learning Library)\",\n",
    "  \"On Beyond Bugs: All About Insects (Cat in the Hat's Learning Library)\",\n",
    "  \"There's No Place Like Space: All About Our Solar System (Cat in the Hat's Learning Library)\" \n",
    "]\n",
    "\n",
    "df = pd.DataFrame(cat_in_the_hat_docs, columns=[\"Text\"])\n",
    "df.head()"
   ]
  },
  {
   "cell_type": "markdown",
   "id": "cfae7718",
   "metadata": {},
   "source": [
    "**NOTE:**  \n",
    "Vejam que cada elemento da lista vai representar uma amostra."
   ]
  },
  {
   "cell_type": "markdown",
   "id": "fd9b7fdb",
   "metadata": {},
   "source": [
    "## 02.2 - Interpretando uma Matriz esparsa feita com CountVectorizer\n",
    "Como nós sabemos o resultado de um Pré-Processamento de texto feito com **CountVectorizer** é uma **Matriz Esparsa**. Agora nós vamos aprender os conceitos básicos de como interpretar essa Matriz.\n",
    "\n",
    "Vamos começar aplicando **CountVectorizer** nas nossas amostras textuais:"
   ]
  },
  {
   "cell_type": "code",
   "execution_count": 4,
   "id": "b6f612a7",
   "metadata": {},
   "outputs": [],
   "source": [
    "from sklearn.feature_extraction.text import CountVectorizer\n",
    "import pandas as pd\n",
    "\n",
    "pd.options.display.max_colwidth = 200\n",
    "\n",
    "cat_in_the_hat_docs = [\n",
    "  \"One Cent, Two Cents, Old Cent, New Cent: All About Money (Cat in the Hat's Learning Library)\",\n",
    "  \"Inside Your Outside: All About the Human Body (Cat in the Hat's Learning Library)\",\n",
    "  \"Oh, The Things You Can Do That Are Good for You: All About Staying Healthy (Cat in the Hat's Learning Library)\",\n",
    "  \"On Beyond Bugs: All About Insects (Cat in the Hat's Learning Library)\",\n",
    "  \"There's No Place Like Space: All About Our Solar System (Cat in the Hat's Learning Library)\" \n",
    "]\n",
    "\n",
    "df = pd.DataFrame(cat_in_the_hat_docs, columns=[\"Text\"])\n",
    "\n",
    "vectorizer = CountVectorizer() # Instance.\n",
    "df_vectorized = vectorizer.fit_transform(df['Text'])"
   ]
  },
  {
   "cell_type": "markdown",
   "id": "a0391b1c",
   "metadata": {},
   "source": [
    "**NOTE:**  \n",
    "A primeira coisa que vocês tem que ter em mente agora é que nós não temos mas um DataFrame Pandas. Nós agora temos uma **Matriz Esparsa** *(feita com SciPy/Processo feito internamente pelo Scikit-Learn)*."
   ]
  },
  {
   "cell_type": "code",
   "execution_count": 5,
   "id": "5db80eac",
   "metadata": {},
   "outputs": [
    {
     "data": {
      "text/plain": [
       "scipy.sparse._csr.csr_matrix"
      ]
     },
     "execution_count": 5,
     "metadata": {},
     "output_type": "execute_result"
    }
   ],
   "source": [
    "type(df_vectorized)"
   ]
  },
  {
   "cell_type": "markdown",
   "id": "508ac9a1",
   "metadata": {},
   "source": [
    "Ok, agora vamos voltar para a saída que nós tinhamos:"
   ]
  },
  {
   "cell_type": "code",
   "execution_count": 6,
   "id": "769a1b0a",
   "metadata": {},
   "outputs": [
    {
     "data": {
      "text/plain": [
       "<5x43 sparse matrix of type '<class 'numpy.int64'>'\n",
       "\twith 75 stored elements in Compressed Sparse Row format>"
      ]
     },
     "execution_count": 6,
     "metadata": {},
     "output_type": "execute_result"
    }
   ],
   "source": [
    "df_vectorized"
   ]
  },
  {
   "cell_type": "markdown",
   "id": "a26f3a3d",
   "metadata": {},
   "source": [
    "Interpretando a saída acima nós temos:\n",
    " - **5x43:**\n",
    "   - 5 amotras;\n",
    "   - 43 palavras únicas (cada uma vai ser uma coluna na nossa matriz esparsa)\n",
    " - **75 stored elements:**\n",
    "   - Nós temos 43 palavras únicas, onde, cada uma vai ser uma coluna da **Matriz Esparsa**, porém, no total nós temos 75 palavras (elementos), entre, todas as amostras (5)."
   ]
  },
  {
   "cell_type": "markdown",
   "id": "8da82ec4",
   "metadata": {},
   "source": [
    "**NOTE:**  \n",
    "Tem como ver essa matriz em um formato de **Matriz Esparsa**? Claro!"
   ]
  },
  {
   "cell_type": "code",
   "execution_count": 7,
   "id": "2d6fccfd",
   "metadata": {},
   "outputs": [
    {
     "name": "stdout",
     "output_type": "stream",
     "text": [
      "  (0, 28)\t1\n",
      "  (0, 8)\t3\n",
      "  (0, 40)\t1\n",
      "  (0, 9)\t1\n",
      "  (0, 26)\t1\n",
      "  (0, 23)\t1\n",
      "  (0, 1)\t1\n",
      "  (0, 0)\t1\n",
      "  (0, 22)\t1\n",
      "  (0, 7)\t1\n",
      "  (0, 16)\t1\n",
      "  (0, 37)\t1\n",
      "  (0, 13)\t1\n",
      "  (0, 19)\t1\n",
      "  (0, 20)\t1\n",
      "  (1, 1)\t1\n",
      "  (1, 0)\t1\n",
      "  (1, 7)\t1\n",
      "  (1, 16)\t1\n",
      "  (1, 37)\t2\n",
      "  (1, 13)\t1\n",
      "  (1, 19)\t1\n",
      "  (1, 20)\t1\n",
      "  (1, 18)\t1\n",
      "  (1, 42)\t1\n",
      "  :\t:\n",
      "  (3, 16)\t1\n",
      "  (3, 37)\t1\n",
      "  (3, 13)\t1\n",
      "  (3, 19)\t1\n",
      "  (3, 20)\t1\n",
      "  (3, 27)\t1\n",
      "  (3, 3)\t1\n",
      "  (3, 5)\t1\n",
      "  (3, 17)\t1\n",
      "  (4, 1)\t1\n",
      "  (4, 0)\t1\n",
      "  (4, 7)\t1\n",
      "  (4, 16)\t1\n",
      "  (4, 37)\t1\n",
      "  (4, 13)\t1\n",
      "  (4, 19)\t1\n",
      "  (4, 20)\t1\n",
      "  (4, 38)\t1\n",
      "  (4, 24)\t1\n",
      "  (4, 31)\t1\n",
      "  (4, 21)\t1\n",
      "  (4, 33)\t1\n",
      "  (4, 29)\t1\n",
      "  (4, 32)\t1\n",
      "  (4, 35)\t1\n"
     ]
    }
   ],
   "source": [
    "print(df_vectorized)"
   ]
  },
  {
   "cell_type": "markdown",
   "id": "3ec7b226",
   "metadata": {},
   "source": [
    "Interpretando a saída acima nós temos:\n",
    " - **Temos uma tupla (Row, Colum):**\n",
    "   - Essa tupla basicamente vai representar um mapeamento para a nosso **Matriz Esparsa**.\n",
    " - **Temos o valor referente a esse mapeamento.**\n",
    "\n",
    "**NOTE:**  \n",
    "Ok, mas e as 43 palavras únicas (cada uma em uma coluna na nossa matriz esparsa)? Para isso, nós vamos utilizar o método **get_feature_names_out()** que fica instância do objeto **CountVectorizer**:\n",
    "\n",
    "```python\n",
    "vectorizer = CountVectorizer() # Instance.\n",
    "```"
   ]
  },
  {
   "cell_type": "code",
   "execution_count": 8,
   "id": "f9d554e4",
   "metadata": {},
   "outputs": [
    {
     "data": {
      "text/plain": [
       "array(['about', 'all', 'are', 'beyond', 'body', 'bugs', 'can', 'cat',\n",
       "       'cent', 'cents', 'do', 'for', 'good', 'hat', 'healthy', 'human',\n",
       "       'in', 'insects', 'inside', 'learning', 'library', 'like', 'money',\n",
       "       'new', 'no', 'oh', 'old', 'on', 'one', 'our', 'outside', 'place',\n",
       "       'solar', 'space', 'staying', 'system', 'that', 'the', 'there',\n",
       "       'things', 'two', 'you', 'your'], dtype=object)"
      ]
     },
     "execution_count": 8,
     "metadata": {},
     "output_type": "execute_result"
    }
   ],
   "source": [
    "vectorizer.get_feature_names_out()"
   ]
  },
  {
   "cell_type": "markdown",
   "id": "4dcec5ba",
   "metadata": {},
   "source": [
    "**NOTE:**  \n",
    "A primeira observação aqui é que por padrão (default) o objeto **CountVectorizer** aplica um *Pré-Processamento* transformando todas as palavras em minúscula **(lowercase)**.\n",
    "\n",
    "**Continuando...**  \n",
    "Vejam, que nós temos como saída uma lista com todas as features (que antes eram palavras em um texto e agora features únicas) que foram mapeadas para a nossa **Matriz Esparsa**."
   ]
  },
  {
   "cell_type": "markdown",
   "id": "ba6dc577",
   "metadata": {},
   "source": [
    "**Interpretando um dos mapeamentos da Matriz Esparsa:**  \n",
    "Se vocẽ olhar para o exemplo **(0, 8)\t3** nós temo que:\n",
    " - Na linha zero (primeira amostra);\n",
    " - Coluna 8 (vai ser a 9 visto que começamos do zero);\n",
    " - Temos um elemento aparecendo 3 vezes.\n",
    "\n",
    "> **Mas que elemento é esse?**\n",
    "\n",
    "**NOTE:**  \n",
    "Lembram que nós temos o método **get_feature_names_out()** que nós retorna uma lista com cada palavra como uma feature? Então, se você procurar o oitavo (8) elemento (começando do zero é claro) você vai encontrar o elemento **\"cent\"**. Ou seja, na primeira amostra o elemento (palavra) **\"cent\"** aparece 3 vezes."
   ]
  },
  {
   "cell_type": "code",
   "execution_count": 9,
   "id": "53fad13c",
   "metadata": {},
   "outputs": [],
   "source": [
    "feature_names = vectorizer.get_feature_names_out()"
   ]
  },
  {
   "cell_type": "code",
   "execution_count": 10,
   "id": "f2a59ce2",
   "metadata": {},
   "outputs": [
    {
     "data": {
      "text/plain": [
       "'cent'"
      ]
     },
     "execution_count": 10,
     "metadata": {},
     "output_type": "execute_result"
    }
   ],
   "source": [
    "feature_names[8]"
   ]
  },
  {
   "cell_type": "markdown",
   "id": "1c03b55a",
   "metadata": {},
   "source": [
    "## 02.3 - Convertendo a nossa Matriz Esparsa em uma Matriz Densa\n",
    "> Ok, mas como eu vejo essa **Matriz Esparsa** como uma **Matriz Densa**?\n",
    "\n",
    "Simples, para isso nós podemos utilizar 2 métodos:\n",
    " - toarray()\n",
    " - todense()"
   ]
  },
  {
   "cell_type": "code",
   "execution_count": 11,
   "id": "64014de5",
   "metadata": {},
   "outputs": [
    {
     "data": {
      "text/plain": [
       "array([[1, 1, 0, 0, 0, 0, 0, 1, 3, 1, 0, 0, 0, 1, 0, 0, 1, 0, 0, 1, 1, 0,\n",
       "        1, 1, 0, 0, 1, 0, 1, 0, 0, 0, 0, 0, 0, 0, 0, 1, 0, 0, 1, 0, 0],\n",
       "       [1, 1, 0, 0, 1, 0, 0, 1, 0, 0, 0, 0, 0, 1, 0, 1, 1, 0, 1, 1, 1, 0,\n",
       "        0, 0, 0, 0, 0, 0, 0, 0, 1, 0, 0, 0, 0, 0, 0, 2, 0, 0, 0, 0, 1],\n",
       "       [1, 1, 1, 0, 0, 0, 1, 1, 0, 0, 1, 1, 1, 1, 1, 0, 1, 0, 0, 1, 1, 0,\n",
       "        0, 0, 0, 1, 0, 0, 0, 0, 0, 0, 0, 0, 1, 0, 1, 2, 0, 1, 0, 2, 0],\n",
       "       [1, 1, 0, 1, 0, 1, 0, 1, 0, 0, 0, 0, 0, 1, 0, 0, 1, 1, 0, 1, 1, 0,\n",
       "        0, 0, 0, 0, 0, 1, 0, 0, 0, 0, 0, 0, 0, 0, 0, 1, 0, 0, 0, 0, 0],\n",
       "       [1, 1, 0, 0, 0, 0, 0, 1, 0, 0, 0, 0, 0, 1, 0, 0, 1, 0, 0, 1, 1, 1,\n",
       "        0, 0, 1, 0, 0, 0, 0, 1, 0, 1, 1, 1, 0, 1, 0, 1, 1, 0, 0, 0, 0]])"
      ]
     },
     "execution_count": 11,
     "metadata": {},
     "output_type": "execute_result"
    }
   ],
   "source": [
    "df_vectorized.toarray()"
   ]
  },
  {
   "cell_type": "code",
   "execution_count": 12,
   "id": "069dd53a",
   "metadata": {},
   "outputs": [
    {
     "data": {
      "text/plain": [
       "matrix([[1, 1, 0, 0, 0, 0, 0, 1, 3, 1, 0, 0, 0, 1, 0, 0, 1, 0, 0, 1, 1,\n",
       "         0, 1, 1, 0, 0, 1, 0, 1, 0, 0, 0, 0, 0, 0, 0, 0, 1, 0, 0, 1, 0,\n",
       "         0],\n",
       "        [1, 1, 0, 0, 1, 0, 0, 1, 0, 0, 0, 0, 0, 1, 0, 1, 1, 0, 1, 1, 1,\n",
       "         0, 0, 0, 0, 0, 0, 0, 0, 0, 1, 0, 0, 0, 0, 0, 0, 2, 0, 0, 0, 0,\n",
       "         1],\n",
       "        [1, 1, 1, 0, 0, 0, 1, 1, 0, 0, 1, 1, 1, 1, 1, 0, 1, 0, 0, 1, 1,\n",
       "         0, 0, 0, 0, 1, 0, 0, 0, 0, 0, 0, 0, 0, 1, 0, 1, 2, 0, 1, 0, 2,\n",
       "         0],\n",
       "        [1, 1, 0, 1, 0, 1, 0, 1, 0, 0, 0, 0, 0, 1, 0, 0, 1, 1, 0, 1, 1,\n",
       "         0, 0, 0, 0, 0, 0, 1, 0, 0, 0, 0, 0, 0, 0, 0, 0, 1, 0, 0, 0, 0,\n",
       "         0],\n",
       "        [1, 1, 0, 0, 0, 0, 0, 1, 0, 0, 0, 0, 0, 1, 0, 0, 1, 0, 0, 1, 1,\n",
       "         1, 0, 0, 1, 0, 0, 0, 0, 1, 0, 1, 1, 1, 0, 1, 0, 1, 1, 0, 0, 0,\n",
       "         0]])"
      ]
     },
     "execution_count": 12,
     "metadata": {},
     "output_type": "execute_result"
    }
   ],
   "source": [
    "df_vectorized.todense()"
   ]
  },
  {
   "cell_type": "markdown",
   "id": "be53cade",
   "metadata": {},
   "source": [
    "**NOTE:**  \n",
    "Se você prestar bem atenção vai ver que nossa Matriz está no formato de uma lista de listas. Como assim? Vou refatorar ela para ficar mais claro para vocês..."
   ]
  },
  {
   "cell_type": "markdown",
   "id": "86f114c8",
   "metadata": {},
   "source": [
    "```python\n",
    "[\n",
    "  [1, 1, 0, 0, 0, 0, 0, 1, 3, 1, 0, 0, 0, 1, 0, 0, 1, 0, 0, 1, 1,\n",
    "   0, 1, 1, 0, 0, 1, 0, 1, 0, 0, 0, 0, 0, 0, 0, 0, 1, 0, 0, 1, 0,0],\n",
    "    \n",
    "  [1, 1, 0, 0, 1, 0, 0, 1, 0, 0, 0, 0, 0, 1, 0, 1, 1, 0, 1, 1, 1,\n",
    "   0, 0, 0, 0, 0, 0, 0, 0, 0, 1, 0, 0, 0, 0, 0, 0, 2, 0, 0, 0, 0,1],\n",
    "    \n",
    "  [1, 1, 1, 0, 0, 0, 1, 1, 0, 0, 1, 1, 1, 1, 1, 0, 1, 0, 0, 1, 1,\n",
    "   0, 0, 0, 0, 1, 0, 0, 0, 0, 0, 0, 0, 0, 1, 0, 1, 2, 0, 1, 0, 2,0],\n",
    "    \n",
    "  [1, 1, 0, 1, 0, 1, 0, 1, 0, 0, 0, 0, 0, 1, 0, 0, 1, 1, 0, 1, 1,\n",
    "   0, 0, 0, 0, 0, 0, 1, 0, 0, 0, 0, 0, 0, 0, 0, 0, 1, 0, 0, 0, 0,0],\n",
    "    \n",
    "  [1, 1, 0, 0, 0, 0, 0, 1, 0, 0, 0, 0, 0, 1, 0, 0, 1, 0, 0, 1, 1,\n",
    "   1, 0, 0, 1, 0, 0, 0, 0, 1, 0, 1, 1, 1, 0, 1, 0, 1, 1, 0, 0, 0,0]\n",
    "]\n",
    "```"
   ]
  },
  {
   "cell_type": "markdown",
   "id": "4e00adb5",
   "metadata": {},
   "source": [
    "**NOTE:**  \n",
    "Vejam que nós temos:\n",
    " - Uma lista (matriz);\n",
    " - com 5 listas dentro (nossas 5 amostras que foram vetorizadas)."
   ]
  }
 ],
 "metadata": {
  "kernelspec": {
   "display_name": "Python 3 (ipykernel)",
   "language": "python",
   "name": "python3"
  },
  "language_info": {
   "codemirror_mode": {
    "name": "ipython",
    "version": 3
   },
   "file_extension": ".py",
   "mimetype": "text/x-python",
   "name": "python",
   "nbconvert_exporter": "python",
   "pygments_lexer": "ipython3",
   "version": "3.9.7"
  }
 },
 "nbformat": 4,
 "nbformat_minor": 5
}
