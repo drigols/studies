{
 "cells": [
  {
   "cell_type": "markdown",
   "id": "33d63fc9",
   "metadata": {},
   "source": [
    "# TF, DF, IDF & TF-IDF"
   ]
  },
  {
   "cell_type": "markdown",
   "id": "8f57cc76",
   "metadata": {},
   "source": [
    "# 01 - Conceitos & Teoria\n",
    ">Antes de entrarmos de fato no estudo sobre **TF-IDF** vamos aprender (ou revisar) alguns conceitos teóricos."
   ]
  },
  {
   "cell_type": "markdown",
   "id": "5fd09520",
   "metadata": {},
   "source": [
    "## 01.1 - Term Frequency (TF)\n",
    "**Frequência de termos (TF)** é frequentemente usada em:\n",
    " - Mineração de Texto;\n",
    " - PNL;\n",
    " - Recuperação de Informações...\n",
    "\n",
    "> O objetivo principal do **TF** é informa a frequência com que um termo ocorre em um documento.\n",
    "\n",
    "**NOTE:**  \n",
    "Os termos correspondem a palavras ou frases. Como cada documento é diferente (ou amostra) em tamanho, é possível que um termo apareça com mais frequência em documentos mais longos do que em documentos mais curtos. Assim, a frequência dos termos é frequentemente dividida pelo número total de termos no documento como forma de normalização.\n",
    "\n",
    "Por exemplo, a equação seria essa (a mesma de uma probabilidade):\n",
    "\n",
    "![img](images/tf-idf-01.png)  \n",
    "\n",
    "**NOTE:**  \n",
    "Existem outras maneiras de normalizar as frequências dos termos, incluindo o uso da **frequência máxima dos termos** em um documento, bem como a **frequência média dos termos**."
   ]
  },
  {
   "cell_type": "markdown",
   "id": "87bee5b9",
   "metadata": {},
   "source": [
    "## 01.2 - Document Frequency (DF)\n",
    "Para entender como funciona a lógica do **Document Frequency (DF)** vamos primeira analisar 5 amostras em um DataFrame:\n",
    "\n",
    "![img](images/df-01.png)  \n",
    "\n",
    "**Analisando o DataFrame acima nós temos que:**\n",
    " - A palavra **cent** tem frequência de documento de 1. Embora tenha aparecido 3 vezes, apareceu 3 vezes em apenas um documento.\n",
    " - A palavra **all**, por outro lado, tem uma frequência de documentos de 5. Embora tenha aparecido uma vez em cada documento, apareceu em 5 documentos.\n",
    "\n",
    "**NOTE:**  \n",
    "Ou seja, o foco do **Document Frequency (DF)** é contabilizar quantas vezes uma palavra aparece em documentos (amostras) distintos."
   ]
  },
  {
   "cell_type": "markdown",
   "id": "528f9f67",
   "metadata": {},
   "source": [
    "## 01.3 - Inverse Document Frequency (IDF)\n",
    "> O **Inverse Document Frequency (IDF)** é um peso que indica a frequência com que uma palavra é usada.\n",
    "\n",
    " - Quanto mais frequente seu uso em documentos, menor sua pontuação.\n",
    " - Quanto menor a pontuação, menos importante a palavra se torna.\n",
    "\n",
    "**NOTE:**  \n",
    "Por exemplo, a palavra **\"the\"** aparece em quase todos os textos em inglês e, portanto, teria uma pontuação **IDF** muito baixa, pois carrega muito pouca informação de “tópico”. Por outro lado, se você pegar a palavra **coffee**, embora seja comum, ela não é usada tão amplamente quanto a palavra **\"the\"**. Assim, **\"coffee\"** teria uma pontuação **IDF** maior do que **\"the\"**.\n",
    "\n",
    "Tradicionalmente, o **IDF** é calculado como:\n",
    "\n",
    "![img](images/IDF-01.gif)  \n",
    "\n",
    "Onde **N** é o número total de documentos (amostras) em sua coleção de texto e **DF<sub>t</sub>** é o número de documentos contendo o termo **t**; E **t** é qualquer palavra em seu vocabulário.\n",
    "\n",
    "**NOTE:**  \n",
    "O **IDF** é normalmente usado para aumentar as pontuações de palavras exclusivas de um documento com a esperança de que você exiba palavras de alta informação que caracterizem seu documento (amostra) e suprima palavras que não tenham muito peso em um documento (amostra).\n",
    "\n",
    "**Vamos dar um exemplo...**  \n",
    "Imagine que em um determinado documento (amostra), se a palavra **\"the\"** aparecesse 10 vezes e seu peso **IDF** fosse **0.1**, sua pontuação resultante seria  **1 (já que 10*0.1=1))**. Agora, se a palavra  **\"coffee\"** também aparecesse 10 vezes e seu peso **IDF** fosse **0.5**, a pontuação resultante seria **5**. Quando você classifica as palavras pelas pontuações resultantes *(em ordem decrescente, claro!)*, **\"coffee\"** apareceria antes de **\"the\"**, indicando que **\"coffee\"** é mais importante que a palavra **\"the\"**.\n",
    "\n",
    "**NOTE:**  \n",
    "Em resumo, o **IDF** é uma pequena fórmula útil que você pode usar para:\n",
    " - Criar uma lista de Stopword Removal (Remoção de palavras irrelevantes);\n",
    " - Usar para ponderação de recursos em classificadores de texto;\n",
    " - Para extração de palavras... Etc."
   ]
  },
  {
   "cell_type": "markdown",
   "id": "ebe1f1db",
   "metadata": {},
   "source": [
    "# 02 - TF-IDF\n",
    "x"
   ]
  },
  {
   "cell_type": "code",
   "execution_count": null,
   "id": "6e733946",
   "metadata": {},
   "outputs": [],
   "source": []
  }
 ],
 "metadata": {
  "kernelspec": {
   "display_name": "Python 3 (ipykernel)",
   "language": "python",
   "name": "python3"
  },
  "language_info": {
   "codemirror_mode": {
    "name": "ipython",
    "version": 3
   },
   "file_extension": ".py",
   "mimetype": "text/x-python",
   "name": "python",
   "nbconvert_exporter": "python",
   "pygments_lexer": "ipython3",
   "version": "3.9.7"
  }
 },
 "nbformat": 4,
 "nbformat_minor": 5
}
