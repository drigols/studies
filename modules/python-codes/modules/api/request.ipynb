{
 "cells": [
  {
   "cell_type": "markdown",
   "id": "b5601d75",
   "metadata": {},
   "source": [
    "# Consumindo APIs com a biblioteca requests"
   ]
  },
  {
   "cell_type": "markdown",
   "id": "68d3ca48",
   "metadata": {},
   "source": [
    "# 01 - Fazendo requisições com o método get()\n",
    "Um dos métodos mais utilizados em **HTTP** é o método **GET**. Com ele nós pegamos recursos de uma API (é uma operação somente leitur).\n",
    "\n",
    "**NOTE:**  \n",
    "A biblioteca **requests** tem um método **get()** que é responsável por fazer isso"
   ]
  },
  {
   "cell_type": "markdown",
   "id": "03e9fb7f",
   "metadata": {},
   "source": [
    "## 01.1 - Utilizando o método get() para pegar recursos (dados) da Fake Store API\n",
    "Agora nós vamos ver como pegar recursos (dados) da [Fake Store API](https://fakestoreapi.com/):"
   ]
  },
  {
   "cell_type": "code",
   "execution_count": 1,
   "id": "6c674189",
   "metadata": {},
   "outputs": [
    {
     "data": {
      "text/plain": [
       "[{'id': 1,\n",
       "  'title': 'Fjallraven - Foldsack No. 1 Backpack, Fits 15 Laptops',\n",
       "  'price': 109.95,\n",
       "  'description': 'Your perfect pack for everyday use and walks in the forest. Stash your laptop (up to 15 inches) in the padded sleeve, your everyday',\n",
       "  'category': \"men's clothing\",\n",
       "  'image': 'https://fakestoreapi.com/img/81fPKd-2AYL._AC_SL1500_.jpg',\n",
       "  'rating': {'rate': 3.9, 'count': 120}},\n",
       " {'id': 2,\n",
       "  'title': 'Mens Casual Premium Slim Fit T-Shirts ',\n",
       "  'price': 22.3,\n",
       "  'description': 'Slim-fitting style, contrast raglan long sleeve, three-button henley placket, light weight & soft fabric for breathable and comfortable wearing. And Solid stitched shirts with round neck made for durability and a great fit for casual fashion wear and diehard baseball fans. The Henley style round neckline includes a three-button placket.',\n",
       "  'category': \"men's clothing\",\n",
       "  'image': 'https://fakestoreapi.com/img/71-3HjGNDUL._AC_SY879._SX._UX._SY._UY_.jpg',\n",
       "  'rating': {'rate': 4.1, 'count': 259}},\n",
       " {'id': 3,\n",
       "  'title': 'Mens Cotton Jacket',\n",
       "  'price': 55.99,\n",
       "  'description': 'great outerwear jackets for Spring/Autumn/Winter, suitable for many occasions, such as working, hiking, camping, mountain/rock climbing, cycling, traveling or other outdoors. Good gift choice for you or your family member. A warm hearted love to Father, husband or son in this thanksgiving or Christmas Day.',\n",
       "  'category': \"men's clothing\",\n",
       "  'image': 'https://fakestoreapi.com/img/71li-ujtlUL._AC_UX679_.jpg',\n",
       "  'rating': {'rate': 4.7, 'count': 500}},\n",
       " {'id': 4,\n",
       "  'title': 'Mens Casual Slim Fit',\n",
       "  'price': 15.99,\n",
       "  'description': 'The color could be slightly different between on the screen and in practice. / Please note that body builds vary by person, therefore, detailed size information should be reviewed below on the product description.',\n",
       "  'category': \"men's clothing\",\n",
       "  'image': 'https://fakestoreapi.com/img/71YXzeOuslL._AC_UY879_.jpg',\n",
       "  'rating': {'rate': 2.1, 'count': 430}},\n",
       " {'id': 5,\n",
       "  'title': \"John Hardy Women's Legends Naga Gold & Silver Dragon Station Chain Bracelet\",\n",
       "  'price': 695,\n",
       "  'description': \"From our Legends Collection, the Naga was inspired by the mythical water dragon that protects the ocean's pearl. Wear facing inward to be bestowed with love and abundance, or outward for protection.\",\n",
       "  'category': 'jewelery',\n",
       "  'image': 'https://fakestoreapi.com/img/71pWzhdJNwL._AC_UL640_QL65_ML3_.jpg',\n",
       "  'rating': {'rate': 4.6, 'count': 400}},\n",
       " {'id': 6,\n",
       "  'title': 'Solid Gold Petite Micropave ',\n",
       "  'price': 168,\n",
       "  'description': 'Satisfaction Guaranteed. Return or exchange any order within 30 days.Designed and sold by Hafeez Center in the United States. Satisfaction Guaranteed. Return or exchange any order within 30 days.',\n",
       "  'category': 'jewelery',\n",
       "  'image': 'https://fakestoreapi.com/img/61sbMiUnoGL._AC_UL640_QL65_ML3_.jpg',\n",
       "  'rating': {'rate': 3.9, 'count': 70}},\n",
       " {'id': 7,\n",
       "  'title': 'White Gold Plated Princess',\n",
       "  'price': 9.99,\n",
       "  'description': \"Classic Created Wedding Engagement Solitaire Diamond Promise Ring for Her. Gifts to spoil your love more for Engagement, Wedding, Anniversary, Valentine's Day...\",\n",
       "  'category': 'jewelery',\n",
       "  'image': 'https://fakestoreapi.com/img/71YAIFU48IL._AC_UL640_QL65_ML3_.jpg',\n",
       "  'rating': {'rate': 3, 'count': 400}},\n",
       " {'id': 8,\n",
       "  'title': 'Pierced Owl Rose Gold Plated Stainless Steel Double',\n",
       "  'price': 10.99,\n",
       "  'description': 'Rose Gold Plated Double Flared Tunnel Plug Earrings. Made of 316L Stainless Steel',\n",
       "  'category': 'jewelery',\n",
       "  'image': 'https://fakestoreapi.com/img/51UDEzMJVpL._AC_UL640_QL65_ML3_.jpg',\n",
       "  'rating': {'rate': 1.9, 'count': 100}},\n",
       " {'id': 9,\n",
       "  'title': 'WD 2TB Elements Portable External Hard Drive - USB 3.0 ',\n",
       "  'price': 64,\n",
       "  'description': 'USB 3.0 and USB 2.0 Compatibility Fast data transfers Improve PC Performance High Capacity; Compatibility Formatted NTFS for Windows 10, Windows 8.1, Windows 7; Reformatting may be required for other operating systems; Compatibility may vary depending on user’s hardware configuration and operating system',\n",
       "  'category': 'electronics',\n",
       "  'image': 'https://fakestoreapi.com/img/61IBBVJvSDL._AC_SY879_.jpg',\n",
       "  'rating': {'rate': 3.3, 'count': 203}},\n",
       " {'id': 10,\n",
       "  'title': 'SanDisk SSD PLUS 1TB Internal SSD - SATA III 6 Gb/s',\n",
       "  'price': 109,\n",
       "  'description': 'Easy upgrade for faster boot up, shutdown, application load and response (As compared to 5400 RPM SATA 2.5” hard drive; Based on published specifications and internal benchmarking tests using PCMark vantage scores) Boosts burst write performance, making it ideal for typical PC workloads The perfect balance of performance and reliability Read/write speeds of up to 535MB/s/450MB/s (Based on internal testing; Performance may vary depending upon drive capacity, host device, OS and application.)',\n",
       "  'category': 'electronics',\n",
       "  'image': 'https://fakestoreapi.com/img/61U7T1koQqL._AC_SX679_.jpg',\n",
       "  'rating': {'rate': 2.9, 'count': 470}},\n",
       " {'id': 11,\n",
       "  'title': 'Silicon Power 256GB SSD 3D NAND A55 SLC Cache Performance Boost SATA III 2.5',\n",
       "  'price': 109,\n",
       "  'description': '3D NAND flash are applied to deliver high transfer speeds Remarkable transfer speeds that enable faster bootup and improved overall system performance. The advanced SLC Cache Technology allows performance boost and longer lifespan 7mm slim design suitable for Ultrabooks and Ultra-slim notebooks. Supports TRIM command, Garbage Collection technology, RAID, and ECC (Error Checking & Correction) to provide the optimized performance and enhanced reliability.',\n",
       "  'category': 'electronics',\n",
       "  'image': 'https://fakestoreapi.com/img/71kWymZ+c+L._AC_SX679_.jpg',\n",
       "  'rating': {'rate': 4.8, 'count': 319}},\n",
       " {'id': 12,\n",
       "  'title': 'WD 4TB Gaming Drive Works with Playstation 4 Portable External Hard Drive',\n",
       "  'price': 114,\n",
       "  'description': \"Expand your PS4 gaming experience, Play anywhere Fast and easy, setup Sleek design with high capacity, 3-year manufacturer's limited warranty\",\n",
       "  'category': 'electronics',\n",
       "  'image': 'https://fakestoreapi.com/img/61mtL65D4cL._AC_SX679_.jpg',\n",
       "  'rating': {'rate': 4.8, 'count': 400}},\n",
       " {'id': 13,\n",
       "  'title': 'Acer SB220Q bi 21.5 inches Full HD (1920 x 1080) IPS Ultra-Thin',\n",
       "  'price': 599,\n",
       "  'description': '21. 5 inches Full HD (1920 x 1080) widescreen IPS display And Radeon free Sync technology. No compatibility for VESA Mount Refresh Rate: 75Hz - Using HDMI port Zero-frame design | ultra-thin | 4ms response time | IPS panel Aspect ratio - 16: 9. Color Supported - 16. 7 million colors. Brightness - 250 nit Tilt angle -5 degree to 15 degree. Horizontal viewing angle-178 degree. Vertical viewing angle-178 degree 75 hertz',\n",
       "  'category': 'electronics',\n",
       "  'image': 'https://fakestoreapi.com/img/81QpkIctqPL._AC_SX679_.jpg',\n",
       "  'rating': {'rate': 2.9, 'count': 250}},\n",
       " {'id': 14,\n",
       "  'title': 'Samsung 49-Inch CHG90 144Hz Curved Gaming Monitor (LC49HG90DMNXZA) – Super Ultrawide Screen QLED ',\n",
       "  'price': 999.99,\n",
       "  'description': '49 INCH SUPER ULTRAWIDE 32:9 CURVED GAMING MONITOR with dual 27 inch screen side by side QUANTUM DOT (QLED) TECHNOLOGY, HDR support and factory calibration provides stunningly realistic and accurate color and contrast 144HZ HIGH REFRESH RATE and 1ms ultra fast response time work to eliminate motion blur, ghosting, and reduce input lag',\n",
       "  'category': 'electronics',\n",
       "  'image': 'https://fakestoreapi.com/img/81Zt42ioCgL._AC_SX679_.jpg',\n",
       "  'rating': {'rate': 2.2, 'count': 140}},\n",
       " {'id': 15,\n",
       "  'title': \"BIYLACLESEN Women's 3-in-1 Snowboard Jacket Winter Coats\",\n",
       "  'price': 56.99,\n",
       "  'description': 'Note:The Jackets is US standard size, Please choose size as your usual wear Material: 100% Polyester; Detachable Liner Fabric: Warm Fleece. Detachable Functional Liner: Skin Friendly, Lightweigt and Warm.Stand Collar Liner jacket, keep you warm in cold weather. Zippered Pockets: 2 Zippered Hand Pockets, 2 Zippered Pockets on Chest (enough to keep cards or keys)and 1 Hidden Pocket Inside.Zippered Hand Pockets and Hidden Pocket keep your things secure. Humanized Design: Adjustable and Detachable Hood and Adjustable cuff to prevent the wind and water,for a comfortable fit. 3 in 1 Detachable Design provide more convenience, you can separate the coat and inner as needed, or wear it together. It is suitable for different season and help you adapt to different climates',\n",
       "  'category': \"women's clothing\",\n",
       "  'image': 'https://fakestoreapi.com/img/51Y5NI-I5jL._AC_UX679_.jpg',\n",
       "  'rating': {'rate': 2.6, 'count': 235}},\n",
       " {'id': 16,\n",
       "  'title': \"Lock and Love Women's Removable Hooded Faux Leather Moto Biker Jacket\",\n",
       "  'price': 29.95,\n",
       "  'description': '100% POLYURETHANE(shell) 100% POLYESTER(lining) 75% POLYESTER 25% COTTON (SWEATER), Faux leather material for style and comfort / 2 pockets of front, 2-For-One Hooded denim style faux leather jacket, Button detail on waist / Detail stitching at sides, HAND WASH ONLY / DO NOT BLEACH / LINE DRY / DO NOT IRON',\n",
       "  'category': \"women's clothing\",\n",
       "  'image': 'https://fakestoreapi.com/img/81XH0e8fefL._AC_UY879_.jpg',\n",
       "  'rating': {'rate': 2.9, 'count': 340}},\n",
       " {'id': 17,\n",
       "  'title': 'Rain Jacket Women Windbreaker Striped Climbing Raincoats',\n",
       "  'price': 39.99,\n",
       "  'description': \"Lightweight perfet for trip or casual wear---Long sleeve with hooded, adjustable drawstring waist design. Button and zipper front closure raincoat, fully stripes Lined and The Raincoat has 2 side pockets are a good size to hold all kinds of things, it covers the hips, and the hood is generous but doesn't overdo it.Attached Cotton Lined Hood with Adjustable Drawstrings give it a real styled look.\",\n",
       "  'category': \"women's clothing\",\n",
       "  'image': 'https://fakestoreapi.com/img/71HblAHs5xL._AC_UY879_-2.jpg',\n",
       "  'rating': {'rate': 3.8, 'count': 679}},\n",
       " {'id': 18,\n",
       "  'title': \"MBJ Women's Solid Short Sleeve Boat Neck V \",\n",
       "  'price': 9.85,\n",
       "  'description': '95% RAYON 5% SPANDEX, Made in USA or Imported, Do Not Bleach, Lightweight fabric with great stretch for comfort, Ribbed on sleeves and neckline / Double stitching on bottom hem',\n",
       "  'category': \"women's clothing\",\n",
       "  'image': 'https://fakestoreapi.com/img/71z3kpMAYsL._AC_UY879_.jpg',\n",
       "  'rating': {'rate': 4.7, 'count': 130}},\n",
       " {'id': 19,\n",
       "  'title': \"Opna Women's Short Sleeve Moisture\",\n",
       "  'price': 7.95,\n",
       "  'description': '100% Polyester, Machine wash, 100% cationic polyester interlock, Machine Wash & Pre Shrunk for a Great Fit, Lightweight, roomy and highly breathable with moisture wicking fabric which helps to keep moisture away, Soft Lightweight Fabric with comfortable V-neck collar and a slimmer fit, delivers a sleek, more feminine silhouette and Added Comfort',\n",
       "  'category': \"women's clothing\",\n",
       "  'image': 'https://fakestoreapi.com/img/51eg55uWmdL._AC_UX679_.jpg',\n",
       "  'rating': {'rate': 4.5, 'count': 146}},\n",
       " {'id': 20,\n",
       "  'title': 'DANVOUY Womens T Shirt Casual Cotton Short',\n",
       "  'price': 12.99,\n",
       "  'description': '95%Cotton,5%Spandex, Features: Casual, Short Sleeve, Letter Print,V-Neck,Fashion Tees, The fabric is soft and has some stretch., Occasion: Casual/Office/Beach/School/Home/Street. Season: Spring,Summer,Autumn,Winter.',\n",
       "  'category': \"women's clothing\",\n",
       "  'image': 'https://fakestoreapi.com/img/61pHAEJ4NML._AC_UX679_.jpg',\n",
       "  'rating': {'rate': 3.6, 'count': 145}}]"
      ]
     },
     "execution_count": 1,
     "metadata": {},
     "output_type": "execute_result"
    }
   ],
   "source": [
    "import requests\n",
    "\n",
    "BASE_URL = 'https://fakestoreapi.com'\n",
    "\n",
    "response = requests.get(f\"{BASE_URL}/products\")\n",
    "response.json()"
   ]
  },
  {
   "cell_type": "markdown",
   "id": "418c8e97",
   "metadata": {},
   "source": [
    "**NOTE:**  \n",
    "Se você olhar de perto, a resposta **JSON** se parece com uma <u>lista de dicionários Python</u> e isso pode ser muito útil para trabalharmos com esses recursos como dicionários.\n",
    "\n",
    "Como o endpoint **/products** retorna muitos dados, vamos limitar esses dados a apenas 3 produtos. Para fazer isso, temos um ponto final **/products?limit=x** onde **x** é um inteiro positivo. O limité chamado de parâmetro de consulta. Vamos ver como podemos adicionar esse parâmetro de consulta na solicitação."
   ]
  },
  {
   "cell_type": "code",
   "execution_count": 2,
   "id": "081776aa",
   "metadata": {},
   "outputs": [
    {
     "data": {
      "text/plain": [
       "[{'id': 1,\n",
       "  'title': 'Fjallraven - Foldsack No. 1 Backpack, Fits 15 Laptops',\n",
       "  'price': 109.95,\n",
       "  'description': 'Your perfect pack for everyday use and walks in the forest. Stash your laptop (up to 15 inches) in the padded sleeve, your everyday',\n",
       "  'category': \"men's clothing\",\n",
       "  'image': 'https://fakestoreapi.com/img/81fPKd-2AYL._AC_SL1500_.jpg',\n",
       "  'rating': {'rate': 3.9, 'count': 120}},\n",
       " {'id': 2,\n",
       "  'title': 'Mens Casual Premium Slim Fit T-Shirts ',\n",
       "  'price': 22.3,\n",
       "  'description': 'Slim-fitting style, contrast raglan long sleeve, three-button henley placket, light weight & soft fabric for breathable and comfortable wearing. And Solid stitched shirts with round neck made for durability and a great fit for casual fashion wear and diehard baseball fans. The Henley style round neckline includes a three-button placket.',\n",
       "  'category': \"men's clothing\",\n",
       "  'image': 'https://fakestoreapi.com/img/71-3HjGNDUL._AC_SY879._SX._UX._SY._UY_.jpg',\n",
       "  'rating': {'rate': 4.1, 'count': 259}},\n",
       " {'id': 3,\n",
       "  'title': 'Mens Cotton Jacket',\n",
       "  'price': 55.99,\n",
       "  'description': 'great outerwear jackets for Spring/Autumn/Winter, suitable for many occasions, such as working, hiking, camping, mountain/rock climbing, cycling, traveling or other outdoors. Good gift choice for you or your family member. A warm hearted love to Father, husband or son in this thanksgiving or Christmas Day.',\n",
       "  'category': \"men's clothing\",\n",
       "  'image': 'https://fakestoreapi.com/img/71li-ujtlUL._AC_UX679_.jpg',\n",
       "  'rating': {'rate': 4.7, 'count': 500}}]"
      ]
     },
     "execution_count": 2,
     "metadata": {},
     "output_type": "execute_result"
    }
   ],
   "source": [
    "import requests\n",
    "\n",
    "BASE_URL = 'https://fakestoreapi.com'\n",
    "\n",
    "query_params = {\n",
    "  \"limit\": 3\n",
    "}\n",
    "\n",
    "response = requests.get(f\"{BASE_URL}/products\", params=query_params)\n",
    "response.json()"
   ]
  },
  {
   "cell_type": "markdown",
   "id": "f32a499d",
   "metadata": {},
   "source": [
    "**NOTE:**  \n",
    "E se eu desejar um pegar um produto pelo ID?"
   ]
  },
  {
   "cell_type": "code",
   "execution_count": 3,
   "id": "cb4bbe66",
   "metadata": {},
   "outputs": [
    {
     "data": {
      "text/plain": [
       "{'id': 18,\n",
       " 'title': \"MBJ Women's Solid Short Sleeve Boat Neck V \",\n",
       " 'price': 9.85,\n",
       " 'description': '95% RAYON 5% SPANDEX, Made in USA or Imported, Do Not Bleach, Lightweight fabric with great stretch for comfort, Ribbed on sleeves and neckline / Double stitching on bottom hem',\n",
       " 'category': \"women's clothing\",\n",
       " 'image': 'https://fakestoreapi.com/img/71z3kpMAYsL._AC_UY879_.jpg',\n",
       " 'rating': {'rate': 4.7, 'count': 130}}"
      ]
     },
     "execution_count": 3,
     "metadata": {},
     "output_type": "execute_result"
    }
   ],
   "source": [
    "import requests\n",
    "\n",
    "BASE_URL = 'https://fakestoreapi.com'\n",
    "\n",
    "response = requests.get(f\"{BASE_URL}/products/18\")\n",
    "response.json()"
   ]
  },
  {
   "cell_type": "markdown",
   "id": "3b5415b2",
   "metadata": {},
   "source": [
    "## 01.2 - Utilizando o método get() para lista repositórios do GitHub\n",
    "Agora nós vamos ver como utilizar o método **requests.get()** para listar repositórios do GitHub de determinado usuário:"
   ]
  },
  {
   "cell_type": "code",
   "execution_count": 4,
   "id": "c842c69a",
   "metadata": {},
   "outputs": [],
   "source": [
    "import requests\n",
    "\n",
    "class RepositoryList():\n",
    "\n",
    "  # Constructor\n",
    "  def __init__(self, user):\n",
    "      self._user = user\n",
    "  \n",
    "  def get_repositories(self):\n",
    "    response = requests.get(f'https://api.github.com/users/{self._user}/repos')\n",
    "    if response.status_code == 200:\n",
    "      return response.json()\n",
    "    else:\n",
    "      return response.status_code\n",
    "\n",
    "\n",
    "  def print_repositories(self):\n",
    "    data = self.get_repositories()\n",
    "    if type(data) is not int:\n",
    "      for i in range(len(data)):\n",
    "        print(data[i]['name'])\n",
    "    else:\n",
    "      print(data)"
   ]
  },
  {
   "cell_type": "code",
   "execution_count": 5,
   "id": "6489867b",
   "metadata": {},
   "outputs": [
    {
     "name": "stdout",
     "output_type": "stream",
     "text": [
      "dota2learning\n",
      "drigols\n",
      "drigols.github.io\n",
      "job-salary-prediction\n",
      "python-week-2022\n",
      "studies\n",
      "tdd-with-python\n",
      "turnover-project\n"
     ]
    }
   ],
   "source": [
    "repo = RepositoryList(\"drigols\") # Class instance.\n",
    "repo.print_repositories()"
   ]
  },
  {
   "cell_type": "markdown",
   "id": "eec39ef5",
   "metadata": {},
   "source": [
    "**NOTE:**  \n",
    "Vejam que nós temos:\n",
    " - Uma classe que recebe no seu construtor o nome do usuário;\n",
    " - Um método que pega os repositórios do usuário (get_repositories):\n",
    "   - Uma observação é que esse método também verifica se não houve nenhum erro na requisição.\n",
    " - E por fim, um método que imprime os repositórios do usuário (print_repositories)"
   ]
  },
  {
   "cell_type": "markdown",
   "id": "916d78f9",
   "metadata": {},
   "source": [
    "---"
   ]
  },
  {
   "cell_type": "markdown",
   "id": "8fa567fb",
   "metadata": {},
   "source": [
    "# 02 - Fazendo requisições com o método post()\n",
    "Da mesma maneira que a biblioteca ***requests*** tem o método g**et()** para consulta ele também tem o método **post()**."
   ]
  },
  {
   "cell_type": "markdown",
   "id": "6b42ac32",
   "metadata": {},
   "source": [
    "## 02.1 - Utilizando o método post() para adicionar recursos (dados) na Fake Store API\n",
    "\n",
    "De acordo com a documentação da **Fake Store API**, um produto possui os seguintes atributos:\n",
    "\n",
    " - title;\n",
    " - price;\n",
    " - description.\n",
    " - image;\n",
    " - category.\n",
    "\n",
    "Sabendo disso nós poderíamos criar um dicionário que simule esses atributos, algo como isso:"
   ]
  },
  {
   "cell_type": "code",
   "execution_count": 6,
   "id": "2157a9df",
   "metadata": {},
   "outputs": [],
   "source": [
    "new_product = {\n",
    "  \"title\": 'test product',\n",
    "  \"price\": 13.5,\n",
    "  \"description\": 'lorem ipsum set',\n",
    "  \"image\": 'https://i.pravatar.cc',\n",
    "  \"category\": 'electronic'\n",
    "}"
   ]
  },
  {
   "cell_type": "markdown",
   "id": "b1bad194",
   "metadata": {},
   "source": [
    "Agora é só utilizar o método **post()** e passa o recurso para a **API**:"
   ]
  },
  {
   "cell_type": "code",
   "execution_count": 7,
   "id": "e932d433",
   "metadata": {},
   "outputs": [
    {
     "name": "stdout",
     "output_type": "stream",
     "text": [
      "{'id': 21, 'title': 'test product', 'price': 13.5, 'description': 'lorem ipsum set', 'image': 'https://i.pravatar.cc', 'category': 'electronic'}\n"
     ]
    }
   ],
   "source": [
    "import requests\n",
    "\n",
    "BASE_URL = 'https://fakestoreapi.com'\n",
    "\n",
    "new_product = {\n",
    "  \"title\": 'test product',\n",
    "  \"price\": 13.5,\n",
    "  \"description\": 'lorem ipsum set',\n",
    "  \"image\": 'https://i.pravatar.cc',\n",
    "  \"category\": 'electronic'\n",
    "}\n",
    "\n",
    "response = requests.post(f\"{BASE_URL}/products\", json=new_product)\n",
    "print(response.json())"
   ]
  },
  {
   "cell_type": "markdown",
   "id": "a6051792",
   "metadata": {},
   "source": [
    "**NOTE:**  \n",
    "No método **requests.post()**, podemos passar dados **JSON** usando o argumento **json**. O uso do argumento **json** define automaticamente *Content-Type* como *Application/JSON* no cabeçalho da solicitação.\n",
    "\n",
    "Se não usarmos o argumento **json**, temos que fazer a requisição POST assim:"
   ]
  },
  {
   "cell_type": "code",
   "execution_count": 8,
   "id": "86c8e9a1",
   "metadata": {},
   "outputs": [
    {
     "name": "stdout",
     "output_type": "stream",
     "text": [
      "{'id': 21, 'title': 'test product', 'price': 13.5, 'description': 'lorem ipsum set', 'image': 'https://i.pravatar.cc', 'category': 'electronic'}\n"
     ]
    }
   ],
   "source": [
    "import requests\n",
    "import json\n",
    "\n",
    "BASE_URL = 'https://fakestoreapi.com'\n",
    "\n",
    "new_product = {\n",
    "  \"title\": 'test product',\n",
    "  \"price\": 13.5,\n",
    "  \"description\": 'lorem ipsum set',\n",
    "  \"image\": 'https://i.pravatar.cc',\n",
    "  \"category\": 'electronic'\n",
    "}\n",
    "\n",
    "headers = {\n",
    "  \"Content-Type\": \"application/json\"\n",
    "}\n",
    "\n",
    "response = requests.post(f\"{BASE_URL}/products\", data=json.dumps(new_product), headers=headers)\n",
    "print(response.json())"
   ]
  },
  {
   "cell_type": "markdown",
   "id": "87cd35f1",
   "metadata": {},
   "source": [
    "---"
   ]
  },
  {
   "cell_type": "markdown",
   "id": "fb5d2538",
   "metadata": {},
   "source": [
    "# 03 - Atualizando os recursos (dados) com o método put()\n",
    "Muitas vezes vamos precisar atualizar os recursos (dados) existentes na **API**. Usando a solicitação **PUT**, podemos atualizar os dados completos.\n",
    "\n",
    "> Isso significa que quando fazemos uma solicitação **PUT**, ela substitui os dados antigos pelos novos."
   ]
  },
  {
   "cell_type": "markdown",
   "id": "db2a399e",
   "metadata": {},
   "source": [
    "## 03.1 - Utilizando o método put() para atualizar recursos (dados) na Fake Store API\n",
    "Na solicitação **POST**, nós criamos um novo produto cujo valor do id era 21. Vamos atualizar o produto antigo com um novo produto fazendo uma solicitação **PUT** no endpoint **products/<product_id>**."
   ]
  },
  {
   "cell_type": "code",
   "execution_count": 9,
   "id": "5c36b86d",
   "metadata": {},
   "outputs": [
    {
     "data": {
      "text/plain": [
       "{'id': 21, 'title': 'updated_product', 'category': 'clothing'}"
      ]
     },
     "execution_count": 9,
     "metadata": {},
     "output_type": "execute_result"
    }
   ],
   "source": [
    "import requests\n",
    "\n",
    "BASE_URL = 'https://fakestoreapi.com'\n",
    "\n",
    "updated_product = {\n",
    "  \"title\": 'updated_product',\n",
    "  \"category\": 'clothing'\n",
    "}\n",
    "\n",
    "response = requests.put(f\"{BASE_URL}/products/21\", json=updated_product)\n",
    "response.json()"
   ]
  },
  {
   "cell_type": "markdown",
   "id": "9b863c36",
   "metadata": {},
   "source": [
    "**NOTE:**  \n",
    "Observe que o produto antigo foi completamente substituído pelo produto atualizado."
   ]
  },
  {
   "cell_type": "markdown",
   "id": "097e6925",
   "metadata": {},
   "source": [
    "---"
   ]
  },
  {
   "cell_type": "markdown",
   "id": "1d8a3d39",
   "metadata": {},
   "source": [
    "# 04 - Atualizando atributos (campos) específicos com o método patch()\n",
    "Às vezes, não precisamos substituir completamente os dados antigos. Em vez disso, desejamos modificar apenas alguns atributos (campos). Nesse caso, usamos uma solicitação **PATCH**."
   ]
  },
  {
   "cell_type": "markdown",
   "id": "096bd25b",
   "metadata": {},
   "source": [
    "## 04.1 - Utilizando o método patch() para atualizar atributos (campos) específicos em Fake Store API\n",
    "Vamos atualizar a categoria do produto de vestuário para eletrônico fazendo uma solicitação de **PATCH** no endpoint **products/<product_id>**:"
   ]
  },
  {
   "cell_type": "code",
   "execution_count": 10,
   "id": "ce0d8e2a",
   "metadata": {},
   "outputs": [
    {
     "data": {
      "text/plain": [
       "{'id': 21, 'category': 'electronic'}"
      ]
     },
     "execution_count": 10,
     "metadata": {},
     "output_type": "execute_result"
    }
   ],
   "source": [
    "import requests\n",
    "\n",
    "BASE_URL = 'https://fakestoreapi.com'\n",
    "\n",
    "updated_product = {\n",
    "  \"category\": 'electronic'\n",
    "}\n",
    "\n",
    "response = requests.patch(f\"{BASE_URL}/products/21\", json=updated_product)\n",
    "response.json()"
   ]
  },
  {
   "cell_type": "markdown",
   "id": "27cb1cf4",
   "metadata": {},
   "source": [
    "---"
   ]
  },
  {
   "cell_type": "markdown",
   "id": "6d7714c6",
   "metadata": {},
   "source": [
    "# 05 - Deletando recursos com o método delete()\n",
    "Como o nome sugere, se você deseja excluir um recurso da **API**, pode usar uma solicitação **DELETE**."
   ]
  },
  {
   "cell_type": "markdown",
   "id": "b592bc20",
   "metadata": {},
   "source": [
    "## 05.1 - Deletando recursos em Fake Store API com o método delete()\n",
    "Agora vamos excluir o produto que nós adicionamos, cujo o id é 21:"
   ]
  },
  {
   "cell_type": "code",
   "execution_count": 11,
   "id": "d7e6d5b0",
   "metadata": {},
   "outputs": [
    {
     "data": {
      "text/plain": [
       "<Response [200]>"
      ]
     },
     "execution_count": 11,
     "metadata": {},
     "output_type": "execute_result"
    }
   ],
   "source": [
    "import requests\n",
    "\n",
    "BASE_URL = 'https://fakestoreapi.com'\n",
    "\n",
    "\n",
    "response = requests.delete(f\"{BASE_URL}/products/21\")\n",
    "response"
   ]
  },
  {
   "cell_type": "markdown",
   "id": "6a15f7f9",
   "metadata": {},
   "source": [
    "**NOTE:**  \n",
    "Vejam que nós obtivemos sucesso (200) na requisição."
   ]
  },
  {
   "cell_type": "markdown",
   "id": "0f050119",
   "metadata": {},
   "source": [
    "---"
   ]
  },
  {
   "cell_type": "markdown",
   "id": "932655ed",
   "metadata": {},
   "source": [
    "**REFERÊNCIAS:**  \n",
    "[Requests: HTTP for Humans™](https://docs.python-requests.org/en/latest/)"
   ]
  },
  {
   "cell_type": "markdown",
   "id": "3cfae234",
   "metadata": {},
   "source": [
    "---"
   ]
  },
  {
   "cell_type": "markdown",
   "id": "fbcc9b36",
   "metadata": {},
   "source": [
    "**Rodrigo Leite -** *drigols*"
   ]
  }
 ],
 "metadata": {
  "kernelspec": {
   "display_name": "Python 3",
   "language": "python",
   "name": "python3"
  },
  "language_info": {
   "codemirror_mode": {
    "name": "ipython",
    "version": 3
   },
   "file_extension": ".py",
   "mimetype": "text/x-python",
   "name": "python",
   "nbconvert_exporter": "python",
   "pygments_lexer": "ipython3",
   "version": "3.8.8"
  }
 },
 "nbformat": 4,
 "nbformat_minor": 5
}
