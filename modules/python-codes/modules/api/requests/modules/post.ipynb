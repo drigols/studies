{
 "cells": [
  {
   "cell_type": "markdown",
   "id": "0337949e",
   "metadata": {},
   "source": [
    "# Fazendo requisições com o método post()\n",
    "Da mesma maneira que a biblioteca ***requests*** tem o método g**et()** para consulta ele também tem o método **post()**."
   ]
  },
  {
   "cell_type": "markdown",
   "id": "235fc4ff",
   "metadata": {},
   "source": [
    "## 01 - Utilizando o método post() para adicionar recursos (dados) na Fake Store API\n",
    "\n",
    "De acordo com a documentação da **Fake Store API**, um produto possui os seguintes atributos:\n",
    "\n",
    " - title;\n",
    " - price;\n",
    " - description.\n",
    " - image;\n",
    " - category.\n",
    "\n",
    "Sabendo disso nós poderíamos criar um dicionário que simule esses atributos, algo como isso:"
   ]
  },
  {
   "cell_type": "code",
   "execution_count": 1,
   "id": "965a028d",
   "metadata": {},
   "outputs": [],
   "source": [
    "new_product = {\n",
    "  \"title\": 'test product',\n",
    "  \"price\": 13.5,\n",
    "  \"description\": 'lorem ipsum set',\n",
    "  \"image\": 'https://i.pravatar.cc',\n",
    "  \"category\": 'electronic'\n",
    "}"
   ]
  },
  {
   "cell_type": "markdown",
   "id": "dffb4ce2",
   "metadata": {},
   "source": [
    "Agora é só utilizar o método **post()** e passa o recurso para a **API**:"
   ]
  },
  {
   "cell_type": "code",
   "execution_count": 2,
   "id": "11b78a4c",
   "metadata": {},
   "outputs": [
    {
     "name": "stdout",
     "output_type": "stream",
     "text": [
      "{'id': 21, 'title': 'test product', 'price': 13.5, 'description': 'lorem ipsum set', 'image': 'https://i.pravatar.cc', 'category': 'electronic'}\n"
     ]
    }
   ],
   "source": [
    "import requests\n",
    "\n",
    "BASE_URL = 'https://fakestoreapi.com'\n",
    "\n",
    "new_product = {\n",
    "  \"title\": 'test product',\n",
    "  \"price\": 13.5,\n",
    "  \"description\": 'lorem ipsum set',\n",
    "  \"image\": 'https://i.pravatar.cc',\n",
    "  \"category\": 'electronic'\n",
    "}\n",
    "\n",
    "response = requests.post(f\"{BASE_URL}/products\", json=new_product)\n",
    "print(response.json())"
   ]
  },
  {
   "cell_type": "markdown",
   "id": "765a7def",
   "metadata": {},
   "source": [
    "**NOTE:**  \n",
    "No método **requests.post()**, podemos passar dados **JSON** usando o argumento **json**. O uso do argumento **json** define automaticamente *Content-Type* como *Application/JSON* no cabeçalho da solicitação.\n",
    "\n",
    "Se não usarmos o argumento **json**, temos que fazer a requisição POST assim:"
   ]
  },
  {
   "cell_type": "code",
   "execution_count": 3,
   "id": "009f5ef8",
   "metadata": {},
   "outputs": [
    {
     "name": "stdout",
     "output_type": "stream",
     "text": [
      "{'id': 21, 'title': 'test product', 'price': 13.5, 'description': 'lorem ipsum set', 'image': 'https://i.pravatar.cc', 'category': 'electronic'}\n"
     ]
    }
   ],
   "source": [
    "import requests\n",
    "import json\n",
    "\n",
    "BASE_URL = 'https://fakestoreapi.com'\n",
    "\n",
    "new_product = {\n",
    "  \"title\": 'test product',\n",
    "  \"price\": 13.5,\n",
    "  \"description\": 'lorem ipsum set',\n",
    "  \"image\": 'https://i.pravatar.cc',\n",
    "  \"category\": 'electronic'\n",
    "}\n",
    "\n",
    "headers = {\n",
    "  \"Content-Type\": \"application/json\"\n",
    "}\n",
    "\n",
    "response = requests.post(f\"{BASE_URL}/products\", data=json.dumps(new_product), headers=headers)\n",
    "print(response.json())"
   ]
  },
  {
   "cell_type": "markdown",
   "id": "fbe3cc8b",
   "metadata": {},
   "source": [
    "---"
   ]
  },
  {
   "cell_type": "markdown",
   "id": "5da1275c",
   "metadata": {},
   "source": [
    "**REFERÊNCIAS:**  \n",
    "[Requests: HTTP for Humans™](https://docs.python-requests.org/en/latest/)"
   ]
  },
  {
   "cell_type": "markdown",
   "id": "0c2ca614",
   "metadata": {},
   "source": [
    "**Rodrigo Leite -** *drigols*"
   ]
  }
 ],
 "metadata": {
  "kernelspec": {
   "display_name": "Python 3",
   "language": "python",
   "name": "python3"
  },
  "language_info": {
   "codemirror_mode": {
    "name": "ipython",
    "version": 3
   },
   "file_extension": ".py",
   "mimetype": "text/x-python",
   "name": "python",
   "nbconvert_exporter": "python",
   "pygments_lexer": "ipython3",
   "version": "3.8.8"
  }
 },
 "nbformat": 4,
 "nbformat_minor": 5
}
