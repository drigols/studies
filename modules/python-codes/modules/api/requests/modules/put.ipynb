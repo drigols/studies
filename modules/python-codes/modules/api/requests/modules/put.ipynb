{
 "cells": [
  {
   "cell_type": "markdown",
   "id": "19d87943",
   "metadata": {},
   "source": [
    "# Atualizando os recursos (dados) com o método put()\n",
    "Muitas vezes vamos precisar atualizar os recursos (dados) existentes na **API**. Usando a solicitação **PUT**, podemos atualizar os dados completos.\n",
    "\n",
    "> Isso significa que quando fazemos uma solicitação **PUT**, ela substitui os dados antigos pelos novos."
   ]
  },
  {
   "cell_type": "markdown",
   "id": "60256b1b",
   "metadata": {},
   "source": [
    "## 01 - Utilizando o método put() para atualizar recursos (dados) na Fake Store API\n",
    "Na solicitação **POST**, nós criamos um novo produto cujo valor do id era 21. Vamos atualizar o produto antigo com um novo produto fazendo uma solicitação **PUT** no endpoint **products/<product_id>**."
   ]
  },
  {
   "cell_type": "code",
   "execution_count": 1,
   "id": "ec54feb5",
   "metadata": {},
   "outputs": [
    {
     "data": {
      "text/plain": [
       "{'id': 21, 'title': 'updated_product', 'category': 'clothing'}"
      ]
     },
     "execution_count": 1,
     "metadata": {},
     "output_type": "execute_result"
    }
   ],
   "source": [
    "import requests\n",
    "\n",
    "BASE_URL = 'https://fakestoreapi.com'\n",
    "\n",
    "updated_product = {\n",
    "  \"title\": 'updated_product',\n",
    "  \"category\": 'clothing'\n",
    "}\n",
    "\n",
    "response = requests.put(f\"{BASE_URL}/products/21\", json=updated_product)\n",
    "response.json()"
   ]
  },
  {
   "cell_type": "markdown",
   "id": "39bd763e",
   "metadata": {},
   "source": [
    "**NOTE:**  \n",
    "Observe que o produto antigo foi completamente substituído pelo produto atualizado."
   ]
  },
  {
   "cell_type": "markdown",
   "id": "460b1b25",
   "metadata": {},
   "source": [
    "---"
   ]
  },
  {
   "cell_type": "markdown",
   "id": "02073006",
   "metadata": {},
   "source": [
    "**REFERÊNCIAS:**  \n",
    "[Requests: HTTP for Humans™](https://docs.python-requests.org/en/latest/)"
   ]
  },
  {
   "cell_type": "markdown",
   "id": "e6a26434",
   "metadata": {},
   "source": [
    "**Rodrigo Leite -** *drigols*"
   ]
  }
 ],
 "metadata": {
  "kernelspec": {
   "display_name": "Python 3",
   "language": "python",
   "name": "python3"
  },
  "language_info": {
   "codemirror_mode": {
    "name": "ipython",
    "version": 3
   },
   "file_extension": ".py",
   "mimetype": "text/x-python",
   "name": "python",
   "nbconvert_exporter": "python",
   "pygments_lexer": "ipython3",
   "version": "3.8.8"
  }
 },
 "nbformat": 4,
 "nbformat_minor": 5
}
