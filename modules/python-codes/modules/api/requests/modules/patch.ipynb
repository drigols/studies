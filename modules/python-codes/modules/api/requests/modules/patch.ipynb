{
 "cells": [
  {
   "cell_type": "markdown",
   "id": "3a543374",
   "metadata": {},
   "source": [
    "# Atualizando atributos (campos) específicos com o método patch()\n",
    "Às vezes, não precisamos substituir completamente os dados antigos. Em vez disso, desejamos modificar apenas alguns atributos (campos). Nesse caso, usamos uma solicitação **PATCH**."
   ]
  },
  {
   "cell_type": "markdown",
   "id": "aca8b757",
   "metadata": {},
   "source": [
    "## 01 - Utilizando o método patch() para atualizar atributos (campos) específicos em Fake Store API\n",
    "Vamos atualizar a categoria do produto de vestuário para eletrônico fazendo uma solicitação de **PATCH** no endpoint **products/<product_id>**:"
   ]
  },
  {
   "cell_type": "code",
   "execution_count": 1,
   "id": "74a1adbb",
   "metadata": {},
   "outputs": [
    {
     "data": {
      "text/plain": [
       "{'id': 21, 'category': 'electronic'}"
      ]
     },
     "execution_count": 1,
     "metadata": {},
     "output_type": "execute_result"
    }
   ],
   "source": [
    "import requests\n",
    "\n",
    "BASE_URL = 'https://fakestoreapi.com'\n",
    "\n",
    "updated_product = {\n",
    "  \"category\": 'electronic'\n",
    "}\n",
    "\n",
    "response = requests.patch(f\"{BASE_URL}/products/21\", json=updated_product)\n",
    "response.json()"
   ]
  },
  {
   "cell_type": "markdown",
   "id": "4edc7251",
   "metadata": {},
   "source": [
    "---"
   ]
  },
  {
   "cell_type": "markdown",
   "id": "0b98a0c7",
   "metadata": {},
   "source": [
    "**REFERÊNCIAS:**  \n",
    "[Requests: HTTP for Humans™](https://docs.python-requests.org/en/latest/)"
   ]
  },
  {
   "cell_type": "markdown",
   "id": "74a6b391",
   "metadata": {},
   "source": [
    "**Rodrigo Leite -** *drigols*"
   ]
  }
 ],
 "metadata": {
  "kernelspec": {
   "display_name": "Python 3",
   "language": "python",
   "name": "python3"
  },
  "language_info": {
   "codemirror_mode": {
    "name": "ipython",
    "version": 3
   },
   "file_extension": ".py",
   "mimetype": "text/x-python",
   "name": "python",
   "nbconvert_exporter": "python",
   "pygments_lexer": "ipython3",
   "version": "3.8.8"
  }
 },
 "nbformat": 4,
 "nbformat_minor": 5
}
