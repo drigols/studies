{
 "cells": [
  {
   "cell_type": "markdown",
   "id": "a20802df",
   "metadata": {},
   "source": [
    "# Exceções"
   ]
  },
  {
   "cell_type": "markdown",
   "id": "3a7be15b",
   "metadata": {},
   "source": [
    "# 01 - LBYL vs. EAFP\n",
    "\n",
    "Bem, antes de iniciar os estudos sobre **Exceções** vamos entender dois conceitos muito importantes que são:\n",
    "\n",
    " - **Loock Before You Leap (if approach):**\n",
    "   - Olhe antes de saltar\n",
    " - **Easier to Ask for Forgiveness than Permission (try... except approach):**\n",
    "   - Mais fácil tentar do que pedir permissão\n",
    "\n",
    "Não entendeu? Vamos ver dois exemplos práticos para ficar mais claro:"
   ]
  },
  {
   "cell_type": "code",
   "execution_count": 1,
   "id": "aff742b1",
   "metadata": {},
   "outputs": [
    {
     "name": "stdout",
     "output_type": "stream",
     "text": [
      "Don't have 'a' in dictionary!\n"
     ]
    }
   ],
   "source": [
    "#LBYL Approach.\n",
    "dic = {}\n",
    "\n",
    "if 'a' in dic:\n",
    "  print(dic['a'])\n",
    "else:\n",
    "  print(\"Don't have 'a' in dictionary!\")"
   ]
  },
  {
   "cell_type": "markdown",
   "id": "e4fedcff",
   "metadata": {},
   "source": [
    "**NOTE:**  \n",
    "Vejam que nessa abordagem nós estamos **olhando (verificando) antes (Loock Before You Leap - LBYL)**."
   ]
  },
  {
   "cell_type": "code",
   "execution_count": 2,
   "id": "1b2de202",
   "metadata": {},
   "outputs": [
    {
     "name": "stdout",
     "output_type": "stream",
     "text": [
      "Don't have 'a' in dictionary!\n"
     ]
    }
   ],
   "source": [
    "#EAFP Approach.\n",
    "dic = {}\n",
    "\n",
    "try:\n",
    "  print(dic['a'])\n",
    "except:\n",
    "  print(\"Don't have 'a' in dictionary!\")"
   ]
  },
  {
   "cell_type": "markdown",
   "id": "c3df4b04",
   "metadata": {},
   "source": [
    "**NOTE:**  \n",
    "Diferente da abordagem de com **if** essa não pede (verifica) permissão... Ela apenas tenta (try), se não conseguir ela lança uma exceção."
   ]
  },
  {
   "cell_type": "markdown",
   "id": "23d88602",
   "metadata": {},
   "source": [
    "---"
   ]
  },
  {
   "cell_type": "markdown",
   "id": "700227c1",
   "metadata": {},
   "source": [
    "# 02 - Introduções ás Exceções\n",
    "\n",
    "Uma definião não formal de **Exceções** pode ser:\n",
    "\n",
    "> Exceções são erros levantados quando não é possível fazer aquilo que se esperava fazer.\n",
    "\n",
    "\n",
    "**NOTE:**  \n",
    "Uma observação crucial aqui é que essas **Exceções** podem ser:\n",
    "\n",
    " - Exceções prontas do Python *(Por exemplo: ZeroDivisionError, FileNotFoundError)*;\n",
    " - Exceções que nós mesmo criamos para evitar que algo \"quebre\" na nossa aplicação."
   ]
  },
  {
   "cell_type": "markdown",
   "id": "f1d0c292",
   "metadata": {},
   "source": [
    "---"
   ]
  },
  {
   "cell_type": "markdown",
   "id": "86a43f36",
   "metadata": {},
   "source": [
    "# 03 - try, except, else , finally & raise\n",
    "\n",
    "Antes de aprofundarmos nas principais **Exceções** do Python, vamos entender os comandos principais, que são:\n",
    "\n",
    " - **try:** Este bloco testará se haverá algum erro de exceção;\n",
    " - **except:** Este bloco tratará o erro de exceção;\n",
    " - **else:** Se não houver exceção, este bloco será executado;\n",
    " - **finally:** O bloco *finally* sempre é executado, com uma ou mais exceções é geradas ou não.\n",
    " - **raise:** O comndo *raise* gera (ou força) uma exceção manualmente.\n",
    "\n",
    "Para ficar mais claro, vejam o código abaixo:"
   ]
  },
  {
   "cell_type": "code",
   "execution_count": 3,
   "id": "8f4b5108",
   "metadata": {},
   "outputs": [
    {
     "name": "stdout",
     "output_type": "stream",
     "text": [
      "Yeah ! Your answer is : 1.5\n",
      "Sorry ! You are dividing by zero \n"
     ]
    }
   ],
   "source": [
    "def divide(x, y):\n",
    "  try:\n",
    "    result = x / y\n",
    "    print(\"Yeah ! Your answer is :\", result)\n",
    "  except ZeroDivisionError:\n",
    "    print(\"Sorry ! You are dividing by zero \")\n",
    "\n",
    "divide(3, 2)\n",
    "divide(3, 0)"
   ]
  },
  {
   "cell_type": "markdown",
   "id": "ca4d5991",
   "metadata": {},
   "source": [
    "Vejam que no código acima nós temos:\n",
    " - **try:** Verifica (testa) se haverá algum erro (exceção) no bloco, ou seja, se haverá erro na divisão entre **x/y**.\n",
    " - **except:** Se houver alguma exceção do tipo **ZeroDivisionError** ele retornar uma mensagem para o usuário.\n",
    "\n",
    "**NOTE:**  \n",
    "Agora vem algumas observações importantes aqui que são:\n",
    " - **O bloco try:**\n",
    "   - Verifica (testa) se ocorre algum erro (exceção).\n",
    " - **O bloco else:**\n",
    "   - É executado se não houver nenhuma exceção.\n",
    "\n",
    "Sabendo que o bloco  try testa algo; E o bloco else é executado caso esse algo não gere uma exceção, uma maneira mais inteligente seria dividir nosso problema assim:"
   ]
  },
  {
   "cell_type": "code",
   "execution_count": 4,
   "id": "4a2b7e3d",
   "metadata": {},
   "outputs": [
    {
     "name": "stdout",
     "output_type": "stream",
     "text": [
      "Yeah ! Your answer is : 1.5\n",
      "Sorry ! You are dividing by zero \n"
     ]
    }
   ],
   "source": [
    "def divide(x, y):\n",
    "  try:\n",
    "    result = x / y\n",
    "  except ZeroDivisionError:\n",
    "    print(\"Sorry ! You are dividing by zero \")\n",
    "  else:\n",
    "    print(\"Yeah ! Your answer is :\", result)\n",
    "\n",
    "divide(3, 2)\n",
    "divide(3, 0)"
   ]
  },
  {
   "cell_type": "markdown",
   "id": "40c1911e",
   "metadata": {},
   "source": [
    "**NOTE:**  \n",
    "Vejam que agora faz mais sentido. Já que o bloco try ficou responsável apenas por verifica se vai haver alguma exceção dentro do mesmo, enquanto o else trata o que foi testado no bloco try.\n",
    "\n",
    "**E o bloco finally?**  \n",
    "O bloco **finally** sempre é executado independente de haver ou não uma exceção no bloco try. Vejam o exemplo abaixo:"
   ]
  },
  {
   "cell_type": "code",
   "execution_count": 5,
   "id": "43ea2190",
   "metadata": {},
   "outputs": [
    {
     "name": "stdout",
     "output_type": "stream",
     "text": [
      "Yeah ! Your answer is : 1.5\n",
      "This is always executed\n",
      "\n",
      "Sorry ! You are dividing by zero \n",
      "This is always executed\n",
      "\n"
     ]
    }
   ],
   "source": [
    "# Python code to illustrate\n",
    "# working of try()\n",
    "def divide(x, y):\n",
    "  try:\n",
    "    result = x / y\n",
    "  except ZeroDivisionError:\n",
    "    print(\"Sorry ! You are dividing by zero \")\n",
    "  else:\n",
    "    print(\"Yeah ! Your answer is :\", result)\n",
    "  finally:\n",
    "    # this block is always executed\n",
    "    print('This is always executed\\n')\n",
    "\n",
    "divide(3, 2)\n",
    "divide(3, 0)"
   ]
  },
  {
   "cell_type": "markdown",
   "id": "16850455",
   "metadata": {},
   "source": [
    "**NOTE:**  \n",
    "Vejam que o bloco **finally** foi executado com e sem a exceção. Mas quando usar ele? Um exemplo clássico é quando nós estamos trabalhando com abertura e fechamento de arquivos... Vejam o exemplo abaixo:"
   ]
  },
  {
   "cell_type": "code",
   "execution_count": 6,
   "id": "3026dc21",
   "metadata": {},
   "outputs": [],
   "source": [
    "def open_file(file):\n",
    "  try:\n",
    "    f = open(file, 'r')\n",
    "  except FileNotFoundError as fne:\n",
    "    print(fne)\n",
    "    print('Creating file...')\n",
    "    f = open(file, 'w')\n",
    "    f.write('Hello World!')\n",
    "  else:\n",
    "    data = f.readline()\n",
    "    print(data)\n",
    "  finally:\n",
    "    print('Closing file..')\n",
    "    f.close()\n",
    "    print(\"See you next time!\")"
   ]
  },
  {
   "cell_type": "code",
   "execution_count": 7,
   "id": "0737b7d4",
   "metadata": {},
   "outputs": [
    {
     "name": "stdout",
     "output_type": "stream",
     "text": [
      "Hello World!\n",
      "Closing file..\n",
      "See you next time!\n"
     ]
    }
   ],
   "source": [
    "open_file(\"file.txt\")"
   ]
  },
  {
   "cell_type": "code",
   "execution_count": 8,
   "id": "679b1460",
   "metadata": {},
   "outputs": [
    {
     "name": "stdout",
     "output_type": "stream",
     "text": [
      "[Errno 2] No such file or directory: 'new_file.txt'\n",
      "Creating file...\n",
      "Closing file..\n",
      "See you next time!\n"
     ]
    }
   ],
   "source": [
    "open_file(\"new_file.txt\")"
   ]
  },
  {
   "cell_type": "markdown",
   "id": "67a9a99d",
   "metadata": {},
   "source": [
    "**NOTE:**  \n",
    "Vejam que o bloco **finally** sempre é executado para fechar o arquivo que nós abrimos.\n",
    "\n",
    "**E o comando (palavra-reservada) raise?**  \n",
    "Na programação Python, exceções são geradas quando ocorrem erros em tempo de execução. Também podemos gerar exceções manualmente usando a palavra-chave **raise**.\n",
    "\n",
    "Vejam alguns exemplos de **raise** abaixo:\n",
    "\n",
    "```python\n",
    "if (date_provided.date() < current_date.date()):\n",
    "  raise ValueError(\"Date provided can't be in the past\")\n",
    "```"
   ]
  },
  {
   "cell_type": "code",
   "execution_count": 9,
   "id": "37c535a8",
   "metadata": {},
   "outputs": [
    {
     "ename": "Exception",
     "evalue": "The number shouldn't be an odd integer",
     "output_type": "error",
     "traceback": [
      "\u001b[1;31m---------------------------------------------------------------------------\u001b[0m",
      "\u001b[1;31mException\u001b[0m                                 Traceback (most recent call last)",
      "\u001b[1;32m<ipython-input-9-4c01d650915d>\u001b[0m in \u001b[0;36m<module>\u001b[1;34m\u001b[0m\n\u001b[0;32m      2\u001b[0m \u001b[1;33m\u001b[0m\u001b[0m\n\u001b[0;32m      3\u001b[0m \u001b[1;32mif\u001b[0m \u001b[0ma\u001b[0m \u001b[1;33m%\u001b[0m \u001b[1;36m2\u001b[0m \u001b[1;33m!=\u001b[0m \u001b[1;36m0\u001b[0m\u001b[1;33m:\u001b[0m\u001b[1;33m\u001b[0m\u001b[1;33m\u001b[0m\u001b[0m\n\u001b[1;32m----> 4\u001b[1;33m   \u001b[1;32mraise\u001b[0m \u001b[0mException\u001b[0m\u001b[1;33m(\u001b[0m\u001b[1;34m\"The number shouldn't be an odd integer\"\u001b[0m\u001b[1;33m)\u001b[0m\u001b[1;33m\u001b[0m\u001b[1;33m\u001b[0m\u001b[0m\n\u001b[0m",
      "\u001b[1;31mException\u001b[0m: The number shouldn't be an odd integer"
     ]
    }
   ],
   "source": [
    "a = 5\n",
    "\n",
    "if a % 2 != 0:\n",
    "  raise Exception(\"The number shouldn't be an odd integer\")"
   ]
  },
  {
   "cell_type": "code",
   "execution_count": 10,
   "id": "2f623267",
   "metadata": {},
   "outputs": [
    {
     "ename": "ValueError",
     "evalue": "String can't be changed into integer",
     "output_type": "error",
     "traceback": [
      "\u001b[1;31m---------------------------------------------------------------------------\u001b[0m",
      "\u001b[1;31mValueError\u001b[0m                                Traceback (most recent call last)",
      "\u001b[1;32m<ipython-input-10-26b169fd6d4e>\u001b[0m in \u001b[0;36m<module>\u001b[1;34m\u001b[0m\n\u001b[0;32m      3\u001b[0m \u001b[1;32mtry\u001b[0m\u001b[1;33m:\u001b[0m\u001b[1;33m\u001b[0m\u001b[1;33m\u001b[0m\u001b[0m\n\u001b[1;32m----> 4\u001b[1;33m   \u001b[0mnum\u001b[0m \u001b[1;33m=\u001b[0m \u001b[0mint\u001b[0m\u001b[1;33m(\u001b[0m\u001b[0ms\u001b[0m\u001b[1;33m)\u001b[0m\u001b[1;33m\u001b[0m\u001b[1;33m\u001b[0m\u001b[0m\n\u001b[0m\u001b[0;32m      5\u001b[0m \u001b[1;32mexcept\u001b[0m \u001b[0mValueError\u001b[0m\u001b[1;33m:\u001b[0m\u001b[1;33m\u001b[0m\u001b[1;33m\u001b[0m\u001b[0m\n",
      "\u001b[1;31mValueError\u001b[0m: invalid literal for int() with base 10: 'apple'",
      "\nDuring handling of the above exception, another exception occurred:\n",
      "\u001b[1;31mValueError\u001b[0m                                Traceback (most recent call last)",
      "\u001b[1;32m<ipython-input-10-26b169fd6d4e>\u001b[0m in \u001b[0;36m<module>\u001b[1;34m\u001b[0m\n\u001b[0;32m      4\u001b[0m   \u001b[0mnum\u001b[0m \u001b[1;33m=\u001b[0m \u001b[0mint\u001b[0m\u001b[1;33m(\u001b[0m\u001b[0ms\u001b[0m\u001b[1;33m)\u001b[0m\u001b[1;33m\u001b[0m\u001b[1;33m\u001b[0m\u001b[0m\n\u001b[0;32m      5\u001b[0m \u001b[1;32mexcept\u001b[0m \u001b[0mValueError\u001b[0m\u001b[1;33m:\u001b[0m\u001b[1;33m\u001b[0m\u001b[1;33m\u001b[0m\u001b[0m\n\u001b[1;32m----> 6\u001b[1;33m   \u001b[1;32mraise\u001b[0m \u001b[0mValueError\u001b[0m\u001b[1;33m(\u001b[0m\u001b[1;34m\"String can't be changed into integer\"\u001b[0m\u001b[1;33m)\u001b[0m\u001b[1;33m\u001b[0m\u001b[1;33m\u001b[0m\u001b[0m\n\u001b[0m",
      "\u001b[1;31mValueError\u001b[0m: String can't be changed into integer"
     ]
    }
   ],
   "source": [
    "s = 'apple'\n",
    "\n",
    "try:\n",
    "  num = int(s)\n",
    "except ValueError:\n",
    "  raise ValueError(\"String can't be changed into integer\")"
   ]
  },
  {
   "cell_type": "markdown",
   "id": "cc085ffe",
   "metadata": {},
   "source": [
    "**NOTE:**  \n",
    "Se você olhar bem para as saída acima da para ver que estamos manipulando as saídas das Exceções acima. Isso porque as exceções não estão retornando as mensagens padrão (default) e sim as que nós estamos mapeando com a palavra-reservada **raise**.\n",
    "\n",
    "**NOTE:**  \n",
    "Outra observação é que o **raise** gera um erro (voluntário) e interrompe o fluxo de controle do programa."
   ]
  },
  {
   "cell_type": "markdown",
   "id": "70463847",
   "metadata": {},
   "source": [
    "---"
   ]
  },
  {
   "cell_type": "markdown",
   "id": "8225d778",
   "metadata": {},
   "source": [
    "# 04 - Hierarquia das exceções\n",
    "Como nós sabemos o Python tem algumas exceções prontas. Essas Exceções seguem uma *Hierarquia* que nós vamos lista abaixo:\n",
    "\n",
    "**[Built-in Exceptions > Exception hierarchy](https://docs.python.org/3/library/exceptions.html#exception-hierarchy)**\n",
    "\n",
    "```python\n",
    "BaseException\n",
    " +-- SystemExit\n",
    " +-- KeyboardInterrupt\n",
    " +-- GeneratorExit\n",
    " +-- Exception\n",
    "      +-- StopIteration\n",
    "      +-- StopAsyncIteration\n",
    "      +-- ArithmeticError\n",
    "      |    +-- FloatingPointError\n",
    "      |    +-- OverflowError\n",
    "      |    +-- ZeroDivisionError\n",
    "      +-- AssertionError\n",
    "      +-- AttributeError\n",
    "      +-- BufferError\n",
    "      +-- EOFError\n",
    "      +-- ImportError\n",
    "      |    +-- ModuleNotFoundError\n",
    "      +-- LookupError\n",
    "      |    +-- IndexError\n",
    "      |    +-- KeyError\n",
    "      +-- MemoryError\n",
    "      +-- NameError\n",
    "      |    +-- UnboundLocalError\n",
    "      +-- OSError\n",
    "      |    +-- BlockingIOError\n",
    "      |    +-- ChildProcessError\n",
    "      |    +-- ConnectionError\n",
    "      |    |    +-- BrokenPipeError\n",
    "      |    |    +-- ConnectionAbortedError\n",
    "      |    |    +-- ConnectionRefusedError\n",
    "      |    |    +-- ConnectionResetError\n",
    "      |    +-- FileExistsError\n",
    "      |    +-- FileNotFoundError\n",
    "      |    +-- InterruptedError\n",
    "      |    +-- IsADirectoryError\n",
    "      |    +-- NotADirectoryError\n",
    "      |    +-- PermissionError\n",
    "      |    +-- ProcessLookupError\n",
    "      |    +-- TimeoutError\n",
    "      +-- ReferenceError\n",
    "      +-- RuntimeError\n",
    "      |    +-- NotImplementedError\n",
    "      |    +-- RecursionError\n",
    "      +-- SyntaxError\n",
    "      |    +-- IndentationError\n",
    "      |         +-- TabError\n",
    "      +-- SystemError\n",
    "      +-- TypeError\n",
    "      +-- ValueError\n",
    "      |    +-- UnicodeError\n",
    "      |         +-- UnicodeDecodeError\n",
    "      |         +-- UnicodeEncodeError\n",
    "      |         +-- UnicodeTranslateError\n",
    "      +-- Warning\n",
    "           +-- DeprecationWarning\n",
    "           +-- PendingDeprecationWarning\n",
    "           +-- RuntimeWarning\n",
    "           +-- SyntaxWarning\n",
    "           +-- UserWarning\n",
    "           +-- FutureWarning\n",
    "           +-- ImportWarning\n",
    "           +-- UnicodeWarning\n",
    "           +-- BytesWarning\n",
    "           +-- EncodingWarning\n",
    "           +-- ResourceWarning\n",
    "```\n",
    "\n",
    "**NOTE:**  \n",
    "Abaixo nós vamos apresentar alguns casos de uso para cada **Exceções** listada acima."
   ]
  },
  {
   "cell_type": "markdown",
   "id": "f87d455d",
   "metadata": {},
   "source": [
    "---"
   ]
  },
  {
   "cell_type": "markdown",
   "id": "9f05d4c6",
   "metadata": {},
   "source": [
    "## 04.1 - KeyboardInterrupt\n",
    "\n",
    "> Essa é talvez uma as **Exceções** mais simples que existe. Ela é simplesmente quando nós paramos a execução do programa.\n"
   ]
  },
  {
   "cell_type": "markdown",
   "id": "2f8b8c45",
   "metadata": {},
   "source": [
    "---"
   ]
  },
  {
   "cell_type": "markdown",
   "id": "5201ff96",
   "metadata": {},
   "source": [
    "## 04.2 - ZeroDivisionError\n",
    "\n",
    "> Como nós sabemos um dos maiores erros é permitir um programa (função ou método) fazer uma divisão por zero.\n",
    "\n",
    "Para entender melhor vamos seguir com o seguinte exemplo; Suponha que nós temos as seguintes variáveis **a** e **b**:"
   ]
  },
  {
   "cell_type": "code",
   "execution_count": 11,
   "id": "342b3957",
   "metadata": {},
   "outputs": [],
   "source": [
    "a = 10\n",
    "b = 0"
   ]
  },
  {
   "cell_type": "markdown",
   "id": "0cc11464",
   "metadata": {},
   "source": [
    "Eu posso fazer **a/b**? Bem, poder eu posso, mas isso vai retornar um erro!"
   ]
  },
  {
   "cell_type": "code",
   "execution_count": 12,
   "id": "18e22443",
   "metadata": {},
   "outputs": [
    {
     "ename": "ZeroDivisionError",
     "evalue": "division by zero",
     "output_type": "error",
     "traceback": [
      "\u001b[1;31m---------------------------------------------------------------------------\u001b[0m",
      "\u001b[1;31mZeroDivisionError\u001b[0m                         Traceback (most recent call last)",
      "\u001b[1;32m<ipython-input-12-aae42d317509>\u001b[0m in \u001b[0;36m<module>\u001b[1;34m\u001b[0m\n\u001b[1;32m----> 1\u001b[1;33m \u001b[0ma\u001b[0m\u001b[1;33m/\u001b[0m\u001b[0mb\u001b[0m\u001b[1;33m\u001b[0m\u001b[1;33m\u001b[0m\u001b[0m\n\u001b[0m",
      "\u001b[1;31mZeroDivisionError\u001b[0m: division by zero"
     ]
    }
   ],
   "source": [
    "a/b"
   ]
  },
  {
   "cell_type": "markdown",
   "id": "eb57695f",
   "metadata": {},
   "source": [
    "**NOTE:**  \n",
    " - Ou seja, esse é um erro que **pode acontecer**, porém nós não podemos ignorar esse erro.\n",
    " - Outra observação é que ele nós diz o nome do erro **(ZeroDivisionError: division by zero)**.\n",
    "\n",
    "Uma maneira (existem outras maneiras de implementar) simples para resolver isso seria a seguinte:"
   ]
  },
  {
   "cell_type": "code",
   "execution_count": 13,
   "id": "6fe3f134",
   "metadata": {},
   "outputs": [],
   "source": [
    "def div(a, b):\n",
    "  try:\n",
    "    print(\"Division Result:\", round(a/b))\n",
    "  except ZeroDivisionError as error:\n",
    "    print(error)"
   ]
  },
  {
   "cell_type": "code",
   "execution_count": 14,
   "id": "5aa51532",
   "metadata": {},
   "outputs": [
    {
     "name": "stdout",
     "output_type": "stream",
     "text": [
      "Division Result: 10\n"
     ]
    }
   ],
   "source": [
    "a = 20\n",
    "b = 2\n",
    "div(a, b)"
   ]
  },
  {
   "cell_type": "markdown",
   "id": "56a78433",
   "metadata": {},
   "source": [
    "Opa, deu certo... Agora vamos ver se dividir por zero:"
   ]
  },
  {
   "cell_type": "code",
   "execution_count": 15,
   "id": "737b6e08",
   "metadata": {},
   "outputs": [
    {
     "name": "stdout",
     "output_type": "stream",
     "text": [
      "division by zero\n"
     ]
    }
   ],
   "source": [
    "a = 20\n",
    "b = 0\n",
    "div(a, b)"
   ]
  },
  {
   "cell_type": "markdown",
   "id": "3da63b42",
   "metadata": {},
   "source": [
    "Bem, nós temos um retorno um pouco chato (division by zero). Podemos fazer algo, mais personalizado? Claro..."
   ]
  },
  {
   "cell_type": "code",
   "execution_count": 16,
   "id": "82adc86f",
   "metadata": {},
   "outputs": [],
   "source": [
    "def div(a, b):\n",
    "  try:\n",
    "    print(\"Division Result:\", round(a/b))\n",
    "  except ZeroDivisionError as error:\n",
    "    print(error)\n",
    "  else:\n",
    "    print(\"Without Error...\")\n",
    "  finally:\n",
    "    print(\"Here alway print...\")"
   ]
  },
  {
   "cell_type": "code",
   "execution_count": 17,
   "id": "fa8a61f5",
   "metadata": {},
   "outputs": [
    {
     "name": "stdout",
     "output_type": "stream",
     "text": [
      "Division Result: 10\n",
      "Without Error...\n",
      "Here alway print...\n"
     ]
    }
   ],
   "source": [
    "a = 20\n",
    "b = 2\n",
    "div(a, b)"
   ]
  },
  {
   "cell_type": "code",
   "execution_count": 18,
   "id": "2688cfa3",
   "metadata": {},
   "outputs": [
    {
     "name": "stdout",
     "output_type": "stream",
     "text": [
      "division by zero\n",
      "Here alway print...\n"
     ]
    }
   ],
   "source": [
    "a = 20\n",
    "b = 0\n",
    "div(a, b)"
   ]
  },
  {
   "cell_type": "markdown",
   "id": "cc9fd22f",
   "metadata": {},
   "source": [
    "**Olhando para às duas saídas acima nós temos as seguintes observaçõs:**  \n",
    " - **First:**\n",
    "   - Não tivemos nenhuma exceção do tipo **ZeroDivisionError**;\n",
    "   - Por isso, ele seguiu o fluxo e foi para o else;\n",
    "   - Para finalizar ele entrou na instrução *finally* **(a instrução finally sempre é executada)**.\n",
    " - **Second:**\n",
    "   - Tivemos uma exceção do tipo **ZeroDivisionError: division by zero**:\n",
    "     - Ele entrou nessa exceção, porém, só foi exibido uma mensagem na tela, mas nós poderíamos fazer algo mais bem elaborado.\n",
    "   - Não entramos no else;\n",
    "   - Como a instrução *finally* sempre é executada ele executou assim mesmo."
   ]
  },
  {
   "cell_type": "markdown",
   "id": "fe55edfb",
   "metadata": {},
   "source": [
    "---"
   ]
  },
  {
   "cell_type": "markdown",
   "id": "28f3f758",
   "metadata": {},
   "source": [
    "## 04.3 - FileNotFoundError\n",
    "\n",
    "> Um caso comum de **Exceções** é na hora de abrir arquivos.\n",
    "\n",
    "Por exemplo, imagine que você criou uma função que abre arquivos txt (no mesmo diretório), mas o usuário passou o nome errado do arquivo:"
   ]
  },
  {
   "cell_type": "code",
   "execution_count": 19,
   "id": "d23df1db",
   "metadata": {},
   "outputs": [],
   "source": [
    "def open_file(file_name):\n",
    "  with open(file_name, 'r') as file_object:\n",
    "    text = file_object.read()\n",
    "    print(text)"
   ]
  },
  {
   "cell_type": "code",
   "execution_count": 20,
   "id": "30347d8d",
   "metadata": {},
   "outputs": [
    {
     "name": "stdout",
     "output_type": "stream",
     "text": [
      "Hello World!\n"
     ]
    }
   ],
   "source": [
    "my_file = \"file.txt\"\n",
    "open_file(my_file)"
   ]
  },
  {
   "cell_type": "markdown",
   "id": "9f9ed0f1",
   "metadata": {},
   "source": [
    "**NOTE:**  \n",
    "Ótimo, funcionou corretamente, mas se eu (ou outra pessoa) passar o nome errado para a função?"
   ]
  },
  {
   "cell_type": "code",
   "execution_count": 21,
   "id": "d160ce39",
   "metadata": {},
   "outputs": [
    {
     "ename": "FileNotFoundError",
     "evalue": "[Errno 2] No such file or directory: 'new.txt'",
     "output_type": "error",
     "traceback": [
      "\u001b[1;31m---------------------------------------------------------------------------\u001b[0m",
      "\u001b[1;31mFileNotFoundError\u001b[0m                         Traceback (most recent call last)",
      "\u001b[1;32m<ipython-input-21-f232abb1aee1>\u001b[0m in \u001b[0;36m<module>\u001b[1;34m\u001b[0m\n\u001b[0;32m      1\u001b[0m \u001b[0mmy_file\u001b[0m \u001b[1;33m=\u001b[0m \u001b[1;34m\"new.txt\"\u001b[0m\u001b[1;33m\u001b[0m\u001b[1;33m\u001b[0m\u001b[0m\n\u001b[1;32m----> 2\u001b[1;33m \u001b[0mopen_file\u001b[0m\u001b[1;33m(\u001b[0m\u001b[0mmy_file\u001b[0m\u001b[1;33m)\u001b[0m\u001b[1;33m\u001b[0m\u001b[1;33m\u001b[0m\u001b[0m\n\u001b[0m",
      "\u001b[1;32m<ipython-input-19-3de35f1b443d>\u001b[0m in \u001b[0;36mopen_file\u001b[1;34m(file_name)\u001b[0m\n\u001b[0;32m      1\u001b[0m \u001b[1;32mdef\u001b[0m \u001b[0mopen_file\u001b[0m\u001b[1;33m(\u001b[0m\u001b[0mfile_name\u001b[0m\u001b[1;33m)\u001b[0m\u001b[1;33m:\u001b[0m\u001b[1;33m\u001b[0m\u001b[1;33m\u001b[0m\u001b[0m\n\u001b[1;32m----> 2\u001b[1;33m   \u001b[1;32mwith\u001b[0m \u001b[0mopen\u001b[0m\u001b[1;33m(\u001b[0m\u001b[0mfile_name\u001b[0m\u001b[1;33m,\u001b[0m \u001b[1;34m'r'\u001b[0m\u001b[1;33m)\u001b[0m \u001b[1;32mas\u001b[0m \u001b[0mfile_object\u001b[0m\u001b[1;33m:\u001b[0m\u001b[1;33m\u001b[0m\u001b[1;33m\u001b[0m\u001b[0m\n\u001b[0m\u001b[0;32m      3\u001b[0m     \u001b[0mtext\u001b[0m \u001b[1;33m=\u001b[0m \u001b[0mfile_object\u001b[0m\u001b[1;33m.\u001b[0m\u001b[0mread\u001b[0m\u001b[1;33m(\u001b[0m\u001b[1;33m)\u001b[0m\u001b[1;33m\u001b[0m\u001b[1;33m\u001b[0m\u001b[0m\n\u001b[0;32m      4\u001b[0m     \u001b[0mprint\u001b[0m\u001b[1;33m(\u001b[0m\u001b[0mtext\u001b[0m\u001b[1;33m)\u001b[0m\u001b[1;33m\u001b[0m\u001b[1;33m\u001b[0m\u001b[0m\n",
      "\u001b[1;31mFileNotFoundError\u001b[0m: [Errno 2] No such file or directory: 'new.txt'"
     ]
    }
   ],
   "source": [
    "my_file = \"new.txt\"\n",
    "open_file(my_file)"
   ]
  },
  {
   "cell_type": "markdown",
   "id": "dfdd0e42",
   "metadata": {},
   "source": [
    "**NOTE:**  \n",
    "Olhando para o retorno acima nós temos um erro do tipo **FileNotFoundError**. Mas como resolver isso? Uma maneira interessante (e recomendada) é criar uma **exceção** para quando isso acontecer.\n",
    "\n",
    "Vejam o exemplo abaixo:"
   ]
  },
  {
   "cell_type": "code",
   "execution_count": 22,
   "id": "2967e51d",
   "metadata": {},
   "outputs": [],
   "source": [
    "def open_file_refactored(file_name):\n",
    "  try:\n",
    "    with open(file_name, 'r') as file_object:\n",
    "      text = file_object.read()\n",
    "      print(text)\n",
    "  except FileNotFoundError as error:\n",
    "    print(error)"
   ]
  },
  {
   "cell_type": "code",
   "execution_count": 23,
   "id": "e0a5ff2e",
   "metadata": {},
   "outputs": [
    {
     "name": "stdout",
     "output_type": "stream",
     "text": [
      "Hello World!\n"
     ]
    }
   ],
   "source": [
    "my_file = \"file.txt\"\n",
    "open_file(my_file)"
   ]
  },
  {
   "cell_type": "code",
   "execution_count": 24,
   "id": "a313d0cc",
   "metadata": {},
   "outputs": [
    {
     "ename": "FileNotFoundError",
     "evalue": "[Errno 2] No such file or directory: 'new.txt'",
     "output_type": "error",
     "traceback": [
      "\u001b[1;31m---------------------------------------------------------------------------\u001b[0m",
      "\u001b[1;31mFileNotFoundError\u001b[0m                         Traceback (most recent call last)",
      "\u001b[1;32m<ipython-input-24-f232abb1aee1>\u001b[0m in \u001b[0;36m<module>\u001b[1;34m\u001b[0m\n\u001b[0;32m      1\u001b[0m \u001b[0mmy_file\u001b[0m \u001b[1;33m=\u001b[0m \u001b[1;34m\"new.txt\"\u001b[0m\u001b[1;33m\u001b[0m\u001b[1;33m\u001b[0m\u001b[0m\n\u001b[1;32m----> 2\u001b[1;33m \u001b[0mopen_file\u001b[0m\u001b[1;33m(\u001b[0m\u001b[0mmy_file\u001b[0m\u001b[1;33m)\u001b[0m\u001b[1;33m\u001b[0m\u001b[1;33m\u001b[0m\u001b[0m\n\u001b[0m",
      "\u001b[1;32m<ipython-input-19-3de35f1b443d>\u001b[0m in \u001b[0;36mopen_file\u001b[1;34m(file_name)\u001b[0m\n\u001b[0;32m      1\u001b[0m \u001b[1;32mdef\u001b[0m \u001b[0mopen_file\u001b[0m\u001b[1;33m(\u001b[0m\u001b[0mfile_name\u001b[0m\u001b[1;33m)\u001b[0m\u001b[1;33m:\u001b[0m\u001b[1;33m\u001b[0m\u001b[1;33m\u001b[0m\u001b[0m\n\u001b[1;32m----> 2\u001b[1;33m   \u001b[1;32mwith\u001b[0m \u001b[0mopen\u001b[0m\u001b[1;33m(\u001b[0m\u001b[0mfile_name\u001b[0m\u001b[1;33m,\u001b[0m \u001b[1;34m'r'\u001b[0m\u001b[1;33m)\u001b[0m \u001b[1;32mas\u001b[0m \u001b[0mfile_object\u001b[0m\u001b[1;33m:\u001b[0m\u001b[1;33m\u001b[0m\u001b[1;33m\u001b[0m\u001b[0m\n\u001b[0m\u001b[0;32m      3\u001b[0m     \u001b[0mtext\u001b[0m \u001b[1;33m=\u001b[0m \u001b[0mfile_object\u001b[0m\u001b[1;33m.\u001b[0m\u001b[0mread\u001b[0m\u001b[1;33m(\u001b[0m\u001b[1;33m)\u001b[0m\u001b[1;33m\u001b[0m\u001b[1;33m\u001b[0m\u001b[0m\n\u001b[0;32m      4\u001b[0m     \u001b[0mprint\u001b[0m\u001b[1;33m(\u001b[0m\u001b[0mtext\u001b[0m\u001b[1;33m)\u001b[0m\u001b[1;33m\u001b[0m\u001b[1;33m\u001b[0m\u001b[0m\n",
      "\u001b[1;31mFileNotFoundError\u001b[0m: [Errno 2] No such file or directory: 'new.txt'"
     ]
    }
   ],
   "source": [
    "my_file = \"new.txt\"\n",
    "open_file(my_file)"
   ]
  },
  {
   "cell_type": "markdown",
   "id": "4556140d",
   "metadata": {},
   "source": [
    "**NOTE:**  \n",
    "Olhando para as duas saídas acima nós temos:\n",
    " - Na primeira ocorreu tudo ok;\n",
    " - Porém, na segunda nós tivemos um do tipo **FileNotFoundError: [Errno 2] No such file or directory: 'new.txt'**:\n",
    "   - Ou seja, não foi possível encontrar o arquivo ou diretório do arquivo."
   ]
  },
  {
   "cell_type": "markdown",
   "id": "5b99407f",
   "metadata": {},
   "source": [
    "---"
   ]
  },
  {
   "cell_type": "markdown",
   "id": "9a6f5005",
   "metadata": {},
   "source": [
    "# 05 - Exceções genéricas feitas pelo programador\n",
    "\n",
    "> Nós também podemos fazer nossas próprias execções para evitar que algo **\"quebre\"** na nossa aplicação.\n",
    "\n",
    "Então, abaixo nós vamos deixar alguns exemplos dessas exceções."
   ]
  },
  {
   "cell_type": "markdown",
   "id": "3e56e5a5",
   "metadata": {},
   "source": [
    "---"
   ]
  },
  {
   "cell_type": "markdown",
   "id": "ed7d5d27",
   "metadata": {},
   "source": [
    "## 05.1 - Mapeando Exceções\n",
    "\n",
    "Um ponto importante é que nós podemos ter várias *exceções* para o mesmo **try**. Vamos seguir passo a passo com exemplos práticos até ter um mapeamento com várias exceções.\n",
    "\n",
    "Para começar imagine que nós criamos um programa que vai **ficar recebendo** do usuário:\n",
    " - Dois valores numéricos **A** e **B**;\n",
    " - Realizar a divisão entre esses dois valores;\n",
    " - Por fim, retornar o resultado da divisão.\n",
    "\n",
    "Vamos começar do mais básico possível e criar uma função que realiza essa tarefa:"
   ]
  },
  {
   "cell_type": "code",
   "execution_count": 25,
   "id": "24fd7c24",
   "metadata": {},
   "outputs": [],
   "source": [
    "def div():\n",
    " while True:\n",
    "    a = float(input(\"Enter the first value: \"))\n",
    "    b = float(input(\"Enter the second value: \"))\n",
    "    result = a/b\n",
    "    print(\"Div result is:\", result, \"\\n\")"
   ]
  },
  {
   "cell_type": "markdown",
   "id": "e808188b",
   "metadata": {},
   "source": [
    "Ótimo, agora vamos passar alguns valores:"
   ]
  },
  {
   "cell_type": "code",
   "execution_count": 26,
   "id": "3f45d4b4",
   "metadata": {},
   "outputs": [
    {
     "name": "stdout",
     "output_type": "stream",
     "text": [
      "Enter the first value: 100\n",
      "Enter the second value: 5\n",
      "Div result is: 20.0 \n",
      "\n",
      "Enter the first value: 100\n",
      "Enter the second value: 10\n",
      "Div result is: 10.0 \n",
      "\n"
     ]
    },
    {
     "ename": "KeyboardInterrupt",
     "evalue": "Interrupted by user",
     "output_type": "error",
     "traceback": [
      "\u001b[1;31m---------------------------------------------------------------------------\u001b[0m",
      "\u001b[1;31mKeyboardInterrupt\u001b[0m                         Traceback (most recent call last)",
      "\u001b[1;32m<ipython-input-26-e8c098537f71>\u001b[0m in \u001b[0;36m<module>\u001b[1;34m\u001b[0m\n\u001b[1;32m----> 1\u001b[1;33m \u001b[0mdiv\u001b[0m\u001b[1;33m(\u001b[0m\u001b[1;33m)\u001b[0m\u001b[1;33m\u001b[0m\u001b[1;33m\u001b[0m\u001b[0m\n\u001b[0m",
      "\u001b[1;32m<ipython-input-25-44a75e7c6c95>\u001b[0m in \u001b[0;36mdiv\u001b[1;34m()\u001b[0m\n\u001b[0;32m      1\u001b[0m \u001b[1;32mdef\u001b[0m \u001b[0mdiv\u001b[0m\u001b[1;33m(\u001b[0m\u001b[1;33m)\u001b[0m\u001b[1;33m:\u001b[0m\u001b[1;33m\u001b[0m\u001b[1;33m\u001b[0m\u001b[0m\n\u001b[0;32m      2\u001b[0m  \u001b[1;32mwhile\u001b[0m \u001b[1;32mTrue\u001b[0m\u001b[1;33m:\u001b[0m\u001b[1;33m\u001b[0m\u001b[1;33m\u001b[0m\u001b[0m\n\u001b[1;32m----> 3\u001b[1;33m     \u001b[0ma\u001b[0m \u001b[1;33m=\u001b[0m \u001b[0mfloat\u001b[0m\u001b[1;33m(\u001b[0m\u001b[0minput\u001b[0m\u001b[1;33m(\u001b[0m\u001b[1;34m\"Enter the first value: \"\u001b[0m\u001b[1;33m)\u001b[0m\u001b[1;33m)\u001b[0m\u001b[1;33m\u001b[0m\u001b[1;33m\u001b[0m\u001b[0m\n\u001b[0m\u001b[0;32m      4\u001b[0m     \u001b[0mb\u001b[0m \u001b[1;33m=\u001b[0m \u001b[0mfloat\u001b[0m\u001b[1;33m(\u001b[0m\u001b[0minput\u001b[0m\u001b[1;33m(\u001b[0m\u001b[1;34m\"Enter the second value: \"\u001b[0m\u001b[1;33m)\u001b[0m\u001b[1;33m)\u001b[0m\u001b[1;33m\u001b[0m\u001b[1;33m\u001b[0m\u001b[0m\n\u001b[0;32m      5\u001b[0m     \u001b[0mresult\u001b[0m \u001b[1;33m=\u001b[0m \u001b[0ma\u001b[0m\u001b[1;33m/\u001b[0m\u001b[0mb\u001b[0m\u001b[1;33m\u001b[0m\u001b[1;33m\u001b[0m\u001b[0m\n",
      "\u001b[1;32m~\\anaconda3\\lib\\site-packages\\ipykernel\\kernelbase.py\u001b[0m in \u001b[0;36mraw_input\u001b[1;34m(self, prompt)\u001b[0m\n\u001b[0;32m    858\u001b[0m                 \u001b[1;34m\"raw_input was called, but this frontend does not support input requests.\"\u001b[0m\u001b[1;33m\u001b[0m\u001b[1;33m\u001b[0m\u001b[0m\n\u001b[0;32m    859\u001b[0m             )\n\u001b[1;32m--> 860\u001b[1;33m         return self._input_request(str(prompt),\n\u001b[0m\u001b[0;32m    861\u001b[0m             \u001b[0mself\u001b[0m\u001b[1;33m.\u001b[0m\u001b[0m_parent_ident\u001b[0m\u001b[1;33m,\u001b[0m\u001b[1;33m\u001b[0m\u001b[1;33m\u001b[0m\u001b[0m\n\u001b[0;32m    862\u001b[0m             \u001b[0mself\u001b[0m\u001b[1;33m.\u001b[0m\u001b[0m_parent_header\u001b[0m\u001b[1;33m,\u001b[0m\u001b[1;33m\u001b[0m\u001b[1;33m\u001b[0m\u001b[0m\n",
      "\u001b[1;32m~\\anaconda3\\lib\\site-packages\\ipykernel\\kernelbase.py\u001b[0m in \u001b[0;36m_input_request\u001b[1;34m(self, prompt, ident, parent, password)\u001b[0m\n\u001b[0;32m    902\u001b[0m             \u001b[1;32mexcept\u001b[0m \u001b[0mKeyboardInterrupt\u001b[0m\u001b[1;33m:\u001b[0m\u001b[1;33m\u001b[0m\u001b[1;33m\u001b[0m\u001b[0m\n\u001b[0;32m    903\u001b[0m                 \u001b[1;31m# re-raise KeyboardInterrupt, to truncate traceback\u001b[0m\u001b[1;33m\u001b[0m\u001b[1;33m\u001b[0m\u001b[1;33m\u001b[0m\u001b[0m\n\u001b[1;32m--> 904\u001b[1;33m                 \u001b[1;32mraise\u001b[0m \u001b[0mKeyboardInterrupt\u001b[0m\u001b[1;33m(\u001b[0m\u001b[1;34m\"Interrupted by user\"\u001b[0m\u001b[1;33m)\u001b[0m \u001b[1;32mfrom\u001b[0m \u001b[1;32mNone\u001b[0m\u001b[1;33m\u001b[0m\u001b[1;33m\u001b[0m\u001b[0m\n\u001b[0m\u001b[0;32m    905\u001b[0m             \u001b[1;32mexcept\u001b[0m \u001b[0mException\u001b[0m \u001b[1;32mas\u001b[0m \u001b[0me\u001b[0m\u001b[1;33m:\u001b[0m\u001b[1;33m\u001b[0m\u001b[1;33m\u001b[0m\u001b[0m\n\u001b[0;32m    906\u001b[0m                 \u001b[0mself\u001b[0m\u001b[1;33m.\u001b[0m\u001b[0mlog\u001b[0m\u001b[1;33m.\u001b[0m\u001b[0mwarning\u001b[0m\u001b[1;33m(\u001b[0m\u001b[1;34m\"Invalid Message:\"\u001b[0m\u001b[1;33m,\u001b[0m \u001b[0mexc_info\u001b[0m\u001b[1;33m=\u001b[0m\u001b[1;32mTrue\u001b[0m\u001b[1;33m)\u001b[0m\u001b[1;33m\u001b[0m\u001b[1;33m\u001b[0m\u001b[0m\n",
      "\u001b[1;31mKeyboardInterrupt\u001b[0m: Interrupted by user"
     ]
    }
   ],
   "source": [
    "div()"
   ]
  },
  {
   "cell_type": "markdown",
   "id": "fd013bce",
   "metadata": {},
   "source": [
    "**NOTE:**  \n",
    "Um dos problemas é na hora de parar a execução do programa... Como podem ver nós tivemos uma exceção do tipo **KeyboardInterrupt** e toda essa saída na cara do usuário que não vai entender nada!\n",
    "\n",
    "Agora nós vamos refatorar nossa função adicionando um **try...except** para cuidar desse problema:"
   ]
  },
  {
   "cell_type": "code",
   "execution_count": 27,
   "id": "a033bad4",
   "metadata": {},
   "outputs": [],
   "source": [
    "def div():\n",
    "  while True:\n",
    "    try:\n",
    "      a = float(input(\"Enter the first value: \"))\n",
    "      b = float(input(\"Enter the second value: \"))\n",
    "      result = a/b\n",
    "      print(\"Div result is:\", result, \"\\n\")\n",
    "    except KeyboardInterrupt:\n",
    "      print(\"See you next time!\")"
   ]
  },
  {
   "cell_type": "code",
   "execution_count": null,
   "id": "8f0c81dc",
   "metadata": {},
   "outputs": [
    {
     "name": "stdout",
     "output_type": "stream",
     "text": [
      "Enter the first value: 100\n",
      "Enter the second value: 50\n",
      "Div result is: 2.0 \n",
      "\n",
      "Enter the first value: 100\n",
      "Enter the second value: 10\n",
      "Div result is: 10.0 \n",
      "\n",
      "See you next time!\n",
      "See you next time!\n",
      "See you next time!\n",
      "See you next time!\n",
      "See you next time!\n"
     ]
    }
   ],
   "source": [
    "div()"
   ]
  },
  {
   "cell_type": "markdown",
   "id": "33059f2e",
   "metadata": {},
   "source": [
    "**NOTE:**  \n",
    "O problema acima é que nós exibimos uma mensagem para o usuário, porém o *loop* continua... Antes de resolver esse problema vem duas observação aqui:\n",
    "\n",
    " - **break vs. exit()**\n",
    "   - **break:**\n",
    "     - Como nós estamos dentro de um loop é interessante utilizar a palavra reservada **break** para finalizar o loop e o programa continua a execução.\n",
    "   - **exit():**\n",
    "     - Se nós desejarmos realmente fechar o programa nós devemos utilizar o método **exit()**\n",
    "\n",
    "Sabendo a diferença entre **break** e **exit()**, vamos utilizar o **break**, apenas para parar o loop."
   ]
  },
  {
   "cell_type": "code",
   "execution_count": 28,
   "id": "72fc5f65",
   "metadata": {},
   "outputs": [],
   "source": [
    "def div():\n",
    "  while True:\n",
    "    try:\n",
    "      a = float(input(\"Enter the first value:\"))\n",
    "      b = float(input(\"Enter the second value:\"))\n",
    "      result = a/b\n",
    "      print(\"Div result is:\", result, \"\\n\")\n",
    "    except KeyboardInterrupt:\n",
    "      print(\"See you next time!\")\n",
    "      break"
   ]
  },
  {
   "cell_type": "code",
   "execution_count": 29,
   "id": "eb7e341f",
   "metadata": {},
   "outputs": [
    {
     "name": "stdout",
     "output_type": "stream",
     "text": [
      "Enter the first value:100\n",
      "Enter the second value:10\n",
      "Div result is: 10.0 \n",
      "\n",
      "Enter the first value:100\n",
      "Enter the second value:5\n",
      "Div result is: 20.0 \n",
      "\n",
      "See you next time!\n",
      "Enter the first value:\n"
     ]
    }
   ],
   "source": [
    "div()"
   ]
  },
  {
   "cell_type": "markdown",
   "id": "1f06d70f",
   "metadata": {},
   "source": [
    "Ótimo, agora quando o usuário tentar fechar o programa vai utilizar o mapeamento (KeyboardInterrupt) que nós criamos e será exibido uma mensagem de **até a proxima (See you next time!)** para ele.\n",
    "\n",
    "**NOTE:**  \n",
    "Agora vem outra pergunta... E se o usuário tentar dividir por zero? Vamos ver..."
   ]
  },
  {
   "cell_type": "code",
   "execution_count": 30,
   "id": "4723c622",
   "metadata": {},
   "outputs": [
    {
     "name": "stdout",
     "output_type": "stream",
     "text": [
      "Enter the first value:100\n",
      "Enter the second value:0\n"
     ]
    },
    {
     "ename": "ZeroDivisionError",
     "evalue": "float division by zero",
     "output_type": "error",
     "traceback": [
      "\u001b[1;31m---------------------------------------------------------------------------\u001b[0m",
      "\u001b[1;31mZeroDivisionError\u001b[0m                         Traceback (most recent call last)",
      "\u001b[1;32m<ipython-input-30-e8c098537f71>\u001b[0m in \u001b[0;36m<module>\u001b[1;34m\u001b[0m\n\u001b[1;32m----> 1\u001b[1;33m \u001b[0mdiv\u001b[0m\u001b[1;33m(\u001b[0m\u001b[1;33m)\u001b[0m\u001b[1;33m\u001b[0m\u001b[1;33m\u001b[0m\u001b[0m\n\u001b[0m",
      "\u001b[1;32m<ipython-input-28-179d3e57017f>\u001b[0m in \u001b[0;36mdiv\u001b[1;34m()\u001b[0m\n\u001b[0;32m      4\u001b[0m       \u001b[0ma\u001b[0m \u001b[1;33m=\u001b[0m \u001b[0mfloat\u001b[0m\u001b[1;33m(\u001b[0m\u001b[0minput\u001b[0m\u001b[1;33m(\u001b[0m\u001b[1;34m\"Enter the first value:\"\u001b[0m\u001b[1;33m)\u001b[0m\u001b[1;33m)\u001b[0m\u001b[1;33m\u001b[0m\u001b[1;33m\u001b[0m\u001b[0m\n\u001b[0;32m      5\u001b[0m       \u001b[0mb\u001b[0m \u001b[1;33m=\u001b[0m \u001b[0mfloat\u001b[0m\u001b[1;33m(\u001b[0m\u001b[0minput\u001b[0m\u001b[1;33m(\u001b[0m\u001b[1;34m\"Enter the second value:\"\u001b[0m\u001b[1;33m)\u001b[0m\u001b[1;33m)\u001b[0m\u001b[1;33m\u001b[0m\u001b[1;33m\u001b[0m\u001b[0m\n\u001b[1;32m----> 6\u001b[1;33m       \u001b[0mresult\u001b[0m \u001b[1;33m=\u001b[0m \u001b[0ma\u001b[0m\u001b[1;33m/\u001b[0m\u001b[0mb\u001b[0m\u001b[1;33m\u001b[0m\u001b[1;33m\u001b[0m\u001b[0m\n\u001b[0m\u001b[0;32m      7\u001b[0m       \u001b[0mprint\u001b[0m\u001b[1;33m(\u001b[0m\u001b[1;34m\"Div result is:\"\u001b[0m\u001b[1;33m,\u001b[0m \u001b[0mresult\u001b[0m\u001b[1;33m,\u001b[0m \u001b[1;34m\"\\n\"\u001b[0m\u001b[1;33m)\u001b[0m\u001b[1;33m\u001b[0m\u001b[1;33m\u001b[0m\u001b[0m\n\u001b[0;32m      8\u001b[0m     \u001b[1;32mexcept\u001b[0m \u001b[0mKeyboardInterrupt\u001b[0m\u001b[1;33m:\u001b[0m\u001b[1;33m\u001b[0m\u001b[1;33m\u001b[0m\u001b[0m\n",
      "\u001b[1;31mZeroDivisionError\u001b[0m: float division by zero"
     ]
    }
   ],
   "source": [
    "div()"
   ]
  },
  {
   "cell_type": "markdown",
   "id": "d600969c",
   "metadata": {},
   "source": [
    "**NOTE:**  \n",
    "Para nós (programadores) esse erro é bem claro, mas e para um usuário? Vamos ter que mapear uma exceção para esse caso também:"
   ]
  },
  {
   "cell_type": "code",
   "execution_count": 31,
   "id": "89e0102c",
   "metadata": {},
   "outputs": [],
   "source": [
    "def div():\n",
    "  while True:\n",
    "    try:\n",
    "      a = float(input(\"Enter the first value:\"))\n",
    "      b = float(input(\"Enter the second value:\"))\n",
    "      result = a/b\n",
    "      print(\"Div result is:\", result, \"\\n\")\n",
    "    except KeyboardInterrupt:\n",
    "      print(\"See you next time!\")\n",
    "      break\n",
    "    except ZeroDivisionError:\n",
    "      print(\"Cannot divide a number by zero!\\n\")"
   ]
  },
  {
   "cell_type": "code",
   "execution_count": 32,
   "id": "f47d3777",
   "metadata": {},
   "outputs": [
    {
     "name": "stdout",
     "output_type": "stream",
     "text": [
      "Enter the first value:100\n",
      "Enter the second value:0\n",
      "Cannot divide a number by zero!\n",
      "\n",
      "Enter the first value:100\n",
      "Enter the second value:0\n",
      "Cannot divide a number by zero!\n",
      "\n",
      "See you next time!\n",
      "Enter the first value:\n"
     ]
    }
   ],
   "source": [
    "div()"
   ]
  },
  {
   "cell_type": "markdown",
   "id": "569555b2",
   "metadata": {},
   "source": [
    "**NOTE:**  \n",
    "Vejam que agora nós temos um mapeamento para duas exceções:\n",
    " - Uma para parar o loop com **KeyboardInterrupt** + **break**;\n",
    " - Outra caso o usuário tente dividir algum número por zero **(ZeroDivisionError)**."
   ]
  },
  {
   "cell_type": "markdown",
   "id": "05db5f9f",
   "metadata": {},
   "source": [
    "---"
   ]
  },
  {
   "cell_type": "markdown",
   "id": "a8b48d82",
   "metadata": {},
   "source": [
    "# Resumos\n",
    "\n",
    " - **LBYL vs. EAFP:**\n",
    "   - **Loock Before You Leap (if approach):**\n",
    "     - Coming soon...\n",
    "   - **Easier to Ask for Forgiveness than Permission (try... except approach):**\n",
    "     - Coming soon...\n",
    " - **Erros vs. Execções:**\n",
    "   - **Erros:**\n",
    "     - Quando eu faço alguma \"coisa\" errada. Por exemplo:\n",
    "       - Digito um comando (ou palavra-reservada) errado.\n",
    "     - Existem erros que nós não temos controle. Por exemplo:\n",
    "       - O Computador desliga sozinho.\n",
    "   - **Exceções:**\n",
    "     - Diferentemente de erros, temos exceções. Exceções são disparadas mesmo quando a sintaxe está correta;\n",
    "     - Exceções são levantadas quando não é possível fazer aquilo que se esperava fazer;\n",
    "     - Exceções são geradas quando ocorrem erros em tempo de execução.\n",
    " - **O Fluxo do try:**\n",
    "   - **O bloco try/except é invocad:**\n",
    "     - Caso não corra uma exceção em try, except é ignorado.\n",
    "     - Caso ocorra um erro **mapeado por algum except**, *ele será executado*:\n",
    "       - Caso a execção não seja mapeada o sistema vai apresentar um erro.\n",
    " - **break vs. exit()**\n",
    "   - **break:**\n",
    "     - Como nós estamos dentro de um loop é interessante utilizar a palavra reservada **break** para finalizar o loop e o programa continua a execução.\n",
    "   - **exit():**\n",
    "     - Se nós desejarmos realmente fechar o programa nós devemos utilizar o método **exit()**\n",
    " - **Raise:**\n",
    "   -  A palavra-chave **raise** gera um erro e interrompe o fluxo de controle do programa."
   ]
  },
  {
   "cell_type": "markdown",
   "id": "d46a6c82",
   "metadata": {},
   "source": [
    "---"
   ]
  },
  {
   "cell_type": "markdown",
   "id": "c4b1a913",
   "metadata": {},
   "source": [
    "**REFERÊNCIAS:**  \n",
    "[Try e Except no Python - Tratamento de Erros no Python](https://www.youtube.com/watch?v=h01u7A3lWZY)  \n",
    "[Try, Except, else and Finally in Python](https://www.geeksforgeeks.org/try-except-else-and-finally-in-python/)  \n",
    "[Live de Python #60 - Exceções](https://www.youtube.com/watch?v=sJpNfZqLpoI&t=850s)  \n",
    "[Python Raise Keyword](https://www.geeksforgeeks.org/python-raise-keyword/#:~:text=Python%20raise%20Keyword%20is%20used,further%20up%20the%20call%20stack.)  \n",
    "[Built-in Exceptions](https://docs.python.org/3/library/exceptions.html)  "
   ]
  }
 ],
 "metadata": {
  "kernelspec": {
   "display_name": "Python 3",
   "language": "python",
   "name": "python3"
  },
  "language_info": {
   "codemirror_mode": {
    "name": "ipython",
    "version": 3
   },
   "file_extension": ".py",
   "mimetype": "text/x-python",
   "name": "python",
   "nbconvert_exporter": "python",
   "pygments_lexer": "ipython3",
   "version": "3.8.8"
  }
 },
 "nbformat": 4,
 "nbformat_minor": 5
}
