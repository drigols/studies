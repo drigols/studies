{
 "cells": [
  {
   "cell_type": "markdown",
   "id": "99a8e642",
   "metadata": {},
   "source": [
    "# Docstrings em Python"
   ]
  },
  {
   "cell_type": "markdown",
   "id": "58ab26b1",
   "metadata": {},
   "source": [
    "# 01 - Introdução ao Docstrings\n",
    "\n",
    "> Independente de quão espetacular é o seu programa, se não existir uma documentação adequada para o usuário, todo o seu trabalho pode ser em vão.\n",
    "\n",
    "**Mas o que são as docstrings?**  \n",
    "Uma **docstring** em python é uma frase ou conjunto de frases que se coloca no início de um **módulo**, **classe**, **método** ou **função**. O objetivo destas frases é explicar o objetivo e como deve ser utilizado o item específico.\n",
    "\n",
    "> As frases devem ficar entre dois conjuntos de **3 aspas** (\"\"\"assim...\"\"\").\n",
    "\n",
    "**NOTE:**  \n",
    "O texto extraído pode ser convertido em um texto HTML, que por sua vez pode ser visualizado na internet, ou em formato texto puro, adequado para elaboração de manuais ou visualização na tela."
   ]
  },
  {
   "cell_type": "markdown",
   "id": "9d891f3c",
   "metadata": {},
   "source": [
    "---"
   ]
  },
  {
   "cell_type": "markdown",
   "id": "ecfb8838",
   "metadata": {},
   "source": [
    "# 02 - Atributo `__doc__` vs. método help()\n",
    "Existem duas maneiras de se verificar documentações de **classes**, **métodos**, **funções**, **módulos** e **pacotes**.\n",
    "\n",
    "São:\n",
    "\n",
    " - Atributo **`__doc__`**\n",
    " - Método **help()**\n",
    "\n",
    "Por exemplo, vamos utilizar essas duas abordagens para verificar a documentação da biblioteca *Scikit-Learn*:"
   ]
  },
  {
   "cell_type": "code",
   "execution_count": 1,
   "id": "3fcbdb9d",
   "metadata": {},
   "outputs": [],
   "source": [
    "import sklearn"
   ]
  },
  {
   "cell_type": "code",
   "execution_count": 2,
   "id": "4fe1119e",
   "metadata": {},
   "outputs": [
    {
     "name": "stdout",
     "output_type": "stream",
     "text": [
      "\n",
      "Machine learning module for Python\n",
      "==================================\n",
      "\n",
      "sklearn is a Python module integrating classical machine\n",
      "learning algorithms in the tightly-knit world of scientific Python\n",
      "packages (numpy, scipy, matplotlib).\n",
      "\n",
      "It aims to provide simple and efficient solutions to learning problems\n",
      "that are accessible to everybody and reusable in various contexts:\n",
      "machine-learning as a versatile tool for science and engineering.\n",
      "\n",
      "See http://scikit-learn.org for complete documentation.\n",
      "\n"
     ]
    }
   ],
   "source": [
    "print(sklearn.__doc__)"
   ]
  },
  {
   "cell_type": "code",
   "execution_count": 3,
   "id": "6fba15a2",
   "metadata": {},
   "outputs": [
    {
     "name": "stdout",
     "output_type": "stream",
     "text": [
      "Help on package sklearn:\n",
      "\n",
      "NAME\n",
      "    sklearn\n",
      "\n",
      "DESCRIPTION\n",
      "    Machine learning module for Python\n",
      "    ==================================\n",
      "    \n",
      "    sklearn is a Python module integrating classical machine\n",
      "    learning algorithms in the tightly-knit world of scientific Python\n",
      "    packages (numpy, scipy, matplotlib).\n",
      "    \n",
      "    It aims to provide simple and efficient solutions to learning problems\n",
      "    that are accessible to everybody and reusable in various contexts:\n",
      "    machine-learning as a versatile tool for science and engineering.\n",
      "    \n",
      "    See http://scikit-learn.org for complete documentation.\n",
      "\n",
      "PACKAGE CONTENTS\n",
      "    __check_build (package)\n",
      "    _build_utils (package)\n",
      "    _config\n",
      "    _distributor_init\n",
      "    _isotonic\n",
      "    _loss (package)\n",
      "    _min_dependencies\n",
      "    base\n",
      "    calibration\n",
      "    cluster (package)\n",
      "    compose (package)\n",
      "    conftest\n",
      "    covariance (package)\n",
      "    cross_decomposition (package)\n",
      "    datasets (package)\n",
      "    decomposition (package)\n",
      "    discriminant_analysis\n",
      "    dummy\n",
      "    ensemble (package)\n",
      "    exceptions\n",
      "    experimental (package)\n",
      "    externals (package)\n",
      "    feature_extraction (package)\n",
      "    feature_selection (package)\n",
      "    gaussian_process (package)\n",
      "    impute (package)\n",
      "    inspection (package)\n",
      "    isotonic\n",
      "    kernel_approximation\n",
      "    kernel_ridge\n",
      "    linear_model (package)\n",
      "    manifold (package)\n",
      "    metrics (package)\n",
      "    mixture (package)\n",
      "    model_selection (package)\n",
      "    multiclass\n",
      "    multioutput\n",
      "    naive_bayes\n",
      "    neighbors (package)\n",
      "    neural_network (package)\n",
      "    pipeline\n",
      "    preprocessing (package)\n",
      "    random_projection\n",
      "    semi_supervised (package)\n",
      "    setup\n",
      "    svm (package)\n",
      "    tests (package)\n",
      "    tree (package)\n",
      "    utils (package)\n",
      "\n",
      "FUNCTIONS\n",
      "    clone(estimator, *, safe=True)\n",
      "        Construct a new unfitted estimator with the same parameters.\n",
      "        \n",
      "        Clone does a deep copy of the model in an estimator\n",
      "        without actually copying attached data. It returns a new estimator\n",
      "        with the same parameters that has not been fitted on any data.\n",
      "        \n",
      "        Parameters\n",
      "        ----------\n",
      "        estimator : {list, tuple, set} of estimator instance or a single             estimator instance\n",
      "            The estimator or group of estimators to be cloned.\n",
      "        safe : bool, default=True\n",
      "            If safe is False, clone will fall back to a deep copy on objects\n",
      "            that are not estimators.\n",
      "        \n",
      "        Returns\n",
      "        -------\n",
      "        estimator : object\n",
      "            The deep copy of the input, an estimator if input is an estimator.\n",
      "        \n",
      "        Notes\n",
      "        -----\n",
      "        If the estimator's `random_state` parameter is an integer (or if the\n",
      "        estimator doesn't have a `random_state` parameter), an *exact clone* is\n",
      "        returned: the clone and the original estimator will give the exact same\n",
      "        results. Otherwise, *statistical clone* is returned: the clone might\n",
      "        return different results from the original estimator. More details can be\n",
      "        found in :ref:`randomness`.\n",
      "    \n",
      "    config_context(*, assume_finite=None, working_memory=None, print_changed_only=None, display=None)\n",
      "        Context manager for global scikit-learn configuration.\n",
      "        \n",
      "        Parameters\n",
      "        ----------\n",
      "        assume_finite : bool, default=None\n",
      "            If True, validation for finiteness will be skipped,\n",
      "            saving time, but leading to potential crashes. If\n",
      "            False, validation for finiteness will be performed,\n",
      "            avoiding error. If None, the existing value won't change.\n",
      "            The default value is False.\n",
      "        \n",
      "        working_memory : int, default=None\n",
      "            If set, scikit-learn will attempt to limit the size of temporary arrays\n",
      "            to this number of MiB (per job when parallelised), often saving both\n",
      "            computation time and memory on expensive operations that can be\n",
      "            performed in chunks. If None, the existing value won't change.\n",
      "            The default value is 1024.\n",
      "        \n",
      "        print_changed_only : bool, default=None\n",
      "            If True, only the parameters that were set to non-default\n",
      "            values will be printed when printing an estimator. For example,\n",
      "            ``print(SVC())`` while True will only print 'SVC()', but would print\n",
      "            'SVC(C=1.0, cache_size=200, ...)' with all the non-changed parameters\n",
      "            when False. If None, the existing value won't change.\n",
      "            The default value is True.\n",
      "        \n",
      "            .. versionchanged:: 0.23\n",
      "               Default changed from False to True.\n",
      "        \n",
      "        display : {'text', 'diagram'}, default=None\n",
      "            If 'diagram', estimators will be displayed as a diagram in a Jupyter\n",
      "            lab or notebook context. If 'text', estimators will be displayed as\n",
      "            text. If None, the existing value won't change.\n",
      "            The default value is 'text'.\n",
      "        \n",
      "            .. versionadded:: 0.23\n",
      "        \n",
      "        Yields\n",
      "        ------\n",
      "        None.\n",
      "        \n",
      "        See Also\n",
      "        --------\n",
      "        set_config : Set global scikit-learn configuration.\n",
      "        get_config : Retrieve current values of the global configuration.\n",
      "        \n",
      "        Notes\n",
      "        -----\n",
      "        All settings, not just those presently modified, will be returned to\n",
      "        their previous values when the context manager is exited.\n",
      "        \n",
      "        Examples\n",
      "        --------\n",
      "        >>> import sklearn\n",
      "        >>> from sklearn.utils.validation import assert_all_finite\n",
      "        >>> with sklearn.config_context(assume_finite=True):\n",
      "        ...     assert_all_finite([float('nan')])\n",
      "        >>> with sklearn.config_context(assume_finite=True):\n",
      "        ...     with sklearn.config_context(assume_finite=False):\n",
      "        ...         assert_all_finite([float('nan')])\n",
      "        Traceback (most recent call last):\n",
      "        ...\n",
      "        ValueError: Input contains NaN...\n",
      "    \n",
      "    get_config()\n",
      "        Retrieve current values for configuration set by :func:`set_config`.\n",
      "        \n",
      "        Returns\n",
      "        -------\n",
      "        config : dict\n",
      "            Keys are parameter names that can be passed to :func:`set_config`.\n",
      "        \n",
      "        See Also\n",
      "        --------\n",
      "        config_context : Context manager for global scikit-learn configuration.\n",
      "        set_config : Set global scikit-learn configuration.\n",
      "    \n",
      "    set_config(assume_finite=None, working_memory=None, print_changed_only=None, display=None)\n",
      "        Set global scikit-learn configuration\n",
      "        \n",
      "        .. versionadded:: 0.19\n",
      "        \n",
      "        Parameters\n",
      "        ----------\n",
      "        assume_finite : bool, default=None\n",
      "            If True, validation for finiteness will be skipped,\n",
      "            saving time, but leading to potential crashes. If\n",
      "            False, validation for finiteness will be performed,\n",
      "            avoiding error.  Global default: False.\n",
      "        \n",
      "            .. versionadded:: 0.19\n",
      "        \n",
      "        working_memory : int, default=None\n",
      "            If set, scikit-learn will attempt to limit the size of temporary arrays\n",
      "            to this number of MiB (per job when parallelised), often saving both\n",
      "            computation time and memory on expensive operations that can be\n",
      "            performed in chunks. Global default: 1024.\n",
      "        \n",
      "            .. versionadded:: 0.20\n",
      "        \n",
      "        print_changed_only : bool, default=None\n",
      "            If True, only the parameters that were set to non-default\n",
      "            values will be printed when printing an estimator. For example,\n",
      "            ``print(SVC())`` while True will only print 'SVC()' while the default\n",
      "            behaviour would be to print 'SVC(C=1.0, cache_size=200, ...)' with\n",
      "            all the non-changed parameters.\n",
      "        \n",
      "            .. versionadded:: 0.21\n",
      "        \n",
      "        display : {'text', 'diagram'}, default=None\n",
      "            If 'diagram', estimators will be displayed as a diagram in a Jupyter\n",
      "            lab or notebook context. If 'text', estimators will be displayed as\n",
      "            text. Default is 'text'.\n",
      "        \n",
      "            .. versionadded:: 0.23\n",
      "        \n",
      "        See Also\n",
      "        --------\n",
      "        config_context : Context manager for global scikit-learn configuration.\n",
      "        get_config : Retrieve current values of the global configuration.\n",
      "    \n",
      "    show_versions()\n",
      "        Print useful debugging information\"\n",
      "        \n",
      "        .. versionadded:: 0.20\n",
      "\n",
      "DATA\n",
      "    __SKLEARN_SETUP__ = False\n",
      "    __all__ = ['calibration', 'cluster', 'covariance', 'cross_decompositio...\n",
      "\n",
      "VERSION\n",
      "    1.0.2\n",
      "\n",
      "FILE\n",
      "    c:\\users\\drigo\\anaconda3\\lib\\site-packages\\sklearn\\__init__.py\n",
      "\n",
      "\n"
     ]
    }
   ],
   "source": [
    "help(sklearn)"
   ]
  },
  {
   "cell_type": "markdown",
   "id": "f2af2716",
   "metadata": {},
   "source": [
    "**NOTE:**  \n",
    "Vejam que o método **help()** nós dá um retorno com mais informações sobre a *biblioteca Scikit-Learn*."
   ]
  },
  {
   "cell_type": "markdown",
   "id": "8deb4983",
   "metadata": {},
   "source": [
    "---"
   ]
  },
  {
   "cell_type": "markdown",
   "id": "fe5af235",
   "metadata": {},
   "source": [
    "# 03 - Docstrings de uma linha (One-Line)\n",
    "\n",
    "> Docstrings de uma linha são comentários (documentação) que iniciam e terminam na mesma linha.\n",
    "\n",
    "Por exemplo, vejam a **docstring** de uma linha do método **square()** abaixo:"
   ]
  },
  {
   "cell_type": "code",
   "execution_count": 4,
   "id": "6b2d67f4",
   "metadata": {},
   "outputs": [],
   "source": [
    "def square(a):\n",
    "  '''Returned argument a is squared.'''\n",
    "  return a**a"
   ]
  },
  {
   "cell_type": "code",
   "execution_count": 5,
   "id": "10ec0b65",
   "metadata": {},
   "outputs": [
    {
     "name": "stdout",
     "output_type": "stream",
     "text": [
      "Returned argument a is squared.\n"
     ]
    }
   ],
   "source": [
    "print(square.__doc__)"
   ]
  },
  {
   "cell_type": "code",
   "execution_count": 6,
   "id": "09726e49",
   "metadata": {},
   "outputs": [
    {
     "name": "stdout",
     "output_type": "stream",
     "text": [
      "Help on function square in module __main__:\n",
      "\n",
      "square(a)\n",
      "    Returned argument a is squared.\n",
      "\n"
     ]
    }
   ],
   "source": [
    "help(square)"
   ]
  },
  {
   "cell_type": "markdown",
   "id": "00d02ee6",
   "metadata": {},
   "source": [
    "---"
   ]
  },
  {
   "cell_type": "markdown",
   "id": "f5cca2f0",
   "metadata": {},
   "source": [
    "# 04 - Docstrings de várias linhas (Multi-Line)\n",
    "\n",
    "> Docstrings de várias linhas na sua maior parte são utilizados para fazer uma descrição mais ampla do item (classe, método, pacote) específico.\n",
    "\n",
    "Vejam o exemplo abaixo:"
   ]
  },
  {
   "cell_type": "code",
   "execution_count": 7,
   "id": "37faf4ed",
   "metadata": {},
   "outputs": [],
   "source": [
    "def some_function(argument1):\n",
    "  \"\"\"Summary or Description of the Function\n",
    "\n",
    "  Parameters:\n",
    "  argument1 (int): Description of arg1\n",
    "\n",
    "  Returns:\n",
    "  int:Returning value\n",
    "  \"\"\"\n",
    "  return argument1"
   ]
  },
  {
   "cell_type": "code",
   "execution_count": 8,
   "id": "299d7495",
   "metadata": {},
   "outputs": [
    {
     "name": "stdout",
     "output_type": "stream",
     "text": [
      "Summary or Description of the Function\n",
      "\n",
      "  Parameters:\n",
      "  argument1 (int): Description of arg1\n",
      "\n",
      "  Returns:\n",
      "  int:Returning value\n",
      "  \n"
     ]
    }
   ],
   "source": [
    "print(some_function.__doc__)"
   ]
  },
  {
   "cell_type": "code",
   "execution_count": 9,
   "id": "1e5975ee",
   "metadata": {},
   "outputs": [
    {
     "name": "stdout",
     "output_type": "stream",
     "text": [
      "Help on function some_function in module __main__:\n",
      "\n",
      "some_function(argument1)\n",
      "    Summary or Description of the Function\n",
      "    \n",
      "    Parameters:\n",
      "    argument1 (int): Description of arg1\n",
      "    \n",
      "    Returns:\n",
      "    int:Returning value\n",
      "\n"
     ]
    }
   ],
   "source": [
    "help(some_function)"
   ]
  },
  {
   "cell_type": "markdown",
   "id": "c425cb5f",
   "metadata": {},
   "source": [
    "---"
   ]
  },
  {
   "cell_type": "markdown",
   "id": "86a0c578",
   "metadata": {},
   "source": [
    "# 05 - Formatos (padrões) de Docstrings\n",
    "\n",
    "Existem muitos formatos de **docstrings** disponíveis, mas é sempre melhor usar os formatos que são facilmente reconhecidos pelo analisador de Docstrings e também por colegas *Cientistas de Dados/programadores*.\n",
    "\n",
    "**NOTE:**  \n",
    "Não há regras ou regulamentos para selecionar um formato Docstring, mas é necessária a consistência de escolher o mesmo formato sobre o projeto.\n",
    "\n",
    "> Além disso, é preferível que você use o tipo de formatação, que é suportado principalmente pelo **Sphinx**.\n",
    "\n",
    "Abaixo segue uma lista de formatos (padrões) de docstrings:\n",
    "\n",
    "| Tipo de formatação   |      Descrição      |\n",
    "|----------------------|:-------------------:|\n",
    "| [Scikit-Learn](https://scikit-learn.org/stable/developers/contributing.html#documentation) |    Scikit-Learn approach   |\n",
    "| [docstrings NumPy/SciPy](https://numpydoc.readthedocs.io/en/latest/format.html) |  Combinação de reStructured e GoogleDocstrings e suportada pelo Sphinx |\n",
    "| [PyDocName](https://docs.python.org/2/library/pydoc.html) |    Módulo de documentação padrão para Python e suportado pelo Sphinx   |\n",
    "| [EpyDocName](http://epydoc.sourceforge.net/) |    Renderize Epytext como uma série de documentos HTML e uma ferramenta para gerar documentação de API para módulos Python com base em suas Docstrings   |\n",
    "| [Sequências de documentos do Google](https://sphinxcontrib-napoleon.readthedocs.io/en/latest/example_google.html) |    Estilo do Google   |"
   ]
  },
  {
   "cell_type": "markdown",
   "id": "ea164352",
   "metadata": {},
   "source": [
    "---"
   ]
  },
  {
   "cell_type": "markdown",
   "id": "3bb185a9",
   "metadata": {},
   "source": [
    "---"
   ]
  },
  {
   "cell_type": "markdown",
   "id": "82838dff",
   "metadata": {},
   "source": [
    "# 06 - Introdução ao Pydoc\n",
    "\n",
    "> O **Pydoc** é um aplicativo de linha de comando que recebe como argumento o nome do módulo a partir do qual se deseja extrair a documentação e gera um arquivo html (próprio para apresentação em páginas da internet) ou um arquivo texto.\n",
    "\n",
    "Vamos explorar o recurso mais interessante do módulo **Pydoc**."
   ]
  },
  {
   "cell_type": "markdown",
   "id": "18c0e3c0",
   "metadata": {},
   "source": [
    "## 06.1 - Pydoc Meta Dados\n",
    "\n",
    "As variáveis entre **“underscores”** são denominadas de *meta dados*. Os *meta dados* reconhecidos pelo **Pydoc** são os seguintes:\n",
    "\n",
    "```python\n",
    " __author__ = \"seu nome\"\n",
    " __copyright__ = \"Copyright 2017, Por mim\"\n",
    " __credits__ = [\"equipe que desenvolve linux\", \"equipe que desenvolve Python\", \"equipe opensource\"]\n",
    " __license__ = \"GPL\"\n",
    " __version__ = \"1.0.1\"\n",
    " __maintainer__ = \"eu também\"\n",
    " __email__ = \"xyz@zkls.com\"\n",
    " __status__ = \"Production\"\n",
    "```\n",
    "\n",
    "O *estado (status)* pode ser:\n",
    "\n",
    " - Prototype;\n",
    " - Development;\n",
    " - Production.\n",
    "\n",
    "**NOTE:**  \n",
    "Bem, o uso de meta dados é assunto de muita polêmica no mundo do software livre, não havendo um consenso se a melhor posição é dentro dos arquivos ou em um arquivo (ou arquivos) separado. Fica com você a decisão de utilizá-los ou não no seu código."
   ]
  },
  {
   "cell_type": "markdown",
   "id": "2ff0c043",
   "metadata": {},
   "source": [
    "---"
   ]
  },
  {
   "cell_type": "markdown",
   "id": "d85f7650",
   "metadata": {},
   "source": [
    "## 06.2 - Servidor Web do Pydoc\n",
    "O **Pydoc** tem um **Servidor Web**, onde, nós podemos verificar alguns módulos/pacotes que utilizam **Pydoc**. Para abrir o mesmo basta digitar o código de linha de comando abaixo:"
   ]
  },
  {
   "cell_type": "code",
   "execution_count": 10,
   "id": "0e642158",
   "metadata": {},
   "outputs": [
    {
     "name": "stdout",
     "output_type": "stream",
     "text": [
      "^C\n"
     ]
    }
   ],
   "source": [
    "# Running Pydoc Web service.\n",
    "!python -m pydoc -b"
   ]
  },
  {
   "cell_type": "markdown",
   "id": "8f1eef48",
   "metadata": {},
   "source": [
    "No momento em que você executar a célula acima, uma nova janela será aberta em um número de porta arbitrário e o navegador da Web será semelhante ao mostrado abaixo:\n",
    "\n",
    "![img](images/pydoc-01.webp)  \n",
    "\n",
    "Aberto o **Servidor Web do Pydoc** vamos dar uma olhadinha no módulo **h5py**, que é um formato de arquivo usado para armazenar pesos da arquitetura de rede neural:\n",
    "\n",
    "![img](images/pydoc-02.webp)  "
   ]
  },
  {
   "cell_type": "markdown",
   "id": "b0d1f25b",
   "metadata": {},
   "source": [
    "---"
   ]
  },
  {
   "cell_type": "markdown",
   "id": "6290fb42",
   "metadata": {},
   "source": [
    "# Resumos\n",
    "\n",
    " - **Docstrings boas práticas & Regras:**\n",
    "   - O início de uma docstrings sempre inicia com letra maiúscula;\n",
    "   - O fim de uma docstrings sempre precisa de um ponto final (.).\n",
    " - **Docstring (One-Line) vs. Docstring (Multi-Line):**\n",
    "   - Docstring (One-Line):\n",
    "     - Aspas de fechamento estão na mesma linha das aspas de abertura.\n",
    "   - Docstring (Multi-Line):\n",
    "     - Não tem linhas em branco antes ou depois da Docstring.\n",
    " - **docstrings vs. Comentários:**\n",
    "   - docstrings:\n",
    "     - Fica **entre três aspas (“””)** e podem se estender por várias linhas;\n",
    "     - São utilizados para documentar **classe**, **métodos**, **funções**, **módulo** e **pacotes**.\n",
    "     - É reconhecida por ferramentas de extração de documentação, tal como o pydoc;\n",
    "     - É utilizada para dar detalhes de **o que o código realiza (faz)**;\n",
    "     - São lidos por **quem** quer **utilizar o código**.\n",
    "   - Comentários:\n",
    "     - Inicia com o símbolo “#” e se estende até o final da linha;\n",
    "     - São usados principalmente para **explicar partes não óbvias do código**;\n",
    "     - Podem ser úteis para comentários sobre como corrigir bugs e tarefas que precisam ser feitas.\n",
    "     - São ignorados tanto pelo interpretador Python como por ferramentas como o pydoc;\n",
    "     - São utilizados para se explicar detalhes de **como** o código é **implementado**;\n",
    "     - São lidos por **quem** precisa **dar manutenção no código**."
   ]
  },
  {
   "cell_type": "markdown",
   "id": "46317fbb",
   "metadata": {},
   "source": [
    "---"
   ]
  },
  {
   "cell_type": "markdown",
   "id": "4cff51f1",
   "metadata": {},
   "source": [
    "**REFERÊNCIAS:**  \n",
    "[Documentando um programa Python com docstrings e Pydoc](https://cadernodelaboratorio.com.br/documentando-um-programa-python-com-docstrings-e-pydoc/)  \n",
    "[Docstrings in Python Tutorial](https://www.datacamp.com/community/tutorials/docstrings-python?utm_source=adwords_ppc&utm_medium=cpc&utm_campaignid=1455363063&utm_adgroupid=65083631748&utm_device=c&utm_keyword=&utm_matchtype=&utm_network=g&utm_adpostion=&utm_creative=278443377095&utm_targetid=aud-299261629574:dsa-429603003980&utm_loc_interest_ms=&utm_loc_physical_ms=1001621&gclid=Cj0KCQiAubmPBhCyARIsAJWNpiPdVoWEdMA1meAxznTTCpSx7LmZm-JdS_QEBtvIcvl0S4DAFgyJNMMaArNBEALw_wcB)"
   ]
  }
 ],
 "metadata": {
  "kernelspec": {
   "display_name": "Python 3",
   "language": "python",
   "name": "python3"
  },
  "language_info": {
   "codemirror_mode": {
    "name": "ipython",
    "version": 3
   },
   "file_extension": ".py",
   "mimetype": "text/x-python",
   "name": "python",
   "nbconvert_exporter": "python",
   "pygments_lexer": "ipython3",
   "version": "3.8.8"
  }
 },
 "nbformat": 4,
 "nbformat_minor": 5
}
