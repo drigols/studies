{
 "cells": [
  {
   "cell_type": "markdown",
   "id": "6d7714c6",
   "metadata": {},
   "source": [
    "# Deletando recursos com o método delete()\n",
    "Como o nome sugere, se você deseja excluir um recurso da **API**, pode usar uma solicitação **DELETE**."
   ]
  },
  {
   "cell_type": "markdown",
   "id": "b592bc20",
   "metadata": {},
   "source": [
    "## 01 - Deletando recursos em Fake Store API com o método delete()\n",
    "Agora vamos excluir o produto que nós adicionamos, cujo o id é 21:"
   ]
  },
  {
   "cell_type": "code",
   "execution_count": 1,
   "id": "d7e6d5b0",
   "metadata": {},
   "outputs": [
    {
     "data": {
      "text/plain": [
       "<Response [200]>"
      ]
     },
     "execution_count": 1,
     "metadata": {},
     "output_type": "execute_result"
    }
   ],
   "source": [
    "import requests\n",
    "\n",
    "BASE_URL = 'https://fakestoreapi.com'\n",
    "\n",
    "\n",
    "response = requests.delete(f\"{BASE_URL}/products/21\")\n",
    "response"
   ]
  },
  {
   "cell_type": "markdown",
   "id": "6a15f7f9",
   "metadata": {},
   "source": [
    "**NOTE:**  \n",
    "Vejam que nós obtivemos sucesso (200) na requisição."
   ]
  },
  {
   "cell_type": "markdown",
   "id": "0f050119",
   "metadata": {},
   "source": [
    "---"
   ]
  },
  {
   "cell_type": "markdown",
   "id": "932655ed",
   "metadata": {},
   "source": [
    "**REFERÊNCIAS:**  \n",
    "[Requests: HTTP for Humans™](https://docs.python-requests.org/en/latest/)"
   ]
  },
  {
   "cell_type": "markdown",
   "id": "e0b7aa20",
   "metadata": {},
   "source": [
    "**Rodrigo Leite -** *drigols*"
   ]
  }
 ],
 "metadata": {
  "kernelspec": {
   "display_name": "Python 3",
   "language": "python",
   "name": "python3"
  },
  "language_info": {
   "codemirror_mode": {
    "name": "ipython",
    "version": 3
   },
   "file_extension": ".py",
   "mimetype": "text/x-python",
   "name": "python",
   "nbconvert_exporter": "python",
   "pygments_lexer": "ipython3",
   "version": "3.8.8"
  }
 },
 "nbformat": 4,
 "nbformat_minor": 5
}
