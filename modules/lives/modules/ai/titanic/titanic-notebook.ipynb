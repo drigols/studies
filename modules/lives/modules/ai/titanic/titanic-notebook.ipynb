{
 "cells": [
  {
   "cell_type": "markdown",
   "id": "6f1e9321",
   "metadata": {},
   "source": [
    "# Resolvendo o problema do Titanic no Kaggle (Mario Filho)\n",
    "Para esse exemplo vamos seguir a playlist do **Mario Filho no Youtube** [Resolva o Titanic Como um Campeão do Kaggle](https://www.youtube.com/playlist?list=PLwnip85KhroW8Q1JSNbgl06iNPeC0SDkx)."
   ]
  },
  {
   "cell_type": "markdown",
   "id": "dc4cd979",
   "metadata": {},
   "source": [
    "# Lesson 01"
   ]
  },
  {
   "cell_type": "markdown",
   "id": "f8211ab2",
   "metadata": {},
   "source": [
    "## 01.1 - Importa as bibliotecas necessárias:"
   ]
  },
  {
   "cell_type": "code",
   "execution_count": 1,
   "id": "54c37e79",
   "metadata": {},
   "outputs": [],
   "source": [
    "import pandas as pd\n",
    "import numpy as np"
   ]
  },
  {
   "cell_type": "markdown",
   "id": "ec4f1192",
   "metadata": {},
   "source": [
    "## 01.2 - Pega os conjunto de dados de treino e teste:"
   ]
  },
  {
   "cell_type": "code",
   "execution_count": 2,
   "id": "43233908",
   "metadata": {},
   "outputs": [],
   "source": [
    "train = pd.read_csv(\"datasets/train.csv\")\n",
    "test = pd.read_csv(\"datasets/test.csv\")"
   ]
  },
  {
   "cell_type": "markdown",
   "id": "1c4110ce",
   "metadata": {},
   "source": [
    "## 01.3 - Exibe os dados de treino e dados de teste:"
   ]
  },
  {
   "cell_type": "code",
   "execution_count": 3,
   "id": "33d380cc",
   "metadata": {},
   "outputs": [
    {
     "name": "stdout",
     "output_type": "stream",
     "text": [
      "<class 'pandas.core.frame.DataFrame'>\n",
      "RangeIndex: 891 entries, 0 to 890\n",
      "Data columns (total 12 columns):\n",
      " #   Column       Non-Null Count  Dtype  \n",
      "---  ------       --------------  -----  \n",
      " 0   PassengerId  891 non-null    int64  \n",
      " 1   Survived     891 non-null    int64  \n",
      " 2   Pclass       891 non-null    int64  \n",
      " 3   Name         891 non-null    object \n",
      " 4   Sex          891 non-null    object \n",
      " 5   Age          714 non-null    float64\n",
      " 6   SibSp        891 non-null    int64  \n",
      " 7   Parch        891 non-null    int64  \n",
      " 8   Ticket       891 non-null    object \n",
      " 9   Fare         891 non-null    float64\n",
      " 10  Cabin        204 non-null    object \n",
      " 11  Embarked     889 non-null    object \n",
      "dtypes: float64(2), int64(5), object(5)\n",
      "memory usage: 83.7+ KB\n"
     ]
    },
    {
     "data": {
      "text/html": [
       "<div>\n",
       "<style scoped>\n",
       "    .dataframe tbody tr th:only-of-type {\n",
       "        vertical-align: middle;\n",
       "    }\n",
       "\n",
       "    .dataframe tbody tr th {\n",
       "        vertical-align: top;\n",
       "    }\n",
       "\n",
       "    .dataframe thead th {\n",
       "        text-align: right;\n",
       "    }\n",
       "</style>\n",
       "<table border=\"1\" class=\"dataframe\">\n",
       "  <thead>\n",
       "    <tr style=\"text-align: right;\">\n",
       "      <th></th>\n",
       "      <th>PassengerId</th>\n",
       "      <th>Survived</th>\n",
       "      <th>Pclass</th>\n",
       "      <th>Name</th>\n",
       "      <th>Sex</th>\n",
       "      <th>Age</th>\n",
       "      <th>SibSp</th>\n",
       "      <th>Parch</th>\n",
       "      <th>Ticket</th>\n",
       "      <th>Fare</th>\n",
       "      <th>Cabin</th>\n",
       "      <th>Embarked</th>\n",
       "    </tr>\n",
       "  </thead>\n",
       "  <tbody>\n",
       "    <tr>\n",
       "      <th>0</th>\n",
       "      <td>1</td>\n",
       "      <td>0</td>\n",
       "      <td>3</td>\n",
       "      <td>Braund, Mr. Owen Harris</td>\n",
       "      <td>male</td>\n",
       "      <td>22.0</td>\n",
       "      <td>1</td>\n",
       "      <td>0</td>\n",
       "      <td>A/5 21171</td>\n",
       "      <td>7.2500</td>\n",
       "      <td>NaN</td>\n",
       "      <td>S</td>\n",
       "    </tr>\n",
       "    <tr>\n",
       "      <th>1</th>\n",
       "      <td>2</td>\n",
       "      <td>1</td>\n",
       "      <td>1</td>\n",
       "      <td>Cumings, Mrs. John Bradley (Florence Briggs Th...</td>\n",
       "      <td>female</td>\n",
       "      <td>38.0</td>\n",
       "      <td>1</td>\n",
       "      <td>0</td>\n",
       "      <td>PC 17599</td>\n",
       "      <td>71.2833</td>\n",
       "      <td>C85</td>\n",
       "      <td>C</td>\n",
       "    </tr>\n",
       "    <tr>\n",
       "      <th>2</th>\n",
       "      <td>3</td>\n",
       "      <td>1</td>\n",
       "      <td>3</td>\n",
       "      <td>Heikkinen, Miss. Laina</td>\n",
       "      <td>female</td>\n",
       "      <td>26.0</td>\n",
       "      <td>0</td>\n",
       "      <td>0</td>\n",
       "      <td>STON/O2. 3101282</td>\n",
       "      <td>7.9250</td>\n",
       "      <td>NaN</td>\n",
       "      <td>S</td>\n",
       "    </tr>\n",
       "    <tr>\n",
       "      <th>3</th>\n",
       "      <td>4</td>\n",
       "      <td>1</td>\n",
       "      <td>1</td>\n",
       "      <td>Futrelle, Mrs. Jacques Heath (Lily May Peel)</td>\n",
       "      <td>female</td>\n",
       "      <td>35.0</td>\n",
       "      <td>1</td>\n",
       "      <td>0</td>\n",
       "      <td>113803</td>\n",
       "      <td>53.1000</td>\n",
       "      <td>C123</td>\n",
       "      <td>S</td>\n",
       "    </tr>\n",
       "    <tr>\n",
       "      <th>4</th>\n",
       "      <td>5</td>\n",
       "      <td>0</td>\n",
       "      <td>3</td>\n",
       "      <td>Allen, Mr. William Henry</td>\n",
       "      <td>male</td>\n",
       "      <td>35.0</td>\n",
       "      <td>0</td>\n",
       "      <td>0</td>\n",
       "      <td>373450</td>\n",
       "      <td>8.0500</td>\n",
       "      <td>NaN</td>\n",
       "      <td>S</td>\n",
       "    </tr>\n",
       "  </tbody>\n",
       "</table>\n",
       "</div>"
      ],
      "text/plain": [
       "   PassengerId  Survived  Pclass  \\\n",
       "0            1         0       3   \n",
       "1            2         1       1   \n",
       "2            3         1       3   \n",
       "3            4         1       1   \n",
       "4            5         0       3   \n",
       "\n",
       "                                                Name     Sex   Age  SibSp  \\\n",
       "0                            Braund, Mr. Owen Harris    male  22.0      1   \n",
       "1  Cumings, Mrs. John Bradley (Florence Briggs Th...  female  38.0      1   \n",
       "2                             Heikkinen, Miss. Laina  female  26.0      0   \n",
       "3       Futrelle, Mrs. Jacques Heath (Lily May Peel)  female  35.0      1   \n",
       "4                           Allen, Mr. William Henry    male  35.0      0   \n",
       "\n",
       "   Parch            Ticket     Fare Cabin Embarked  \n",
       "0      0         A/5 21171   7.2500   NaN        S  \n",
       "1      0          PC 17599  71.2833   C85        C  \n",
       "2      0  STON/O2. 3101282   7.9250   NaN        S  \n",
       "3      0            113803  53.1000  C123        S  \n",
       "4      0            373450   8.0500   NaN        S  "
      ]
     },
     "execution_count": 3,
     "metadata": {},
     "output_type": "execute_result"
    }
   ],
   "source": [
    "train.info()\n",
    "train.head()"
   ]
  },
  {
   "cell_type": "code",
   "execution_count": 4,
   "id": "bc46ec56",
   "metadata": {},
   "outputs": [
    {
     "name": "stdout",
     "output_type": "stream",
     "text": [
      "<class 'pandas.core.frame.DataFrame'>\n",
      "RangeIndex: 418 entries, 0 to 417\n",
      "Data columns (total 11 columns):\n",
      " #   Column       Non-Null Count  Dtype  \n",
      "---  ------       --------------  -----  \n",
      " 0   PassengerId  418 non-null    int64  \n",
      " 1   Pclass       418 non-null    int64  \n",
      " 2   Name         418 non-null    object \n",
      " 3   Sex          418 non-null    object \n",
      " 4   Age          332 non-null    float64\n",
      " 5   SibSp        418 non-null    int64  \n",
      " 6   Parch        418 non-null    int64  \n",
      " 7   Ticket       418 non-null    object \n",
      " 8   Fare         417 non-null    float64\n",
      " 9   Cabin        91 non-null     object \n",
      " 10  Embarked     418 non-null    object \n",
      "dtypes: float64(2), int64(4), object(5)\n",
      "memory usage: 36.0+ KB\n"
     ]
    },
    {
     "data": {
      "text/html": [
       "<div>\n",
       "<style scoped>\n",
       "    .dataframe tbody tr th:only-of-type {\n",
       "        vertical-align: middle;\n",
       "    }\n",
       "\n",
       "    .dataframe tbody tr th {\n",
       "        vertical-align: top;\n",
       "    }\n",
       "\n",
       "    .dataframe thead th {\n",
       "        text-align: right;\n",
       "    }\n",
       "</style>\n",
       "<table border=\"1\" class=\"dataframe\">\n",
       "  <thead>\n",
       "    <tr style=\"text-align: right;\">\n",
       "      <th></th>\n",
       "      <th>PassengerId</th>\n",
       "      <th>Pclass</th>\n",
       "      <th>Name</th>\n",
       "      <th>Sex</th>\n",
       "      <th>Age</th>\n",
       "      <th>SibSp</th>\n",
       "      <th>Parch</th>\n",
       "      <th>Ticket</th>\n",
       "      <th>Fare</th>\n",
       "      <th>Cabin</th>\n",
       "      <th>Embarked</th>\n",
       "    </tr>\n",
       "  </thead>\n",
       "  <tbody>\n",
       "    <tr>\n",
       "      <th>0</th>\n",
       "      <td>892</td>\n",
       "      <td>3</td>\n",
       "      <td>Kelly, Mr. James</td>\n",
       "      <td>male</td>\n",
       "      <td>34.5</td>\n",
       "      <td>0</td>\n",
       "      <td>0</td>\n",
       "      <td>330911</td>\n",
       "      <td>7.8292</td>\n",
       "      <td>NaN</td>\n",
       "      <td>Q</td>\n",
       "    </tr>\n",
       "    <tr>\n",
       "      <th>1</th>\n",
       "      <td>893</td>\n",
       "      <td>3</td>\n",
       "      <td>Wilkes, Mrs. James (Ellen Needs)</td>\n",
       "      <td>female</td>\n",
       "      <td>47.0</td>\n",
       "      <td>1</td>\n",
       "      <td>0</td>\n",
       "      <td>363272</td>\n",
       "      <td>7.0000</td>\n",
       "      <td>NaN</td>\n",
       "      <td>S</td>\n",
       "    </tr>\n",
       "    <tr>\n",
       "      <th>2</th>\n",
       "      <td>894</td>\n",
       "      <td>2</td>\n",
       "      <td>Myles, Mr. Thomas Francis</td>\n",
       "      <td>male</td>\n",
       "      <td>62.0</td>\n",
       "      <td>0</td>\n",
       "      <td>0</td>\n",
       "      <td>240276</td>\n",
       "      <td>9.6875</td>\n",
       "      <td>NaN</td>\n",
       "      <td>Q</td>\n",
       "    </tr>\n",
       "    <tr>\n",
       "      <th>3</th>\n",
       "      <td>895</td>\n",
       "      <td>3</td>\n",
       "      <td>Wirz, Mr. Albert</td>\n",
       "      <td>male</td>\n",
       "      <td>27.0</td>\n",
       "      <td>0</td>\n",
       "      <td>0</td>\n",
       "      <td>315154</td>\n",
       "      <td>8.6625</td>\n",
       "      <td>NaN</td>\n",
       "      <td>S</td>\n",
       "    </tr>\n",
       "    <tr>\n",
       "      <th>4</th>\n",
       "      <td>896</td>\n",
       "      <td>3</td>\n",
       "      <td>Hirvonen, Mrs. Alexander (Helga E Lindqvist)</td>\n",
       "      <td>female</td>\n",
       "      <td>22.0</td>\n",
       "      <td>1</td>\n",
       "      <td>1</td>\n",
       "      <td>3101298</td>\n",
       "      <td>12.2875</td>\n",
       "      <td>NaN</td>\n",
       "      <td>S</td>\n",
       "    </tr>\n",
       "  </tbody>\n",
       "</table>\n",
       "</div>"
      ],
      "text/plain": [
       "   PassengerId  Pclass                                          Name     Sex  \\\n",
       "0          892       3                              Kelly, Mr. James    male   \n",
       "1          893       3              Wilkes, Mrs. James (Ellen Needs)  female   \n",
       "2          894       2                     Myles, Mr. Thomas Francis    male   \n",
       "3          895       3                              Wirz, Mr. Albert    male   \n",
       "4          896       3  Hirvonen, Mrs. Alexander (Helga E Lindqvist)  female   \n",
       "\n",
       "    Age  SibSp  Parch   Ticket     Fare Cabin Embarked  \n",
       "0  34.5      0      0   330911   7.8292   NaN        Q  \n",
       "1  47.0      1      0   363272   7.0000   NaN        S  \n",
       "2  62.0      0      0   240276   9.6875   NaN        Q  \n",
       "3  27.0      0      0   315154   8.6625   NaN        S  \n",
       "4  22.0      1      1  3101298  12.2875   NaN        S  "
      ]
     },
     "execution_count": 4,
     "metadata": {},
     "output_type": "execute_result"
    }
   ],
   "source": [
    "test.info()\n",
    "test.head()"
   ]
  },
  {
   "cell_type": "markdown",
   "id": "1efda5b9",
   "metadata": {},
   "source": [
    "**NOTE:**  \n",
    "Veja que os dados de teste não tem a **feature \"Survived\"**, ou seja, a que vamos tentar prever."
   ]
  },
  {
   "cell_type": "markdown",
   "id": "f47fa633",
   "metadata": {},
   "source": [
    "## 01.4 - importa e instancia o módulo RandomForestClassifier:"
   ]
  },
  {
   "cell_type": "code",
   "execution_count": 5,
   "id": "171f983d",
   "metadata": {},
   "outputs": [],
   "source": [
    "from sklearn.ensemble import RandomForestClassifier\n",
    "\n",
    "# Instância.\n",
    "model = RandomForestClassifier(n_estimators=100, n_jobs=-1, random_state=0)"
   ]
  },
  {
   "cell_type": "markdown",
   "id": "fb88221f",
   "metadata": {},
   "source": [
    "## 01.5 - Cria uma função para categorizar (binarizar) os sexos:\n",
    " - **1** se for feminino (female)\n",
    " - **0** se for masculuno (male)"
   ]
  },
  {
   "cell_type": "code",
   "execution_count": 6,
   "id": "2bcdb723",
   "metadata": {},
   "outputs": [],
   "source": [
    "def sex_transform(value):\n",
    "  if value == 'female':\n",
    "    return 1\n",
    "  else:\n",
    "    return 0"
   ]
  },
  {
   "cell_type": "markdown",
   "id": "e72f6b3d",
   "metadata": {},
   "source": [
    "## 01.6 - Cria uma nova feature (binary_sex) com a função sex_transform()"
   ]
  },
  {
   "cell_type": "code",
   "execution_count": 7,
   "id": "0638ed0d",
   "metadata": {},
   "outputs": [
    {
     "data": {
      "text/html": [
       "<div>\n",
       "<style scoped>\n",
       "    .dataframe tbody tr th:only-of-type {\n",
       "        vertical-align: middle;\n",
       "    }\n",
       "\n",
       "    .dataframe tbody tr th {\n",
       "        vertical-align: top;\n",
       "    }\n",
       "\n",
       "    .dataframe thead th {\n",
       "        text-align: right;\n",
       "    }\n",
       "</style>\n",
       "<table border=\"1\" class=\"dataframe\">\n",
       "  <thead>\n",
       "    <tr style=\"text-align: right;\">\n",
       "      <th></th>\n",
       "      <th>PassengerId</th>\n",
       "      <th>Survived</th>\n",
       "      <th>Pclass</th>\n",
       "      <th>Name</th>\n",
       "      <th>Sex</th>\n",
       "      <th>Age</th>\n",
       "      <th>SibSp</th>\n",
       "      <th>Parch</th>\n",
       "      <th>Ticket</th>\n",
       "      <th>Fare</th>\n",
       "      <th>Cabin</th>\n",
       "      <th>Embarked</th>\n",
       "      <th>Binary_sex</th>\n",
       "    </tr>\n",
       "  </thead>\n",
       "  <tbody>\n",
       "    <tr>\n",
       "      <th>0</th>\n",
       "      <td>1</td>\n",
       "      <td>0</td>\n",
       "      <td>3</td>\n",
       "      <td>Braund, Mr. Owen Harris</td>\n",
       "      <td>male</td>\n",
       "      <td>22.0</td>\n",
       "      <td>1</td>\n",
       "      <td>0</td>\n",
       "      <td>A/5 21171</td>\n",
       "      <td>7.2500</td>\n",
       "      <td>NaN</td>\n",
       "      <td>S</td>\n",
       "      <td>0</td>\n",
       "    </tr>\n",
       "    <tr>\n",
       "      <th>1</th>\n",
       "      <td>2</td>\n",
       "      <td>1</td>\n",
       "      <td>1</td>\n",
       "      <td>Cumings, Mrs. John Bradley (Florence Briggs Th...</td>\n",
       "      <td>female</td>\n",
       "      <td>38.0</td>\n",
       "      <td>1</td>\n",
       "      <td>0</td>\n",
       "      <td>PC 17599</td>\n",
       "      <td>71.2833</td>\n",
       "      <td>C85</td>\n",
       "      <td>C</td>\n",
       "      <td>1</td>\n",
       "    </tr>\n",
       "    <tr>\n",
       "      <th>2</th>\n",
       "      <td>3</td>\n",
       "      <td>1</td>\n",
       "      <td>3</td>\n",
       "      <td>Heikkinen, Miss. Laina</td>\n",
       "      <td>female</td>\n",
       "      <td>26.0</td>\n",
       "      <td>0</td>\n",
       "      <td>0</td>\n",
       "      <td>STON/O2. 3101282</td>\n",
       "      <td>7.9250</td>\n",
       "      <td>NaN</td>\n",
       "      <td>S</td>\n",
       "      <td>1</td>\n",
       "    </tr>\n",
       "    <tr>\n",
       "      <th>3</th>\n",
       "      <td>4</td>\n",
       "      <td>1</td>\n",
       "      <td>1</td>\n",
       "      <td>Futrelle, Mrs. Jacques Heath (Lily May Peel)</td>\n",
       "      <td>female</td>\n",
       "      <td>35.0</td>\n",
       "      <td>1</td>\n",
       "      <td>0</td>\n",
       "      <td>113803</td>\n",
       "      <td>53.1000</td>\n",
       "      <td>C123</td>\n",
       "      <td>S</td>\n",
       "      <td>1</td>\n",
       "    </tr>\n",
       "    <tr>\n",
       "      <th>4</th>\n",
       "      <td>5</td>\n",
       "      <td>0</td>\n",
       "      <td>3</td>\n",
       "      <td>Allen, Mr. William Henry</td>\n",
       "      <td>male</td>\n",
       "      <td>35.0</td>\n",
       "      <td>0</td>\n",
       "      <td>0</td>\n",
       "      <td>373450</td>\n",
       "      <td>8.0500</td>\n",
       "      <td>NaN</td>\n",
       "      <td>S</td>\n",
       "      <td>0</td>\n",
       "    </tr>\n",
       "  </tbody>\n",
       "</table>\n",
       "</div>"
      ],
      "text/plain": [
       "   PassengerId  Survived  Pclass  \\\n",
       "0            1         0       3   \n",
       "1            2         1       1   \n",
       "2            3         1       3   \n",
       "3            4         1       1   \n",
       "4            5         0       3   \n",
       "\n",
       "                                                Name     Sex   Age  SibSp  \\\n",
       "0                            Braund, Mr. Owen Harris    male  22.0      1   \n",
       "1  Cumings, Mrs. John Bradley (Florence Briggs Th...  female  38.0      1   \n",
       "2                             Heikkinen, Miss. Laina  female  26.0      0   \n",
       "3       Futrelle, Mrs. Jacques Heath (Lily May Peel)  female  35.0      1   \n",
       "4                           Allen, Mr. William Henry    male  35.0      0   \n",
       "\n",
       "   Parch            Ticket     Fare Cabin Embarked  Binary_sex  \n",
       "0      0         A/5 21171   7.2500   NaN        S           0  \n",
       "1      0          PC 17599  71.2833   C85        C           1  \n",
       "2      0  STON/O2. 3101282   7.9250   NaN        S           1  \n",
       "3      0            113803  53.1000  C123        S           1  \n",
       "4      0            373450   8.0500   NaN        S           0  "
      ]
     },
     "execution_count": 7,
     "metadata": {},
     "output_type": "execute_result"
    }
   ],
   "source": [
    "train['Binary_sex'] = train['Sex'].map(sex_transform)\n",
    "train.head()"
   ]
  },
  {
   "cell_type": "markdown",
   "id": "8837493e",
   "metadata": {},
   "source": [
    "**NOTE:**  \n",
    "Veja que agora nós temos a *feature* **\"binary_sex\"**."
   ]
  },
  {
   "cell_type": "markdown",
   "id": "11b8131a",
   "metadata": {},
   "source": [
    "## 01.7 - Contabiliza quantas das amostras são do sexo feminino (female/1) ou masculino (male/0):"
   ]
  },
  {
   "cell_type": "code",
   "execution_count": 8,
   "id": "4380cb61",
   "metadata": {},
   "outputs": [
    {
     "data": {
      "text/plain": [
       "male      577\n",
       "female    314\n",
       "Name: Sex, dtype: int64"
      ]
     },
     "execution_count": 8,
     "metadata": {},
     "output_type": "execute_result"
    }
   ],
   "source": [
    "train['Sex'].value_counts()"
   ]
  },
  {
   "cell_type": "code",
   "execution_count": 9,
   "id": "1d5e798c",
   "metadata": {},
   "outputs": [
    {
     "data": {
      "text/plain": [
       "0    577\n",
       "1    314\n",
       "Name: Binary_sex, dtype: int64"
      ]
     },
     "execution_count": 9,
     "metadata": {},
     "output_type": "execute_result"
    }
   ],
   "source": [
    "train['Binary_sex'].value_counts()"
   ]
  },
  {
   "cell_type": "markdown",
   "id": "9b127564",
   "metadata": {},
   "source": [
    "## 01.8 - Seleciona as features que nós vamos utilizar para treinar nosso modelo:"
   ]
  },
  {
   "cell_type": "code",
   "execution_count": 10,
   "id": "0e1ca5f4",
   "metadata": {},
   "outputs": [
    {
     "data": {
      "text/plain": [
       "['Binary_sex', 'Age']"
      ]
     },
     "execution_count": 10,
     "metadata": {},
     "output_type": "execute_result"
    }
   ],
   "source": [
    "variables = ['Binary_sex', 'Age']\n",
    "variables"
   ]
  },
  {
   "cell_type": "markdown",
   "id": "d368f362",
   "metadata": {},
   "source": [
    "## 01.9 - Por fim, abstrai as variáveis que serão enviadas para o modelo treinar:\n",
    " - **x** - Variáveis independentes;\n",
    " - **y** - Variável dependente (target)."
   ]
  },
  {
   "cell_type": "code",
   "execution_count": 11,
   "id": "57009f6b",
   "metadata": {},
   "outputs": [],
   "source": [
    "x = train[variables]\n",
    "y = train['Survived']"
   ]
  },
  {
   "cell_type": "markdown",
   "id": "b9f19f6d",
   "metadata": {},
   "source": [
    "## 01.10 - Exibe as variáveis antes de iniciar o treinamento para nós verificarmos o que está acontecendo:"
   ]
  },
  {
   "cell_type": "code",
   "execution_count": 12,
   "id": "c71a7c04",
   "metadata": {},
   "outputs": [
    {
     "data": {
      "text/html": [
       "<div>\n",
       "<style scoped>\n",
       "    .dataframe tbody tr th:only-of-type {\n",
       "        vertical-align: middle;\n",
       "    }\n",
       "\n",
       "    .dataframe tbody tr th {\n",
       "        vertical-align: top;\n",
       "    }\n",
       "\n",
       "    .dataframe thead th {\n",
       "        text-align: right;\n",
       "    }\n",
       "</style>\n",
       "<table border=\"1\" class=\"dataframe\">\n",
       "  <thead>\n",
       "    <tr style=\"text-align: right;\">\n",
       "      <th></th>\n",
       "      <th>Binary_sex</th>\n",
       "      <th>Age</th>\n",
       "    </tr>\n",
       "  </thead>\n",
       "  <tbody>\n",
       "    <tr>\n",
       "      <th>0</th>\n",
       "      <td>0</td>\n",
       "      <td>22.0</td>\n",
       "    </tr>\n",
       "    <tr>\n",
       "      <th>1</th>\n",
       "      <td>1</td>\n",
       "      <td>38.0</td>\n",
       "    </tr>\n",
       "    <tr>\n",
       "      <th>2</th>\n",
       "      <td>1</td>\n",
       "      <td>26.0</td>\n",
       "    </tr>\n",
       "    <tr>\n",
       "      <th>3</th>\n",
       "      <td>1</td>\n",
       "      <td>35.0</td>\n",
       "    </tr>\n",
       "    <tr>\n",
       "      <th>4</th>\n",
       "      <td>0</td>\n",
       "      <td>35.0</td>\n",
       "    </tr>\n",
       "  </tbody>\n",
       "</table>\n",
       "</div>"
      ],
      "text/plain": [
       "   Binary_sex   Age\n",
       "0           0  22.0\n",
       "1           1  38.0\n",
       "2           1  26.0\n",
       "3           1  35.0\n",
       "4           0  35.0"
      ]
     },
     "execution_count": 12,
     "metadata": {},
     "output_type": "execute_result"
    }
   ],
   "source": [
    "x.head()"
   ]
  },
  {
   "cell_type": "code",
   "execution_count": 13,
   "id": "e33ef6e8",
   "metadata": {},
   "outputs": [
    {
     "data": {
      "text/plain": [
       "0    0\n",
       "1    1\n",
       "2    1\n",
       "3    1\n",
       "4    0\n",
       "Name: Survived, dtype: int64"
      ]
     },
     "execution_count": 13,
     "metadata": {},
     "output_type": "execute_result"
    }
   ],
   "source": [
    "y.head()"
   ]
  },
  {
   "cell_type": "markdown",
   "id": "73fd00e6",
   "metadata": {},
   "source": [
    "## 01.11 - Tratando os dados missing (ausentes):  \n",
    "Outra observação é que nosso modelo não consegue treinar com dados **missing (ausentes / NaN)**. Sabendo disso nós vamos:\n",
    " - Verificar o número de dados missing em cada features;\n",
    " - Ver quanto porcento representa esses dados faltantes;\n",
    " - E por fim, aplicar alguma técnica para tratar esses dados que estão faltando."
   ]
  },
  {
   "cell_type": "code",
   "execution_count": 14,
   "id": "316de4fe",
   "metadata": {
    "scrolled": false
   },
   "outputs": [
    {
     "data": {
      "text/plain": [
       "Binary_sex      0\n",
       "Age           177\n",
       "dtype: int64"
      ]
     },
     "execution_count": 14,
     "metadata": {},
     "output_type": "execute_result"
    }
   ],
   "source": [
    "# Data missing sum.\n",
    "missing = x.isnull().sum()\n",
    "missing"
   ]
  },
  {
   "cell_type": "code",
   "execution_count": 15,
   "id": "a4dd0ae2",
   "metadata": {
    "scrolled": true
   },
   "outputs": [
    {
     "data": {
      "text/plain": [
       "Binary_sex     0.00000\n",
       "Age           19.86532\n",
       "dtype: float64"
      ]
     },
     "execution_count": 15,
     "metadata": {},
     "output_type": "execute_result"
    }
   ],
   "source": [
    "# Data missing in percent.\n",
    "percentMissing = (missing / len(x.index)) * 100\n",
    "percentMissing"
   ]
  },
  {
   "cell_type": "markdown",
   "id": "712ee477",
   "metadata": {},
   "source": [
    "---"
   ]
  },
  {
   "cell_type": "code",
   "execution_count": 16,
   "id": "b1d82106",
   "metadata": {},
   "outputs": [
    {
     "data": {
      "text/plain": [
       "0"
      ]
     },
     "execution_count": 16,
     "metadata": {},
     "output_type": "execute_result"
    }
   ],
   "source": [
    "# Data missing sum.\n",
    "missing = y.isnull().sum()\n",
    "missing"
   ]
  },
  {
   "cell_type": "code",
   "execution_count": 17,
   "id": "a6c22016",
   "metadata": {},
   "outputs": [
    {
     "data": {
      "text/plain": [
       "0.0"
      ]
     },
     "execution_count": 17,
     "metadata": {},
     "output_type": "execute_result"
    }
   ],
   "source": [
    "# Data missing in percent.\n",
    "percentMissing = (missing / len(y.index)) * 100\n",
    "percentMissing"
   ]
  },
  {
   "cell_type": "markdown",
   "id": "cba6912b",
   "metadata": {},
   "source": [
    "**NOTE:**  \n",
    "Preenche os dados missing com **-1** da *feature* **\"Age\"**."
   ]
  },
  {
   "cell_type": "code",
   "execution_count": 18,
   "id": "adf6500d",
   "metadata": {},
   "outputs": [],
   "source": [
    "x = x.fillna(-1)"
   ]
  },
  {
   "cell_type": "code",
   "execution_count": 19,
   "id": "718f078d",
   "metadata": {
    "scrolled": false
   },
   "outputs": [
    {
     "data": {
      "text/plain": [
       "Binary_sex    0\n",
       "Age           0\n",
       "dtype: int64"
      ]
     },
     "execution_count": 19,
     "metadata": {},
     "output_type": "execute_result"
    }
   ],
   "source": [
    "# Data missing sum.\n",
    "missing = x.isnull().sum()\n",
    "missing"
   ]
  },
  {
   "cell_type": "code",
   "execution_count": 20,
   "id": "6ff94515",
   "metadata": {
    "scrolled": true
   },
   "outputs": [
    {
     "data": {
      "text/plain": [
       "Binary_sex    0.0\n",
       "Age           0.0\n",
       "dtype: float64"
      ]
     },
     "execution_count": 20,
     "metadata": {},
     "output_type": "execute_result"
    }
   ],
   "source": [
    "# Data missing in percent.\n",
    "percentMissing = (missing / len(x.index)) * 100\n",
    "percentMissing"
   ]
  },
  {
   "cell_type": "markdown",
   "id": "24f29317",
   "metadata": {},
   "source": [
    "# Lesson 02"
   ]
  },
  {
   "cell_type": "markdown",
   "id": "72feb65d",
   "metadata": {},
   "source": [
    "## 02.1 - Treinando o modelo"
   ]
  },
  {
   "cell_type": "code",
   "execution_count": 21,
   "id": "23e89218",
   "metadata": {},
   "outputs": [
    {
     "data": {
      "text/plain": [
       "RandomForestClassifier(n_jobs=-1, random_state=0)"
      ]
     },
     "execution_count": 21,
     "metadata": {},
     "output_type": "execute_result"
    }
   ],
   "source": [
    "model.fit(x, y)"
   ]
  },
  {
   "cell_type": "markdown",
   "id": "bed23c35",
   "metadata": {},
   "source": [
    "## 02.2 - Classifica (binariza) a feature \"Sex\" dos dados de teste com o método sex_transform:"
   ]
  },
  {
   "cell_type": "code",
   "execution_count": 22,
   "id": "d227bc3c",
   "metadata": {},
   "outputs": [],
   "source": [
    "test['Binary_sex'] = test['Sex'].map(sex_transform)"
   ]
  },
  {
   "cell_type": "markdown",
   "id": "f07a35d7",
   "metadata": {},
   "source": [
    "## 02.3 - Prepara os dados de teste:\n",
    "Aqui nós vamos aplicar o mesmo processamento dos dados treino para testar nosso modelo."
   ]
  },
  {
   "cell_type": "code",
   "execution_count": 23,
   "id": "6aaea0cc",
   "metadata": {},
   "outputs": [
    {
     "data": {
      "text/html": [
       "<div>\n",
       "<style scoped>\n",
       "    .dataframe tbody tr th:only-of-type {\n",
       "        vertical-align: middle;\n",
       "    }\n",
       "\n",
       "    .dataframe tbody tr th {\n",
       "        vertical-align: top;\n",
       "    }\n",
       "\n",
       "    .dataframe thead th {\n",
       "        text-align: right;\n",
       "    }\n",
       "</style>\n",
       "<table border=\"1\" class=\"dataframe\">\n",
       "  <thead>\n",
       "    <tr style=\"text-align: right;\">\n",
       "      <th></th>\n",
       "      <th>Binary_sex</th>\n",
       "      <th>Age</th>\n",
       "    </tr>\n",
       "  </thead>\n",
       "  <tbody>\n",
       "    <tr>\n",
       "      <th>0</th>\n",
       "      <td>0</td>\n",
       "      <td>34.5</td>\n",
       "    </tr>\n",
       "    <tr>\n",
       "      <th>1</th>\n",
       "      <td>1</td>\n",
       "      <td>47.0</td>\n",
       "    </tr>\n",
       "    <tr>\n",
       "      <th>2</th>\n",
       "      <td>0</td>\n",
       "      <td>62.0</td>\n",
       "    </tr>\n",
       "    <tr>\n",
       "      <th>3</th>\n",
       "      <td>0</td>\n",
       "      <td>27.0</td>\n",
       "    </tr>\n",
       "    <tr>\n",
       "      <th>4</th>\n",
       "      <td>1</td>\n",
       "      <td>22.0</td>\n",
       "    </tr>\n",
       "  </tbody>\n",
       "</table>\n",
       "</div>"
      ],
      "text/plain": [
       "   Binary_sex   Age\n",
       "0           0  34.5\n",
       "1           1  47.0\n",
       "2           0  62.0\n",
       "3           0  27.0\n",
       "4           1  22.0"
      ]
     },
     "execution_count": 23,
     "metadata": {},
     "output_type": "execute_result"
    }
   ],
   "source": [
    "x_test = test[variables]\n",
    "x_test = x_test.fillna(-1)\n",
    "x_test.head()"
   ]
  },
  {
   "cell_type": "markdown",
   "id": "d774bd22",
   "metadata": {},
   "source": [
    "**NOTE:**  \n",
    " - Vejam que aqui nós utilizamos as mesmas features do dados de treino (Binary_sex e Age)\n",
    " - E Removemos os dados ausentes (missing)."
   ]
  },
  {
   "cell_type": "markdown",
   "id": "e8a162eb",
   "metadata": {},
   "source": [
    "## 02.4 - Tenta prever com os dados de treino:"
   ]
  },
  {
   "cell_type": "code",
   "execution_count": 24,
   "id": "4e820901",
   "metadata": {},
   "outputs": [
    {
     "data": {
      "text/plain": [
       "array([0, 1, 0, 1, 1, 0, 1, 0, 1, 0, 0, 0, 1, 0, 1, 1, 0, 0, 1, 0, 0, 1,\n",
       "       1, 0, 1, 0, 1, 0, 0, 0, 0, 0, 1, 1, 0, 0, 1, 1, 0, 0, 0, 0, 0, 1,\n",
       "       0, 0, 0, 0, 1, 1, 0, 1, 0, 1, 0, 0, 0, 0, 0, 1, 0, 0, 0, 1, 1, 1,\n",
       "       1, 0, 0, 1, 1, 0, 1, 0, 1, 0, 0, 1, 0, 1, 1, 0, 1, 0, 0, 0, 1, 1,\n",
       "       1, 0, 1, 0, 1, 0, 0, 0, 1, 0, 0, 0, 1, 1, 0, 0, 1, 0, 0, 0, 0, 0,\n",
       "       0, 1, 1, 1, 1, 0, 0, 1, 0, 1, 0, 0, 1, 0, 0, 1, 0, 1, 0, 0, 0, 0,\n",
       "       1, 0, 0, 0, 0, 0, 1, 0, 0, 1, 0, 0, 0, 0, 0, 0, 0, 0, 1, 0, 0, 1,\n",
       "       1, 0, 1, 1, 0, 1, 1, 0, 1, 0, 0, 1, 1, 0, 1, 1, 0, 1, 0, 0, 0, 1,\n",
       "       0, 0, 1, 1, 0, 0, 1, 0, 1, 0, 1, 0, 1, 0, 0, 0, 0, 0, 0, 0, 1, 1,\n",
       "       0, 1, 1, 1, 0, 1, 0, 0, 1, 0, 1, 0, 0, 0, 0, 1, 1, 0, 1, 0, 1, 0,\n",
       "       1, 0, 1, 0, 1, 1, 0, 1, 0, 0, 0, 1, 0, 0, 0, 0, 0, 0, 1, 1, 1, 0,\n",
       "       0, 0, 0, 0, 1, 0, 1, 1, 1, 0, 1, 0, 0, 0, 0, 0, 1, 0, 0, 0, 1, 1,\n",
       "       0, 0, 0, 0, 1, 0, 0, 0, 1, 1, 0, 0, 0, 0, 0, 0, 1, 1, 1, 0, 0, 0,\n",
       "       0, 0, 0, 0, 0, 1, 0, 0, 0, 0, 1, 0, 0, 0, 0, 0, 0, 0, 1, 1, 0, 1,\n",
       "       0, 0, 0, 0, 0, 0, 1, 1, 0, 0, 1, 0, 0, 0, 0, 0, 1, 0, 0, 0, 0, 0,\n",
       "       1, 0, 0, 1, 1, 0, 0, 0, 0, 0, 0, 0, 0, 1, 0, 1, 0, 1, 0, 1, 0, 0,\n",
       "       0, 1, 1, 0, 1, 0, 0, 1, 0, 1, 1, 1, 0, 1, 0, 1, 0, 0, 0, 1, 1, 0,\n",
       "       1, 0, 1, 0, 0, 0, 0, 0, 1, 1, 0, 1, 0, 0, 0, 1, 0, 1, 1, 0, 0, 1,\n",
       "       0, 1, 0, 0, 1, 0, 1, 0, 0, 0, 0, 0, 1, 0, 1, 0, 1, 0, 1, 0, 0, 0])"
      ]
     },
     "execution_count": 24,
     "metadata": {},
     "output_type": "execute_result"
    }
   ],
   "source": [
    "# tentou prever quais sobreviveram e quais morreram.\n",
    "predicted = model.predict(x_test)\n",
    "predicted"
   ]
  },
  {
   "cell_type": "markdown",
   "id": "d02c3a0c",
   "metadata": {},
   "source": [
    "## 02.5 - Prepara os dados para submeter a avaliação do Kaggle:"
   ]
  },
  {
   "cell_type": "code",
   "execution_count": 29,
   "id": "c8e232a4",
   "metadata": {
    "scrolled": true
   },
   "outputs": [
    {
     "data": {
      "text/plain": [
       "PassengerId\n",
       "892     0\n",
       "893     1\n",
       "894     0\n",
       "895     1\n",
       "896     1\n",
       "       ..\n",
       "1305    0\n",
       "1306    1\n",
       "1307    0\n",
       "1308    0\n",
       "1309    0\n",
       "Name: Survived, Length: 418, dtype: int64"
      ]
     },
     "execution_count": 29,
     "metadata": {},
     "output_type": "execute_result"
    }
   ],
   "source": [
    "# Relaciona o ID do passageiro dos dados de treino com o resultado da nossa previsão\n",
    "sub = pd.Series(predicted, index=test['PassengerId'], name='Survived')\n",
    "sub"
   ]
  },
  {
   "cell_type": "code",
   "execution_count": 33,
   "id": "502e8e98",
   "metadata": {},
   "outputs": [
    {
     "data": {
      "text/plain": [
       "(418,)"
      ]
     },
     "execution_count": 33,
     "metadata": {},
     "output_type": "execute_result"
    }
   ],
   "source": [
    "# Verifica o as dimensões (shape).\n",
    "sub.shape"
   ]
  },
  {
   "cell_type": "code",
   "execution_count": 34,
   "id": "965ee6a5",
   "metadata": {},
   "outputs": [],
   "source": [
    "# Salva o nosso resulta no formato \".csv\".\n",
    "sub.to_csv(\"first_model.csv\", header=True)"
   ]
  },
  {
   "cell_type": "code",
   "execution_count": 35,
   "id": "073b1f30",
   "metadata": {},
   "outputs": [
    {
     "name": "stdout",
     "output_type": "stream",
     "text": [
      "PassengerId,Survived\r\n",
      "892,0\r\n",
      "893,1\r\n",
      "894,0\r\n",
      "895,1\r\n",
      "896,1\r\n",
      "897,0\r\n",
      "898,1\r\n",
      "899,0\r\n",
      "900,1\r\n",
      "901,0\r\n",
      "902,0\r\n",
      "903,0\r\n",
      "904,1\r\n",
      "905,0\r\n",
      "906,1\r\n",
      "907,1\r\n",
      "908,0\r\n",
      "909,0\r\n",
      "910,1\r\n"
     ]
    }
   ],
   "source": [
    "!head -n20 first_model.csv"
   ]
  },
  {
   "cell_type": "markdown",
   "id": "22ae74a1",
   "metadata": {},
   "source": [
    "# Lesson 03"
   ]
  },
  {
   "cell_type": "markdown",
   "id": "c62c0b15",
   "metadata": {},
   "source": [
    "## 03.1 - Demonstra como o método \"train_test_split\" funciona:"
   ]
  },
  {
   "cell_type": "code",
   "execution_count": 36,
   "id": "161be410",
   "metadata": {},
   "outputs": [],
   "source": [
    "from sklearn.model_selection import train_test_split"
   ]
  },
  {
   "cell_type": "code",
   "execution_count": 37,
   "id": "04735a7d",
   "metadata": {},
   "outputs": [
    {
     "data": {
      "text/plain": [
       "array([0, 1, 2, 3, 4, 5, 6, 7, 8, 9])"
      ]
     },
     "execution_count": 37,
     "metadata": {},
     "output_type": "execute_result"
    }
   ],
   "source": [
    "x_false = np.arange(10)\n",
    "x_false"
   ]
  },
  {
   "cell_type": "code",
   "execution_count": 38,
   "id": "6edb14e8",
   "metadata": {},
   "outputs": [
    {
     "data": {
      "text/plain": [
       "[array([6, 7, 3, 0, 5]), array([2, 8, 4, 9, 1])]"
      ]
     },
     "execution_count": 38,
     "metadata": {},
     "output_type": "execute_result"
    }
   ],
   "source": [
    "train_test_split(x_false, test_size=0.5, random_state=0)"
   ]
  },
  {
   "cell_type": "markdown",
   "id": "c3206dfa",
   "metadata": {},
   "source": [
    "## 03.2 - Divide os dados do conjunto de treino em:\n",
    " - Dados de treino;\n",
    " - Dados de validação."
   ]
  },
  {
   "cell_type": "code",
   "execution_count": 39,
   "id": "b76f2f60",
   "metadata": {},
   "outputs": [],
   "source": [
    "x_train, x_valid, y_train, y_valid = train_test_split(x, y, test_size=0.5)"
   ]
  },
  {
   "cell_type": "markdown",
   "id": "5d69fd4a",
   "metadata": {},
   "source": [
    "## 03.3 - Verifica as dimensões (shape):"
   ]
  },
  {
   "cell_type": "code",
   "execution_count": 40,
   "id": "b240d932",
   "metadata": {},
   "outputs": [
    {
     "data": {
      "text/plain": [
       "((445, 2), (446, 2), (445,), (446,))"
      ]
     },
     "execution_count": 40,
     "metadata": {},
     "output_type": "execute_result"
    }
   ],
   "source": [
    "x_train.shape, x_valid.shape, y_train.shape, y_valid.shape"
   ]
  },
  {
   "cell_type": "markdown",
   "id": "b1da1393",
   "metadata": {},
   "source": [
    "## 03.4 - Treina o modelo com o conjunto de dados separado para treino:"
   ]
  },
  {
   "cell_type": "code",
   "execution_count": 41,
   "id": "93b34caf",
   "metadata": {},
   "outputs": [
    {
     "data": {
      "text/plain": [
       "RandomForestClassifier(n_jobs=-1, random_state=0)"
      ]
     },
     "execution_count": 41,
     "metadata": {},
     "output_type": "execute_result"
    }
   ],
   "source": [
    "model.fit(x_train, y_train)"
   ]
  },
  {
   "cell_type": "markdown",
   "id": "f4a73089",
   "metadata": {},
   "source": [
    "## 03.5 - Faz predições com os dados de validação (x_valid):"
   ]
  },
  {
   "cell_type": "code",
   "execution_count": 42,
   "id": "7a5d519f",
   "metadata": {},
   "outputs": [
    {
     "data": {
      "text/plain": [
       "array([0, 1, 0, 1, 0, 0, 0, 1, 0, 0, 0, 0, 1, 0, 0, 0, 0, 0, 0, 0, 1, 0,\n",
       "       0, 0, 0, 0, 1, 0, 0, 1, 0, 1, 0, 0, 0, 1, 0, 0, 0, 0, 0, 0, 0, 1,\n",
       "       1, 1, 1, 0, 0, 0, 0, 1, 1, 0, 0, 1, 1, 0, 1, 0, 0, 0, 1, 0, 1, 0,\n",
       "       1, 0, 0, 1, 0, 0, 0, 1, 0, 0, 0, 0, 0, 1, 0, 1, 0, 0, 0, 0, 0, 0,\n",
       "       0, 0, 1, 0, 0, 0, 1, 0, 1, 1, 0, 1, 0, 0, 1, 0, 0, 0, 1, 1, 0, 0,\n",
       "       1, 1, 1, 0, 0, 1, 0, 0, 1, 0, 0, 1, 0, 1, 0, 0, 0, 1, 0, 0, 1, 0,\n",
       "       0, 0, 0, 1, 0, 1, 0, 0, 0, 1, 0, 0, 1, 1, 1, 0, 0, 1, 0, 0, 0, 0,\n",
       "       0, 1, 0, 1, 0, 1, 0, 1, 0, 1, 0, 1, 0, 1, 0, 0, 0, 0, 1, 0, 0, 1,\n",
       "       0, 0, 1, 0, 0, 0, 0, 1, 1, 1, 0, 1, 0, 1, 0, 0, 0, 0, 0, 0, 0, 0,\n",
       "       1, 0, 0, 0, 0, 0, 0, 1, 0, 0, 0, 1, 0, 1, 1, 0, 1, 0, 1, 1, 0, 1,\n",
       "       1, 0, 0, 1, 1, 0, 0, 0, 0, 0, 0, 1, 0, 1, 0, 0, 0, 0, 0, 1, 1, 0,\n",
       "       1, 0, 0, 0, 1, 1, 0, 0, 0, 0, 1, 0, 0, 0, 1, 1, 0, 1, 1, 0, 0, 0,\n",
       "       1, 0, 0, 0, 0, 0, 0, 0, 0, 0, 0, 1, 0, 0, 0, 0, 0, 0, 0, 0, 1, 0,\n",
       "       0, 0, 1, 1, 1, 0, 0, 0, 0, 0, 0, 1, 0, 1, 1, 0, 0, 1, 0, 0, 0, 0,\n",
       "       0, 1, 0, 1, 0, 0, 0, 0, 0, 0, 1, 0, 0, 0, 0, 1, 0, 0, 0, 0, 0, 1,\n",
       "       0, 1, 0, 1, 0, 1, 0, 0, 0, 0, 0, 0, 1, 0, 1, 0, 1, 0, 0, 0, 0, 0,\n",
       "       0, 0, 0, 0, 0, 0, 0, 0, 1, 0, 1, 1, 0, 0, 0, 0, 0, 0, 0, 1, 0, 1,\n",
       "       0, 0, 0, 1, 1, 0, 0, 1, 1, 0, 1, 0, 1, 0, 0, 1, 1, 1, 1, 0, 1, 0,\n",
       "       1, 0, 0, 1, 0, 0, 0, 0, 0, 0, 0, 0, 1, 1, 1, 0, 0, 0, 0, 0, 0, 1,\n",
       "       0, 0, 1, 0, 1, 0, 1, 1, 1, 0, 0, 0, 0, 0, 1, 0, 0, 0, 0, 0, 0, 1,\n",
       "       0, 1, 1, 1, 0, 0])"
      ]
     },
     "execution_count": 42,
     "metadata": {},
     "output_type": "execute_result"
    }
   ],
   "source": [
    "predicted2 = model.predict(x_valid)\n",
    "predicted2"
   ]
  },
  {
   "cell_type": "markdown",
   "id": "e382db70",
   "metadata": {},
   "source": [
    "## 03.6 - Verifica se os valores previstos foram iguais aos de validação (y_valid): "
   ]
  },
  {
   "cell_type": "code",
   "execution_count": 43,
   "id": "197820b7",
   "metadata": {},
   "outputs": [
    {
     "data": {
      "text/plain": [
       "159     True\n",
       "879     True\n",
       "328    False\n",
       "49     False\n",
       "530    False\n",
       "       ...  \n",
       "585     True\n",
       "307     True\n",
       "323     True\n",
       "203     True\n",
       "302     True\n",
       "Name: Survived, Length: 446, dtype: bool"
      ]
     },
     "execution_count": 43,
     "metadata": {},
     "output_type": "execute_result"
    }
   ],
   "source": [
    "y_valid == predicted2"
   ]
  },
  {
   "cell_type": "markdown",
   "id": "c29f3341",
   "metadata": {},
   "source": [
    "## 03.7 - Verifica accuracy:  \"O número de acertos dividido pelo número total de exemplos (amostras)\""
   ]
  },
  {
   "cell_type": "code",
   "execution_count": 44,
   "id": "954f722c",
   "metadata": {},
   "outputs": [
    {
     "data": {
      "text/plain": [
       "0.695067264573991"
      ]
     },
     "execution_count": 44,
     "metadata": {},
     "output_type": "execute_result"
    }
   ],
   "source": [
    "np.mean(y_valid == predicted2)"
   ]
  },
  {
   "cell_type": "markdown",
   "id": "d7714933",
   "metadata": {},
   "source": [
    "# Lesson 04"
   ]
  },
  {
   "cell_type": "markdown",
   "id": "edcf473e",
   "metadata": {},
   "source": [
    "## 04.1 - Demonstra como a função KFold funciona em um exemplo abstrato (lista qualquer):"
   ]
  },
  {
   "cell_type": "code",
   "execution_count": 45,
   "id": "8e20fcf4",
   "metadata": {},
   "outputs": [
    {
     "data": {
      "text/plain": [
       "array([0, 1, 2, 3, 4, 5, 6, 7, 8, 9])"
      ]
     },
     "execution_count": 45,
     "metadata": {},
     "output_type": "execute_result"
    }
   ],
   "source": [
    "# Lista de teste:\n",
    "x_false"
   ]
  },
  {
   "cell_type": "code",
   "execution_count": 46,
   "id": "a9bc1946",
   "metadata": {},
   "outputs": [],
   "source": [
    "from sklearn.model_selection import KFold"
   ]
  },
  {
   "cell_type": "code",
   "execution_count": 47,
   "id": "d34796b1",
   "metadata": {},
   "outputs": [],
   "source": [
    "#?KFold # Ver a documentação do método KFold."
   ]
  },
  {
   "cell_type": "code",
   "execution_count": 48,
   "id": "c270d314",
   "metadata": {},
   "outputs": [
    {
     "name": "stdout",
     "output_type": "stream",
     "text": [
      "Train [0 1 3 5 6 7]\n",
      "Valid [2 4 8 9]\n",
      "\n",
      "Train [0 2 3 4 5 8 9]\n",
      "Valid [1 6 7]\n",
      "\n",
      "Train [1 2 4 6 7 8 9]\n",
      "Valid [0 3 5]\n",
      "\n"
     ]
    }
   ],
   "source": [
    "kf = KFold(3, shuffle=True, random_state=0)\n",
    "for train_line, valid_line in kf.split(x_false):\n",
    "  print(\"Train\", train_line)\n",
    "  print(\"Valid\", valid_line)\n",
    "  print()"
   ]
  },
  {
   "cell_type": "markdown",
   "id": "741fb816",
   "metadata": {},
   "source": [
    "## 04.2 - Aplica o método KFold nos nossos dados de treino e validação e ver \"accuracy\" em cada bloco e por fim verifica a média de todas \"accuracy\":"
   ]
  },
  {
   "cell_type": "code",
   "execution_count": 49,
   "id": "330703af",
   "metadata": {},
   "outputs": [
    {
     "name": "stdout",
     "output_type": "stream",
     "text": [
      "Train 594\n",
      "Valid 297\n",
      "Current accuracy: 0.7609427609427609\n",
      "\n",
      "Train 594\n",
      "Valid 297\n",
      "Current accuracy: 0.7845117845117845\n",
      "\n",
      "Train 594\n",
      "Valid 297\n",
      "Current accuracy: 0.7643097643097643\n",
      "\n"
     ]
    }
   ],
   "source": [
    "kf = KFold(3, shuffle=True, random_state=0)\n",
    "results = []\n",
    "\n",
    "for train_line, valid_line in kf.split(x):\n",
    "  print(\"Train\", train_line.shape[0])\n",
    "  print(\"Valid\", valid_line.shape[0])\n",
    "    \n",
    "  x_train, x_valid = x.iloc[train_line], x.iloc[valid_line]\n",
    "  y_train, y_valid = y.iloc[train_line], y.iloc[valid_line]\n",
    "\n",
    "  model = RandomForestClassifier(n_estimators=100, n_jobs=-1, random_state=0)\n",
    "  model.fit(x_train, y_train)\n",
    "    \n",
    "  predited3 = model.predict(x_valid)\n",
    "  accuracy = np.mean(y_valid == predited3)\n",
    "  print(\"Current accuracy:\", accuracy)\n",
    "  print()\n",
    "\n",
    "  results.append(accuracy)"
   ]
  },
  {
   "cell_type": "code",
   "execution_count": 50,
   "id": "673fa4f3",
   "metadata": {},
   "outputs": [
    {
     "data": {
      "text/plain": [
       "[0.7609427609427609, 0.7845117845117845, 0.7643097643097643]"
      ]
     },
     "execution_count": 50,
     "metadata": {},
     "output_type": "execute_result"
    }
   ],
   "source": [
    "results"
   ]
  },
  {
   "cell_type": "code",
   "execution_count": 51,
   "id": "7d8aa236",
   "metadata": {},
   "outputs": [
    {
     "data": {
      "text/plain": [
       "0.7699214365881032"
      ]
     },
     "execution_count": 51,
     "metadata": {},
     "output_type": "execute_result"
    }
   ],
   "source": [
    "np.mean(results)"
   ]
  },
  {
   "cell_type": "markdown",
   "id": "4ae5ae5e",
   "metadata": {},
   "source": [
    "# Lesson 5"
   ]
  },
  {
   "cell_type": "markdown",
   "id": "ba18645c",
   "metadata": {},
   "source": [
    "## 05.1 - Aplica o método KFold com \"RepeatedKFold\":"
   ]
  },
  {
   "cell_type": "code",
   "execution_count": 52,
   "id": "715652f5",
   "metadata": {},
   "outputs": [],
   "source": [
    "from sklearn.model_selection import RepeatedKFold"
   ]
  },
  {
   "cell_type": "code",
   "execution_count": 53,
   "id": "e2905fd2",
   "metadata": {},
   "outputs": [],
   "source": [
    "#?RepeatedKFold # Ver a documentação do método."
   ]
  },
  {
   "cell_type": "code",
   "execution_count": 54,
   "id": "cf908d70",
   "metadata": {},
   "outputs": [
    {
     "name": "stdout",
     "output_type": "stream",
     "text": [
      "Train 445\n",
      "Valid 446\n",
      "Current accuracy: 0.7511210762331838\n",
      "\n",
      "Train 446\n",
      "Valid 445\n",
      "Current accuracy: 0.7617977528089888\n",
      "\n",
      "Train 445\n",
      "Valid 446\n",
      "Current accuracy: 0.7533632286995515\n",
      "\n",
      "Train 446\n",
      "Valid 445\n",
      "Current accuracy: 0.7595505617977528\n",
      "\n",
      "Train 445\n",
      "Valid 446\n",
      "Current accuracy: 0.7690582959641256\n",
      "\n",
      "Train 446\n",
      "Valid 445\n",
      "Current accuracy: 0.7573033707865169\n",
      "\n",
      "Train 445\n",
      "Valid 446\n",
      "Current accuracy: 0.7399103139013453\n",
      "\n",
      "Train 446\n",
      "Valid 445\n",
      "Current accuracy: 0.7595505617977528\n",
      "\n",
      "Train 445\n",
      "Valid 446\n",
      "Current accuracy: 0.7354260089686099\n",
      "\n",
      "Train 446\n",
      "Valid 445\n",
      "Current accuracy: 0.797752808988764\n",
      "\n",
      "Train 445\n",
      "Valid 446\n",
      "Current accuracy: 0.7690582959641256\n",
      "\n",
      "Train 446\n",
      "Valid 445\n",
      "Current accuracy: 0.7640449438202247\n",
      "\n",
      "Train 445\n",
      "Valid 446\n",
      "Current accuracy: 0.7757847533632287\n",
      "\n",
      "Train 446\n",
      "Valid 445\n",
      "Current accuracy: 0.7573033707865169\n",
      "\n",
      "Train 445\n",
      "Valid 446\n",
      "Current accuracy: 0.7556053811659192\n",
      "\n",
      "Train 446\n",
      "Valid 445\n",
      "Current accuracy: 0.7640449438202247\n",
      "\n",
      "Train 445\n",
      "Valid 446\n",
      "Current accuracy: 0.7443946188340808\n",
      "\n",
      "Train 446\n",
      "Valid 445\n",
      "Current accuracy: 0.7595505617977528\n",
      "\n",
      "Train 445\n",
      "Valid 446\n",
      "Current accuracy: 0.7533632286995515\n",
      "\n",
      "Train 446\n",
      "Valid 445\n",
      "Current accuracy: 0.7640449438202247\n",
      "\n"
     ]
    }
   ],
   "source": [
    "results = []\n",
    "\n",
    "# 2 divisões (n_splits) e repetir 10x (n_repeats)\n",
    "kf = RepeatedKFold(n_splits=2, n_repeats=10, random_state=10)\n",
    "\n",
    "for train_line, valid_line in kf.split(x):\n",
    "  print(\"Train\", train_line.shape[0])\n",
    "  print(\"Valid\", valid_line.shape[0])\n",
    "    \n",
    "  x_train, x_valid = x.iloc[train_line], x.iloc[valid_line]\n",
    "  y_train, y_valid = y.iloc[train_line], y.iloc[valid_line]\n",
    "\n",
    "  model = RandomForestClassifier(n_estimators=100, n_jobs=-1, random_state=0)\n",
    "  model.fit(x_train, y_train)\n",
    "\n",
    "  predited4 = model.predict(x_valid)\n",
    "  accuracy = np.mean(y_valid == predited4)\n",
    "  print(\"Current accuracy:\", accuracy)\n",
    "  print()\n",
    "\n",
    "  results.append(accuracy)"
   ]
  },
  {
   "cell_type": "markdown",
   "id": "412d13d0",
   "metadata": {},
   "source": [
    "## 05.2 - Demons visualmente os nossos resultados (KFolds):"
   ]
  },
  {
   "cell_type": "code",
   "execution_count": 55,
   "id": "79d11a79",
   "metadata": {},
   "outputs": [],
   "source": [
    "# Exibe os gráficos na prória celular\n",
    "%matplotlib inline"
   ]
  },
  {
   "cell_type": "code",
   "execution_count": 56,
   "id": "a3d240d6",
   "metadata": {},
   "outputs": [
    {
     "name": "stdout",
     "output_type": "stream",
     "text": [
      "Populating the interactive namespace from numpy and matplotlib\n"
     ]
    }
   ],
   "source": [
    "%pylab inline"
   ]
  },
  {
   "cell_type": "code",
   "execution_count": 57,
   "id": "97037ac3",
   "metadata": {},
   "outputs": [
    {
     "data": {
      "text/plain": [
       "(array([2., 1., 3., 6., 4., 2., 1., 0., 0., 1.]),\n",
       " array([0.73542601, 0.74165869, 0.74789137, 0.75412405, 0.76035673,\n",
       "        0.76658941, 0.77282209, 0.77905477, 0.78528745, 0.79152013,\n",
       "        0.79775281]),\n",
       " <BarContainer object of 10 artists>)"
      ]
     },
     "execution_count": 57,
     "metadata": {},
     "output_type": "execute_result"
    },
    {
     "data": {
      "image/png": "[encoded data removed]",
      "text/plain": [
       "<Figure size 432x288 with 1 Axes>"
      ]
     },
     "metadata": {
      "needs_background": "light"
     },
     "output_type": "display_data"
    }
   ],
   "source": [
    "pylab.hist(results)"
   ]
  },
  {
   "cell_type": "code",
   "execution_count": 58,
   "id": "a59a5989",
   "metadata": {},
   "outputs": [
    {
     "data": {
      "text/plain": [
       "0.759601451100922"
      ]
     },
     "execution_count": 58,
     "metadata": {},
     "output_type": "execute_result"
    }
   ],
   "source": [
    "np.mean(results)"
   ]
  },
  {
   "cell_type": "markdown",
   "id": "d806486e",
   "metadata": {},
   "source": [
    "## 05.3 - Separa novas features para o nosso modelo aprender:"
   ]
  },
  {
   "cell_type": "code",
   "execution_count": 59,
   "id": "8e4dd09f",
   "metadata": {},
   "outputs": [
    {
     "data": {
      "text/html": [
       "<div>\n",
       "<style scoped>\n",
       "    .dataframe tbody tr th:only-of-type {\n",
       "        vertical-align: middle;\n",
       "    }\n",
       "\n",
       "    .dataframe tbody tr th {\n",
       "        vertical-align: top;\n",
       "    }\n",
       "\n",
       "    .dataframe thead th {\n",
       "        text-align: right;\n",
       "    }\n",
       "</style>\n",
       "<table border=\"1\" class=\"dataframe\">\n",
       "  <thead>\n",
       "    <tr style=\"text-align: right;\">\n",
       "      <th></th>\n",
       "      <th>PassengerId</th>\n",
       "      <th>Survived</th>\n",
       "      <th>Pclass</th>\n",
       "      <th>Name</th>\n",
       "      <th>Sex</th>\n",
       "      <th>Age</th>\n",
       "      <th>SibSp</th>\n",
       "      <th>Parch</th>\n",
       "      <th>Ticket</th>\n",
       "      <th>Fare</th>\n",
       "      <th>Cabin</th>\n",
       "      <th>Embarked</th>\n",
       "      <th>Binary_sex</th>\n",
       "    </tr>\n",
       "  </thead>\n",
       "  <tbody>\n",
       "    <tr>\n",
       "      <th>0</th>\n",
       "      <td>1</td>\n",
       "      <td>0</td>\n",
       "      <td>3</td>\n",
       "      <td>Braund, Mr. Owen Harris</td>\n",
       "      <td>male</td>\n",
       "      <td>22.0</td>\n",
       "      <td>1</td>\n",
       "      <td>0</td>\n",
       "      <td>A/5 21171</td>\n",
       "      <td>7.2500</td>\n",
       "      <td>NaN</td>\n",
       "      <td>S</td>\n",
       "      <td>0</td>\n",
       "    </tr>\n",
       "    <tr>\n",
       "      <th>1</th>\n",
       "      <td>2</td>\n",
       "      <td>1</td>\n",
       "      <td>1</td>\n",
       "      <td>Cumings, Mrs. John Bradley (Florence Briggs Th...</td>\n",
       "      <td>female</td>\n",
       "      <td>38.0</td>\n",
       "      <td>1</td>\n",
       "      <td>0</td>\n",
       "      <td>PC 17599</td>\n",
       "      <td>71.2833</td>\n",
       "      <td>C85</td>\n",
       "      <td>C</td>\n",
       "      <td>1</td>\n",
       "    </tr>\n",
       "    <tr>\n",
       "      <th>2</th>\n",
       "      <td>3</td>\n",
       "      <td>1</td>\n",
       "      <td>3</td>\n",
       "      <td>Heikkinen, Miss. Laina</td>\n",
       "      <td>female</td>\n",
       "      <td>26.0</td>\n",
       "      <td>0</td>\n",
       "      <td>0</td>\n",
       "      <td>STON/O2. 3101282</td>\n",
       "      <td>7.9250</td>\n",
       "      <td>NaN</td>\n",
       "      <td>S</td>\n",
       "      <td>1</td>\n",
       "    </tr>\n",
       "    <tr>\n",
       "      <th>3</th>\n",
       "      <td>4</td>\n",
       "      <td>1</td>\n",
       "      <td>1</td>\n",
       "      <td>Futrelle, Mrs. Jacques Heath (Lily May Peel)</td>\n",
       "      <td>female</td>\n",
       "      <td>35.0</td>\n",
       "      <td>1</td>\n",
       "      <td>0</td>\n",
       "      <td>113803</td>\n",
       "      <td>53.1000</td>\n",
       "      <td>C123</td>\n",
       "      <td>S</td>\n",
       "      <td>1</td>\n",
       "    </tr>\n",
       "    <tr>\n",
       "      <th>4</th>\n",
       "      <td>5</td>\n",
       "      <td>0</td>\n",
       "      <td>3</td>\n",
       "      <td>Allen, Mr. William Henry</td>\n",
       "      <td>male</td>\n",
       "      <td>35.0</td>\n",
       "      <td>0</td>\n",
       "      <td>0</td>\n",
       "      <td>373450</td>\n",
       "      <td>8.0500</td>\n",
       "      <td>NaN</td>\n",
       "      <td>S</td>\n",
       "      <td>0</td>\n",
       "    </tr>\n",
       "  </tbody>\n",
       "</table>\n",
       "</div>"
      ],
      "text/plain": [
       "   PassengerId  Survived  Pclass  \\\n",
       "0            1         0       3   \n",
       "1            2         1       1   \n",
       "2            3         1       3   \n",
       "3            4         1       1   \n",
       "4            5         0       3   \n",
       "\n",
       "                                                Name     Sex   Age  SibSp  \\\n",
       "0                            Braund, Mr. Owen Harris    male  22.0      1   \n",
       "1  Cumings, Mrs. John Bradley (Florence Briggs Th...  female  38.0      1   \n",
       "2                             Heikkinen, Miss. Laina  female  26.0      0   \n",
       "3       Futrelle, Mrs. Jacques Heath (Lily May Peel)  female  35.0      1   \n",
       "4                           Allen, Mr. William Henry    male  35.0      0   \n",
       "\n",
       "   Parch            Ticket     Fare Cabin Embarked  Binary_sex  \n",
       "0      0         A/5 21171   7.2500   NaN        S           0  \n",
       "1      0          PC 17599  71.2833   C85        C           1  \n",
       "2      0  STON/O2. 3101282   7.9250   NaN        S           1  \n",
       "3      0            113803  53.1000  C123        S           1  \n",
       "4      0            373450   8.0500   NaN        S           0  "
      ]
     },
     "execution_count": 59,
     "metadata": {},
     "output_type": "execute_result"
    }
   ],
   "source": [
    "train.head()"
   ]
  },
  {
   "cell_type": "code",
   "execution_count": 60,
   "id": "ba0f6f19",
   "metadata": {},
   "outputs": [],
   "source": [
    "new_variables = [\n",
    "  'Binary_sex',\n",
    "  'Age',\n",
    "  'Pclass',\n",
    "  'SibSp',\n",
    "  'Parch',\n",
    "  'Fare'\n",
    "]"
   ]
  },
  {
   "cell_type": "code",
   "execution_count": 61,
   "id": "81ffce72",
   "metadata": {},
   "outputs": [],
   "source": [
    "x = train[new_variables].fillna(-1)\n",
    "y = train['Survived']"
   ]
  },
  {
   "cell_type": "code",
   "execution_count": 62,
   "id": "7ffabf7b",
   "metadata": {},
   "outputs": [
    {
     "data": {
      "text/html": [
       "<div>\n",
       "<style scoped>\n",
       "    .dataframe tbody tr th:only-of-type {\n",
       "        vertical-align: middle;\n",
       "    }\n",
       "\n",
       "    .dataframe tbody tr th {\n",
       "        vertical-align: top;\n",
       "    }\n",
       "\n",
       "    .dataframe thead th {\n",
       "        text-align: right;\n",
       "    }\n",
       "</style>\n",
       "<table border=\"1\" class=\"dataframe\">\n",
       "  <thead>\n",
       "    <tr style=\"text-align: right;\">\n",
       "      <th></th>\n",
       "      <th>Binary_sex</th>\n",
       "      <th>Age</th>\n",
       "      <th>Pclass</th>\n",
       "      <th>SibSp</th>\n",
       "      <th>Parch</th>\n",
       "      <th>Fare</th>\n",
       "    </tr>\n",
       "  </thead>\n",
       "  <tbody>\n",
       "    <tr>\n",
       "      <th>0</th>\n",
       "      <td>0</td>\n",
       "      <td>22.0</td>\n",
       "      <td>3</td>\n",
       "      <td>1</td>\n",
       "      <td>0</td>\n",
       "      <td>7.2500</td>\n",
       "    </tr>\n",
       "    <tr>\n",
       "      <th>1</th>\n",
       "      <td>1</td>\n",
       "      <td>38.0</td>\n",
       "      <td>1</td>\n",
       "      <td>1</td>\n",
       "      <td>0</td>\n",
       "      <td>71.2833</td>\n",
       "    </tr>\n",
       "    <tr>\n",
       "      <th>2</th>\n",
       "      <td>1</td>\n",
       "      <td>26.0</td>\n",
       "      <td>3</td>\n",
       "      <td>0</td>\n",
       "      <td>0</td>\n",
       "      <td>7.9250</td>\n",
       "    </tr>\n",
       "    <tr>\n",
       "      <th>3</th>\n",
       "      <td>1</td>\n",
       "      <td>35.0</td>\n",
       "      <td>1</td>\n",
       "      <td>1</td>\n",
       "      <td>0</td>\n",
       "      <td>53.1000</td>\n",
       "    </tr>\n",
       "    <tr>\n",
       "      <th>4</th>\n",
       "      <td>0</td>\n",
       "      <td>35.0</td>\n",
       "      <td>3</td>\n",
       "      <td>0</td>\n",
       "      <td>0</td>\n",
       "      <td>8.0500</td>\n",
       "    </tr>\n",
       "  </tbody>\n",
       "</table>\n",
       "</div>"
      ],
      "text/plain": [
       "   Binary_sex   Age  Pclass  SibSp  Parch     Fare\n",
       "0           0  22.0       3      1      0   7.2500\n",
       "1           1  38.0       1      1      0  71.2833\n",
       "2           1  26.0       3      0      0   7.9250\n",
       "3           1  35.0       1      1      0  53.1000\n",
       "4           0  35.0       3      0      0   8.0500"
      ]
     },
     "execution_count": 62,
     "metadata": {},
     "output_type": "execute_result"
    }
   ],
   "source": [
    "x.head()"
   ]
  },
  {
   "cell_type": "code",
   "execution_count": 63,
   "id": "cada68ab",
   "metadata": {},
   "outputs": [
    {
     "data": {
      "text/plain": [
       "0    0\n",
       "1    1\n",
       "2    1\n",
       "3    1\n",
       "4    0\n",
       "Name: Survived, dtype: int64"
      ]
     },
     "execution_count": 63,
     "metadata": {},
     "output_type": "execute_result"
    }
   ],
   "source": [
    "y.head()"
   ]
  },
  {
   "cell_type": "markdown",
   "id": "fafbae6c",
   "metadata": {},
   "source": [
    "## 05.4 - Treina e verifica \"accuracy\" do modelo com as novas features:"
   ]
  },
  {
   "cell_type": "code",
   "execution_count": 64,
   "id": "f29d0efe",
   "metadata": {},
   "outputs": [
    {
     "name": "stdout",
     "output_type": "stream",
     "text": [
      "Train 445\n",
      "Valid 446\n",
      "Current accuracy: 0.7869955156950673\n",
      "\n",
      "Train 446\n",
      "Valid 445\n",
      "Current accuracy: 0.7797752808988764\n",
      "\n",
      "Train 445\n",
      "Valid 446\n",
      "Current accuracy: 0.827354260089686\n",
      "\n",
      "Train 446\n",
      "Valid 445\n",
      "Current accuracy: 0.8179775280898877\n",
      "\n",
      "Train 445\n",
      "Valid 446\n",
      "Current accuracy: 0.7847533632286996\n",
      "\n",
      "Train 446\n",
      "Valid 445\n",
      "Current accuracy: 0.7842696629213484\n",
      "\n",
      "Train 445\n",
      "Valid 446\n",
      "Current accuracy: 0.8161434977578476\n",
      "\n",
      "Train 446\n",
      "Valid 445\n",
      "Current accuracy: 0.7842696629213484\n",
      "\n",
      "Train 445\n",
      "Valid 446\n",
      "Current accuracy: 0.8004484304932735\n",
      "\n",
      "Train 446\n",
      "Valid 445\n",
      "Current accuracy: 0.8\n",
      "\n",
      "Train 445\n",
      "Valid 446\n",
      "Current accuracy: 0.8183856502242153\n",
      "\n",
      "Train 446\n",
      "Valid 445\n",
      "Current accuracy: 0.802247191011236\n",
      "\n",
      "Train 445\n",
      "Valid 446\n",
      "Current accuracy: 0.8116591928251121\n",
      "\n",
      "Train 446\n",
      "Valid 445\n",
      "Current accuracy: 0.8067415730337079\n",
      "\n",
      "Train 445\n",
      "Valid 446\n",
      "Current accuracy: 0.820627802690583\n",
      "\n",
      "Train 446\n",
      "Valid 445\n",
      "Current accuracy: 0.7887640449438202\n",
      "\n",
      "Train 445\n",
      "Valid 446\n",
      "Current accuracy: 0.8385650224215246\n",
      "\n",
      "Train 446\n",
      "Valid 445\n",
      "Current accuracy: 0.8044943820224719\n",
      "\n",
      "Train 445\n",
      "Valid 446\n",
      "Current accuracy: 0.7982062780269058\n",
      "\n",
      "Train 446\n",
      "Valid 445\n",
      "Current accuracy: 0.8112359550561797\n",
      "\n"
     ]
    }
   ],
   "source": [
    "results = []\n",
    "kf = RepeatedKFold(n_splits=2, n_repeats=10, random_state=10)\n",
    "\n",
    "for train_line, valid_line in kf.split(x):\n",
    "  print(\"Train\", train_line.shape[0])\n",
    "  print(\"Valid\", valid_line.shape[0])\n",
    "    \n",
    "  x_train, x_valid = x.iloc[train_line], x.iloc[valid_line]\n",
    "  y_train, y_valid = y.iloc[train_line], y.iloc[valid_line]\n",
    "\n",
    "  model = RandomForestClassifier(n_estimators=100, n_jobs=-1, random_state=0)\n",
    "  model.fit(x_train, y_train)\n",
    "\n",
    "  predited5 = model.predict(x_valid)\n",
    "  accuracy = np.mean(y_valid == predited5)\n",
    "  print(\"Current accuracy:\", accuracy)\n",
    "  print()\n",
    "\n",
    "  results.append(accuracy)"
   ]
  },
  {
   "cell_type": "code",
   "execution_count": 65,
   "id": "7992c589",
   "metadata": {},
   "outputs": [
    {
     "data": {
      "text/plain": [
       "(array([4., 2., 0., 4., 2., 2., 4., 0., 1., 1.]),\n",
       " array([0.77977528, 0.78565426, 0.79153323, 0.7974122 , 0.80329118,\n",
       "        0.80917015, 0.81504913, 0.8209281 , 0.82680707, 0.83268605,\n",
       "        0.83856502]),\n",
       " <BarContainer object of 10 artists>)"
      ]
     },
     "execution_count": 65,
     "metadata": {},
     "output_type": "execute_result"
    },
    {
     "data": {
      "image/png": "[encoded data removed]",
      "text/plain": [
       "<Figure size 432x288 with 1 Axes>"
      ]
     },
     "metadata": {
      "needs_background": "light"
     },
     "output_type": "display_data"
    }
   ],
   "source": [
    "pylab.hist(results)"
   ]
  },
  {
   "cell_type": "code",
   "execution_count": 66,
   "id": "6f3580de",
   "metadata": {},
   "outputs": [
    {
     "data": {
      "text/plain": [
       "0.8041457147175896"
      ]
     },
     "execution_count": 66,
     "metadata": {},
     "output_type": "execute_result"
    }
   ],
   "source": [
    "np.mean(results)"
   ]
  },
  {
   "cell_type": "markdown",
   "id": "b4780981",
   "metadata": {},
   "source": [
    "## 05.5 - Prepara os dados para validar com o conjunto de dados de teste:"
   ]
  },
  {
   "cell_type": "markdown",
   "id": "99e87a13",
   "metadata": {},
   "source": [
    "**Pega os conjuntos de dados de treino e teste:**"
   ]
  },
  {
   "cell_type": "code",
   "execution_count": 67,
   "id": "a2571abb",
   "metadata": {},
   "outputs": [],
   "source": [
    "df_train = pd.read_csv(\"datasets/train.csv\") # Training set.\n",
    "df_test = pd.read_csv(\"datasets/test.csv\") # Testing set."
   ]
  },
  {
   "cell_type": "markdown",
   "id": "be084032",
   "metadata": {},
   "source": [
    "**Categoriza (binariza) a feature \"Sex\" para os dois conjuntos de dados:**"
   ]
  },
  {
   "cell_type": "code",
   "execution_count": 68,
   "id": "4ca13f85",
   "metadata": {},
   "outputs": [],
   "source": [
    "# Categoriza (binariza) a feature \"Sex\" para os dados de treino e teste.\n",
    "df_train['Binary_sex'] = df_train['Sex'].map(sex_transform)\n",
    "df_test['Binary_sex'] = df_test['Sex'].map(sex_transform)"
   ]
  },
  {
   "cell_type": "markdown",
   "id": "e7f0a71f",
   "metadata": {},
   "source": [
    "**Overview dos conjuntos de dados de treino e teste:**"
   ]
  },
  {
   "cell_type": "code",
   "execution_count": 69,
   "id": "78f2f9b8",
   "metadata": {},
   "outputs": [
    {
     "data": {
      "text/html": [
       "<div>\n",
       "<style scoped>\n",
       "    .dataframe tbody tr th:only-of-type {\n",
       "        vertical-align: middle;\n",
       "    }\n",
       "\n",
       "    .dataframe tbody tr th {\n",
       "        vertical-align: top;\n",
       "    }\n",
       "\n",
       "    .dataframe thead th {\n",
       "        text-align: right;\n",
       "    }\n",
       "</style>\n",
       "<table border=\"1\" class=\"dataframe\">\n",
       "  <thead>\n",
       "    <tr style=\"text-align: right;\">\n",
       "      <th></th>\n",
       "      <th>PassengerId</th>\n",
       "      <th>Survived</th>\n",
       "      <th>Pclass</th>\n",
       "      <th>Name</th>\n",
       "      <th>Sex</th>\n",
       "      <th>Age</th>\n",
       "      <th>SibSp</th>\n",
       "      <th>Parch</th>\n",
       "      <th>Ticket</th>\n",
       "      <th>Fare</th>\n",
       "      <th>Cabin</th>\n",
       "      <th>Embarked</th>\n",
       "      <th>Binary_sex</th>\n",
       "    </tr>\n",
       "  </thead>\n",
       "  <tbody>\n",
       "    <tr>\n",
       "      <th>0</th>\n",
       "      <td>1</td>\n",
       "      <td>0</td>\n",
       "      <td>3</td>\n",
       "      <td>Braund, Mr. Owen Harris</td>\n",
       "      <td>male</td>\n",
       "      <td>22.0</td>\n",
       "      <td>1</td>\n",
       "      <td>0</td>\n",
       "      <td>A/5 21171</td>\n",
       "      <td>7.2500</td>\n",
       "      <td>NaN</td>\n",
       "      <td>S</td>\n",
       "      <td>0</td>\n",
       "    </tr>\n",
       "    <tr>\n",
       "      <th>1</th>\n",
       "      <td>2</td>\n",
       "      <td>1</td>\n",
       "      <td>1</td>\n",
       "      <td>Cumings, Mrs. John Bradley (Florence Briggs Th...</td>\n",
       "      <td>female</td>\n",
       "      <td>38.0</td>\n",
       "      <td>1</td>\n",
       "      <td>0</td>\n",
       "      <td>PC 17599</td>\n",
       "      <td>71.2833</td>\n",
       "      <td>C85</td>\n",
       "      <td>C</td>\n",
       "      <td>1</td>\n",
       "    </tr>\n",
       "    <tr>\n",
       "      <th>2</th>\n",
       "      <td>3</td>\n",
       "      <td>1</td>\n",
       "      <td>3</td>\n",
       "      <td>Heikkinen, Miss. Laina</td>\n",
       "      <td>female</td>\n",
       "      <td>26.0</td>\n",
       "      <td>0</td>\n",
       "      <td>0</td>\n",
       "      <td>STON/O2. 3101282</td>\n",
       "      <td>7.9250</td>\n",
       "      <td>NaN</td>\n",
       "      <td>S</td>\n",
       "      <td>1</td>\n",
       "    </tr>\n",
       "    <tr>\n",
       "      <th>3</th>\n",
       "      <td>4</td>\n",
       "      <td>1</td>\n",
       "      <td>1</td>\n",
       "      <td>Futrelle, Mrs. Jacques Heath (Lily May Peel)</td>\n",
       "      <td>female</td>\n",
       "      <td>35.0</td>\n",
       "      <td>1</td>\n",
       "      <td>0</td>\n",
       "      <td>113803</td>\n",
       "      <td>53.1000</td>\n",
       "      <td>C123</td>\n",
       "      <td>S</td>\n",
       "      <td>1</td>\n",
       "    </tr>\n",
       "    <tr>\n",
       "      <th>4</th>\n",
       "      <td>5</td>\n",
       "      <td>0</td>\n",
       "      <td>3</td>\n",
       "      <td>Allen, Mr. William Henry</td>\n",
       "      <td>male</td>\n",
       "      <td>35.0</td>\n",
       "      <td>0</td>\n",
       "      <td>0</td>\n",
       "      <td>373450</td>\n",
       "      <td>8.0500</td>\n",
       "      <td>NaN</td>\n",
       "      <td>S</td>\n",
       "      <td>0</td>\n",
       "    </tr>\n",
       "  </tbody>\n",
       "</table>\n",
       "</div>"
      ],
      "text/plain": [
       "   PassengerId  Survived  Pclass  \\\n",
       "0            1         0       3   \n",
       "1            2         1       1   \n",
       "2            3         1       3   \n",
       "3            4         1       1   \n",
       "4            5         0       3   \n",
       "\n",
       "                                                Name     Sex   Age  SibSp  \\\n",
       "0                            Braund, Mr. Owen Harris    male  22.0      1   \n",
       "1  Cumings, Mrs. John Bradley (Florence Briggs Th...  female  38.0      1   \n",
       "2                             Heikkinen, Miss. Laina  female  26.0      0   \n",
       "3       Futrelle, Mrs. Jacques Heath (Lily May Peel)  female  35.0      1   \n",
       "4                           Allen, Mr. William Henry    male  35.0      0   \n",
       "\n",
       "   Parch            Ticket     Fare Cabin Embarked  Binary_sex  \n",
       "0      0         A/5 21171   7.2500   NaN        S           0  \n",
       "1      0          PC 17599  71.2833   C85        C           1  \n",
       "2      0  STON/O2. 3101282   7.9250   NaN        S           1  \n",
       "3      0            113803  53.1000  C123        S           1  \n",
       "4      0            373450   8.0500   NaN        S           0  "
      ]
     },
     "execution_count": 69,
     "metadata": {},
     "output_type": "execute_result"
    }
   ],
   "source": [
    "df_train.head()"
   ]
  },
  {
   "cell_type": "code",
   "execution_count": 70,
   "id": "9f1b39f9",
   "metadata": {},
   "outputs": [
    {
     "data": {
      "text/html": [
       "<div>\n",
       "<style scoped>\n",
       "    .dataframe tbody tr th:only-of-type {\n",
       "        vertical-align: middle;\n",
       "    }\n",
       "\n",
       "    .dataframe tbody tr th {\n",
       "        vertical-align: top;\n",
       "    }\n",
       "\n",
       "    .dataframe thead th {\n",
       "        text-align: right;\n",
       "    }\n",
       "</style>\n",
       "<table border=\"1\" class=\"dataframe\">\n",
       "  <thead>\n",
       "    <tr style=\"text-align: right;\">\n",
       "      <th></th>\n",
       "      <th>PassengerId</th>\n",
       "      <th>Pclass</th>\n",
       "      <th>Name</th>\n",
       "      <th>Sex</th>\n",
       "      <th>Age</th>\n",
       "      <th>SibSp</th>\n",
       "      <th>Parch</th>\n",
       "      <th>Ticket</th>\n",
       "      <th>Fare</th>\n",
       "      <th>Cabin</th>\n",
       "      <th>Embarked</th>\n",
       "      <th>Binary_sex</th>\n",
       "    </tr>\n",
       "  </thead>\n",
       "  <tbody>\n",
       "    <tr>\n",
       "      <th>0</th>\n",
       "      <td>892</td>\n",
       "      <td>3</td>\n",
       "      <td>Kelly, Mr. James</td>\n",
       "      <td>male</td>\n",
       "      <td>34.5</td>\n",
       "      <td>0</td>\n",
       "      <td>0</td>\n",
       "      <td>330911</td>\n",
       "      <td>7.8292</td>\n",
       "      <td>NaN</td>\n",
       "      <td>Q</td>\n",
       "      <td>0</td>\n",
       "    </tr>\n",
       "    <tr>\n",
       "      <th>1</th>\n",
       "      <td>893</td>\n",
       "      <td>3</td>\n",
       "      <td>Wilkes, Mrs. James (Ellen Needs)</td>\n",
       "      <td>female</td>\n",
       "      <td>47.0</td>\n",
       "      <td>1</td>\n",
       "      <td>0</td>\n",
       "      <td>363272</td>\n",
       "      <td>7.0000</td>\n",
       "      <td>NaN</td>\n",
       "      <td>S</td>\n",
       "      <td>1</td>\n",
       "    </tr>\n",
       "    <tr>\n",
       "      <th>2</th>\n",
       "      <td>894</td>\n",
       "      <td>2</td>\n",
       "      <td>Myles, Mr. Thomas Francis</td>\n",
       "      <td>male</td>\n",
       "      <td>62.0</td>\n",
       "      <td>0</td>\n",
       "      <td>0</td>\n",
       "      <td>240276</td>\n",
       "      <td>9.6875</td>\n",
       "      <td>NaN</td>\n",
       "      <td>Q</td>\n",
       "      <td>0</td>\n",
       "    </tr>\n",
       "    <tr>\n",
       "      <th>3</th>\n",
       "      <td>895</td>\n",
       "      <td>3</td>\n",
       "      <td>Wirz, Mr. Albert</td>\n",
       "      <td>male</td>\n",
       "      <td>27.0</td>\n",
       "      <td>0</td>\n",
       "      <td>0</td>\n",
       "      <td>315154</td>\n",
       "      <td>8.6625</td>\n",
       "      <td>NaN</td>\n",
       "      <td>S</td>\n",
       "      <td>0</td>\n",
       "    </tr>\n",
       "    <tr>\n",
       "      <th>4</th>\n",
       "      <td>896</td>\n",
       "      <td>3</td>\n",
       "      <td>Hirvonen, Mrs. Alexander (Helga E Lindqvist)</td>\n",
       "      <td>female</td>\n",
       "      <td>22.0</td>\n",
       "      <td>1</td>\n",
       "      <td>1</td>\n",
       "      <td>3101298</td>\n",
       "      <td>12.2875</td>\n",
       "      <td>NaN</td>\n",
       "      <td>S</td>\n",
       "      <td>1</td>\n",
       "    </tr>\n",
       "  </tbody>\n",
       "</table>\n",
       "</div>"
      ],
      "text/plain": [
       "   PassengerId  Pclass                                          Name     Sex  \\\n",
       "0          892       3                              Kelly, Mr. James    male   \n",
       "1          893       3              Wilkes, Mrs. James (Ellen Needs)  female   \n",
       "2          894       2                     Myles, Mr. Thomas Francis    male   \n",
       "3          895       3                              Wirz, Mr. Albert    male   \n",
       "4          896       3  Hirvonen, Mrs. Alexander (Helga E Lindqvist)  female   \n",
       "\n",
       "    Age  SibSp  Parch   Ticket     Fare Cabin Embarked  Binary_sex  \n",
       "0  34.5      0      0   330911   7.8292   NaN        Q           0  \n",
       "1  47.0      1      0   363272   7.0000   NaN        S           1  \n",
       "2  62.0      0      0   240276   9.6875   NaN        Q           0  \n",
       "3  27.0      0      0   315154   8.6625   NaN        S           0  \n",
       "4  22.0      1      1  3101298  12.2875   NaN        S           1  "
      ]
     },
     "execution_count": 70,
     "metadata": {},
     "output_type": "execute_result"
    }
   ],
   "source": [
    "df_test.head()"
   ]
  },
  {
   "cell_type": "markdown",
   "id": "6e7e407b",
   "metadata": {},
   "source": [
    "**Separa as variáveis (features) independentes e dependente (target) que nosso modelo utilizará para aprender:**"
   ]
  },
  {
   "cell_type": "code",
   "execution_count": 71,
   "id": "d4d61186",
   "metadata": {},
   "outputs": [],
   "source": [
    "x = df_train[new_variables].fillna(-1)\n",
    "y = df_train['Survived']"
   ]
  },
  {
   "cell_type": "code",
   "execution_count": 72,
   "id": "018e4f67",
   "metadata": {},
   "outputs": [
    {
     "data": {
      "text/html": [
       "<div>\n",
       "<style scoped>\n",
       "    .dataframe tbody tr th:only-of-type {\n",
       "        vertical-align: middle;\n",
       "    }\n",
       "\n",
       "    .dataframe tbody tr th {\n",
       "        vertical-align: top;\n",
       "    }\n",
       "\n",
       "    .dataframe thead th {\n",
       "        text-align: right;\n",
       "    }\n",
       "</style>\n",
       "<table border=\"1\" class=\"dataframe\">\n",
       "  <thead>\n",
       "    <tr style=\"text-align: right;\">\n",
       "      <th></th>\n",
       "      <th>Binary_sex</th>\n",
       "      <th>Age</th>\n",
       "      <th>Pclass</th>\n",
       "      <th>SibSp</th>\n",
       "      <th>Parch</th>\n",
       "      <th>Fare</th>\n",
       "    </tr>\n",
       "  </thead>\n",
       "  <tbody>\n",
       "    <tr>\n",
       "      <th>0</th>\n",
       "      <td>0</td>\n",
       "      <td>22.0</td>\n",
       "      <td>3</td>\n",
       "      <td>1</td>\n",
       "      <td>0</td>\n",
       "      <td>7.2500</td>\n",
       "    </tr>\n",
       "    <tr>\n",
       "      <th>1</th>\n",
       "      <td>1</td>\n",
       "      <td>38.0</td>\n",
       "      <td>1</td>\n",
       "      <td>1</td>\n",
       "      <td>0</td>\n",
       "      <td>71.2833</td>\n",
       "    </tr>\n",
       "    <tr>\n",
       "      <th>2</th>\n",
       "      <td>1</td>\n",
       "      <td>26.0</td>\n",
       "      <td>3</td>\n",
       "      <td>0</td>\n",
       "      <td>0</td>\n",
       "      <td>7.9250</td>\n",
       "    </tr>\n",
       "    <tr>\n",
       "      <th>3</th>\n",
       "      <td>1</td>\n",
       "      <td>35.0</td>\n",
       "      <td>1</td>\n",
       "      <td>1</td>\n",
       "      <td>0</td>\n",
       "      <td>53.1000</td>\n",
       "    </tr>\n",
       "    <tr>\n",
       "      <th>4</th>\n",
       "      <td>0</td>\n",
       "      <td>35.0</td>\n",
       "      <td>3</td>\n",
       "      <td>0</td>\n",
       "      <td>0</td>\n",
       "      <td>8.0500</td>\n",
       "    </tr>\n",
       "  </tbody>\n",
       "</table>\n",
       "</div>"
      ],
      "text/plain": [
       "   Binary_sex   Age  Pclass  SibSp  Parch     Fare\n",
       "0           0  22.0       3      1      0   7.2500\n",
       "1           1  38.0       1      1      0  71.2833\n",
       "2           1  26.0       3      0      0   7.9250\n",
       "3           1  35.0       1      1      0  53.1000\n",
       "4           0  35.0       3      0      0   8.0500"
      ]
     },
     "execution_count": 72,
     "metadata": {},
     "output_type": "execute_result"
    }
   ],
   "source": [
    "x.head()"
   ]
  },
  {
   "cell_type": "code",
   "execution_count": 73,
   "id": "0e60b4d3",
   "metadata": {},
   "outputs": [
    {
     "data": {
      "text/plain": [
       "0    0\n",
       "1    1\n",
       "2    1\n",
       "3    1\n",
       "4    0\n",
       "Name: Survived, dtype: int64"
      ]
     },
     "execution_count": 73,
     "metadata": {},
     "output_type": "execute_result"
    }
   ],
   "source": [
    "y.head()"
   ]
  },
  {
   "cell_type": "markdown",
   "id": "73006fc8",
   "metadata": {},
   "source": [
    "**Treina o modelo com o conjunto de dados de treino:**"
   ]
  },
  {
   "cell_type": "code",
   "execution_count": 74,
   "id": "55b931b3",
   "metadata": {},
   "outputs": [
    {
     "data": {
      "text/plain": [
       "RandomForestClassifier(n_jobs=-1, random_state=0)"
      ]
     },
     "execution_count": 74,
     "metadata": {},
     "output_type": "execute_result"
    }
   ],
   "source": [
    "model = RandomForestClassifier(n_estimators=100, n_jobs=-1, random_state=0)\n",
    "model.fit(x, y)"
   ]
  },
  {
   "cell_type": "markdown",
   "id": "cb1ad0b9",
   "metadata": {},
   "source": [
    "**Faz predições com os dados de teste e as novas features:**  \n",
    "Antes de fazer as previsões com os dados de teste vamos:\n",
    " - Configurar quais features serão utilizadas para fazer a previsão;\n",
    " - E preencher os valores ausentes (missing)."
   ]
  },
  {
   "cell_type": "code",
   "execution_count": 75,
   "id": "a1633735",
   "metadata": {},
   "outputs": [],
   "source": [
    "x_test = df_test[new_variables].copy()"
   ]
  },
  {
   "cell_type": "code",
   "execution_count": 76,
   "id": "cb092b43",
   "metadata": {},
   "outputs": [],
   "source": [
    "x_test = x_test.fillna(-1)"
   ]
  },
  {
   "cell_type": "code",
   "execution_count": 77,
   "id": "db4975e8",
   "metadata": {},
   "outputs": [
    {
     "data": {
      "text/html": [
       "<div>\n",
       "<style scoped>\n",
       "    .dataframe tbody tr th:only-of-type {\n",
       "        vertical-align: middle;\n",
       "    }\n",
       "\n",
       "    .dataframe tbody tr th {\n",
       "        vertical-align: top;\n",
       "    }\n",
       "\n",
       "    .dataframe thead th {\n",
       "        text-align: right;\n",
       "    }\n",
       "</style>\n",
       "<table border=\"1\" class=\"dataframe\">\n",
       "  <thead>\n",
       "    <tr style=\"text-align: right;\">\n",
       "      <th></th>\n",
       "      <th>Binary_sex</th>\n",
       "      <th>Age</th>\n",
       "      <th>Pclass</th>\n",
       "      <th>SibSp</th>\n",
       "      <th>Parch</th>\n",
       "      <th>Fare</th>\n",
       "    </tr>\n",
       "  </thead>\n",
       "  <tbody>\n",
       "    <tr>\n",
       "      <th>0</th>\n",
       "      <td>0</td>\n",
       "      <td>34.5</td>\n",
       "      <td>3</td>\n",
       "      <td>0</td>\n",
       "      <td>0</td>\n",
       "      <td>7.8292</td>\n",
       "    </tr>\n",
       "    <tr>\n",
       "      <th>1</th>\n",
       "      <td>1</td>\n",
       "      <td>47.0</td>\n",
       "      <td>3</td>\n",
       "      <td>1</td>\n",
       "      <td>0</td>\n",
       "      <td>7.0000</td>\n",
       "    </tr>\n",
       "    <tr>\n",
       "      <th>2</th>\n",
       "      <td>0</td>\n",
       "      <td>62.0</td>\n",
       "      <td>2</td>\n",
       "      <td>0</td>\n",
       "      <td>0</td>\n",
       "      <td>9.6875</td>\n",
       "    </tr>\n",
       "    <tr>\n",
       "      <th>3</th>\n",
       "      <td>0</td>\n",
       "      <td>27.0</td>\n",
       "      <td>3</td>\n",
       "      <td>0</td>\n",
       "      <td>0</td>\n",
       "      <td>8.6625</td>\n",
       "    </tr>\n",
       "    <tr>\n",
       "      <th>4</th>\n",
       "      <td>1</td>\n",
       "      <td>22.0</td>\n",
       "      <td>3</td>\n",
       "      <td>1</td>\n",
       "      <td>1</td>\n",
       "      <td>12.2875</td>\n",
       "    </tr>\n",
       "  </tbody>\n",
       "</table>\n",
       "</div>"
      ],
      "text/plain": [
       "   Binary_sex   Age  Pclass  SibSp  Parch     Fare\n",
       "0           0  34.5       3      0      0   7.8292\n",
       "1           1  47.0       3      1      0   7.0000\n",
       "2           0  62.0       2      0      0   9.6875\n",
       "3           0  27.0       3      0      0   8.6625\n",
       "4           1  22.0       3      1      1  12.2875"
      ]
     },
     "execution_count": 77,
     "metadata": {},
     "output_type": "execute_result"
    }
   ],
   "source": [
    "x_test.head()"
   ]
  },
  {
   "cell_type": "code",
   "execution_count": 78,
   "id": "c2cf0c99",
   "metadata": {
    "scrolled": true
   },
   "outputs": [
    {
     "data": {
      "text/plain": [
       "array([0, 0, 1, 1, 0, 0, 0, 0, 1, 0, 0, 0, 1, 0, 1, 1, 0, 1, 0, 0, 0, 0,\n",
       "       1, 0, 1, 0, 1, 1, 1, 0, 0, 0, 1, 0, 1, 0, 0, 0, 0, 1, 0, 0, 0, 1,\n",
       "       1, 0, 0, 0, 1, 1, 0, 0, 1, 1, 0, 0, 0, 0, 0, 1, 0, 0, 0, 1, 1, 1,\n",
       "       1, 0, 0, 1, 1, 0, 0, 0, 1, 0, 0, 1, 0, 1, 1, 0, 0, 0, 1, 0, 1, 0,\n",
       "       1, 1, 0, 0, 1, 0, 0, 0, 1, 1, 0, 0, 1, 0, 0, 0, 1, 0, 0, 0, 0, 0,\n",
       "       0, 1, 1, 1, 1, 0, 0, 1, 0, 1, 1, 0, 1, 0, 0, 0, 0, 1, 0, 0, 1, 0,\n",
       "       0, 0, 0, 0, 0, 0, 0, 0, 0, 1, 0, 0, 1, 0, 0, 0, 0, 0, 1, 0, 0, 1,\n",
       "       0, 0, 1, 1, 1, 1, 1, 1, 1, 0, 0, 1, 0, 0, 1, 0, 0, 0, 0, 0, 0, 1,\n",
       "       1, 0, 1, 1, 0, 0, 1, 0, 1, 0, 1, 0, 0, 0, 0, 0, 1, 0, 1, 0, 1, 0,\n",
       "       0, 0, 1, 1, 0, 1, 0, 0, 0, 0, 1, 0, 0, 0, 0, 1, 1, 0, 1, 0, 1, 0,\n",
       "       1, 0, 1, 1, 1, 0, 0, 1, 0, 0, 0, 1, 0, 0, 0, 0, 0, 1, 1, 1, 1, 1,\n",
       "       0, 0, 0, 0, 1, 0, 1, 0, 1, 0, 1, 0, 0, 0, 0, 0, 1, 0, 0, 0, 1, 1,\n",
       "       0, 0, 0, 0, 0, 0, 0, 0, 1, 1, 0, 1, 0, 0, 0, 0, 0, 1, 1, 0, 1, 0,\n",
       "       0, 0, 0, 0, 0, 0, 0, 0, 0, 0, 1, 0, 0, 0, 0, 0, 0, 0, 1, 1, 1, 1,\n",
       "       0, 0, 0, 1, 0, 0, 1, 1, 0, 0, 0, 0, 0, 0, 0, 1, 1, 0, 1, 0, 0, 0,\n",
       "       1, 0, 0, 0, 0, 0, 1, 0, 0, 0, 0, 0, 0, 1, 1, 1, 0, 0, 0, 1, 1, 0,\n",
       "       0, 0, 1, 0, 1, 0, 0, 0, 0, 1, 1, 1, 1, 0, 0, 0, 1, 0, 0, 1, 0, 0,\n",
       "       1, 1, 0, 0, 0, 0, 0, 0, 0, 0, 1, 1, 0, 0, 0, 0, 0, 1, 0, 0, 0, 1,\n",
       "       0, 1, 0, 0, 1, 0, 1, 0, 0, 0, 0, 0, 1, 1, 1, 1, 0, 0, 1, 0, 0, 0])"
      ]
     },
     "execution_count": 78,
     "metadata": {},
     "output_type": "execute_result"
    }
   ],
   "source": [
    "predicted6 = model.predict(x_test)\n",
    "predicted6"
   ]
  },
  {
   "cell_type": "markdown",
   "id": "1b60bbe7",
   "metadata": {},
   "source": [
    "## Prepara os dados novamente para fazer outra submisssão no Kaggle:"
   ]
  },
  {
   "cell_type": "code",
   "execution_count": 80,
   "id": "72c1f59c",
   "metadata": {
    "scrolled": true
   },
   "outputs": [
    {
     "data": {
      "text/plain": [
       "PassengerId\n",
       "892     0\n",
       "893     0\n",
       "894     1\n",
       "895     1\n",
       "896     0\n",
       "       ..\n",
       "1305    0\n",
       "1306    1\n",
       "1307    0\n",
       "1308    0\n",
       "1309    0\n",
       "Name: Survived, Length: 418, dtype: int64"
      ]
     },
     "execution_count": 80,
     "metadata": {},
     "output_type": "execute_result"
    }
   ],
   "source": [
    "# Relaciona o ID do passageiro dos dados de treino com o resultado da nossa previsão\n",
    "sub2 = pd.Series(predicted6, index=test['PassengerId'], name='Survived')\n",
    "sub2"
   ]
  },
  {
   "cell_type": "code",
   "execution_count": 81,
   "id": "72e37c14",
   "metadata": {},
   "outputs": [
    {
     "data": {
      "text/plain": [
       "(418,)"
      ]
     },
     "execution_count": 81,
     "metadata": {},
     "output_type": "execute_result"
    }
   ],
   "source": [
    "# Verifica o as dimensões (shape).\n",
    "sub2.shape"
   ]
  },
  {
   "cell_type": "code",
   "execution_count": 82,
   "id": "e1f41e6f",
   "metadata": {},
   "outputs": [],
   "source": [
    "# Salva o nosso resulta no formato \".csv\".\n",
    "sub.to_csv(\"second_model.csv\", header=True)"
   ]
  },
  {
   "cell_type": "code",
   "execution_count": 83,
   "id": "bf7d2682",
   "metadata": {},
   "outputs": [
    {
     "name": "stdout",
     "output_type": "stream",
     "text": [
      "PassengerId,Survived\r\n",
      "892,0\r\n",
      "893,1\r\n",
      "894,0\r\n",
      "895,1\r\n",
      "896,1\r\n",
      "897,0\r\n",
      "898,1\r\n",
      "899,0\r\n",
      "900,1\r\n",
      "901,0\r\n",
      "902,0\r\n",
      "903,0\r\n",
      "904,1\r\n",
      "905,0\r\n",
      "906,1\r\n",
      "907,1\r\n",
      "908,0\r\n",
      "909,0\r\n",
      "910,1\r\n"
     ]
    }
   ],
   "source": [
    "!head -n20 second_model.csv"
   ]
  },
  {
   "cell_type": "markdown",
   "id": "4694f023",
   "metadata": {},
   "source": [
    "# Resumo\n",
    "\n",
    "- **1° - Pega os dados de treino e teste:**\n",
    "  - Os dados de treino contém a variável target.\n",
    "  - Os dados de teste NÃO contém a variável target.\n",
    "- **2° - Selecione as \"features\" que vamos utilizar para treinar o modelo (dos dados de treino):**\n",
    "  - Variáveis independentes (x).\n",
    "  - Variável dependente (y).\n",
    "- **3° - Divide os dados em:**\n",
    "  - Dados de treino;\n",
    "  - Dados de validação.\n",
    "- **4° - Treina o modelo (com os dados de treino).**\n",
    "- **5° - Faz predições com os dados:**\n",
    "  - Validação;\n",
    "  - Ou teste.\n",
    "- **6° - Valida o modelo (+Cross-Validation)**\n",
    "- **7° - Seleciona os melhores hiperparâmetros (+Cross-Validation)**\n",
    "- **8° - Prepara os dados para enviar para o Kaggle:**\n",
    "  - **Cria uma Series que vai ter:**\n",
    "    - O ID da amostra de teste que nós tentamos prever;\n",
    "    - Previsão, ou seja, qual valor nosso modelo preveu correspondente ao ID.\n"
   ]
  },
  {
   "cell_type": "markdown",
   "id": "d8ed706a",
   "metadata": {},
   "source": [
    "**Rodrigo Leite -** *drigols*"
   ]
  }
 ],
 "metadata": {
  "kernelspec": {
   "display_name": "Python 3",
   "language": "python",
   "name": "python3"
  },
  "language_info": {
   "codemirror_mode": {
    "name": "ipython",
    "version": 3
   },
   "file_extension": ".py",
   "mimetype": "text/x-python",
   "name": "python",
   "nbconvert_exporter": "python",
   "pygments_lexer": "ipython3",
   "version": "3.8.8"
  }
 },
 "nbformat": 4,
 "nbformat_minor": 5
}
